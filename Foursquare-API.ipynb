{
 "cells": [
  {
   "cell_type": "markdown",
   "metadata": {
    "button": false,
    "new_sheet": false,
    "run_control": {
     "read_only": false
    }
   },
   "source": [
    "<a href=\"https://cognitiveclass.ai/?utm_medium=Exinfluencer&utm_source=Exinfluencer&utm_content=000026UJ&utm_term=10006555&utm_id=NA-SkillsNetwork-Channel-SkillsNetworkCoursesIBMDeveloperSkillsNetworkDS0701ESCoursera21685115-2022-01-01\"><img src = \"https://ibm.box.com/shared/static/9gegpsmnsoo25ikkbl4qzlvlyjbgxs5x.png\" width = 400> </a>\n",
    "\n",
    "<h1 align=center><font size = 5>Cómo usar la API de FourSquare con Python</font></h1>\n"
   ]
  },
  {
   "cell_type": "markdown",
   "metadata": {
    "button": false,
    "new_sheet": false,
    "run_control": {
     "read_only": false
    }
   },
   "source": []
  },
  {
   "cell_type": "markdown",
   "metadata": {
    "button": false,
    "new_sheet": false,
    "run_control": {
     "read_only": false
    }
   },
   "source": [
    "## Introducción\n",
    "\n",
    "En este laboratorio usted aprenderá detalladamente a realizar llamadas a la API de FourSquare con distintos propositos. Aprenderá a construir una URL para enviar peticiones a la API para buscar lugares específicos, explorar un sitio en particular, un usuario de FourSquare o alguna referencia geografica, además, podrá obtener los lugares de moda alrededor de alguna locación. También aprederá a usar la librería de visualización Folium para ver los resultados.\n"
   ]
  },
  {
   "cell_type": "markdown",
   "metadata": {
    "button": false,
    "new_sheet": false,
    "run_control": {
     "read_only": false
    }
   },
   "source": [
    "## Indice\n",
    "\n",
    "1.  <a href=\"https://#item1\">Función de Busqueda de la API de Foursquare</a>\n",
    "2.  <a href=\"https://#item2\">Explorar un Lugar</a>\n",
    "3.  <a href=\"https://#item3\">Explorar un Usuario</a>\n",
    "4.  <a href=\"https://#item4\">Función de Exploración de la API de Foursquare</a>\n",
    "5.  <a href=\"https://#item5\">Obtener Lugares de Moda</a>\n"
   ]
  },
  {
   "cell_type": "markdown",
   "metadata": {
    "button": false,
    "new_sheet": false,
    "run_control": {
     "read_only": false
    }
   },
   "source": [
    "### Importar las librerías necesarias\n"
   ]
  },
  {
   "cell_type": "code",
   "execution_count": 1,
   "metadata": {
    "button": false,
    "collapsed": false,
    "jupyter": {
     "outputs_hidden": false
    },
    "new_sheet": false,
    "run_control": {
     "read_only": false
    }
   },
   "outputs": [
    {
     "name": "stdout",
     "output_type": "stream",
     "text": [
      "Collecting geopy\n",
      "  Downloading geopy-2.3.0-py3-none-any.whl (119 kB)\n",
      "\u001b[2K     \u001b[90m━━━━━━━━━━━━━━━━━━━━━━━━━━━━━━━━━━━━━━\u001b[0m \u001b[32m119.8/119.8 kB\u001b[0m \u001b[31m11.4 MB/s\u001b[0m eta \u001b[36m0:00:00\u001b[0m\n",
      "\u001b[?25hCollecting geographiclib<3,>=1.52\n",
      "  Downloading geographiclib-2.0-py3-none-any.whl (40 kB)\n",
      "\u001b[2K     \u001b[90m━━━━━━━━━━━━━━━━━━━━━━━━━━━━━━━━━━━━━━━━\u001b[0m \u001b[32m40.3/40.3 kB\u001b[0m \u001b[31m4.7 MB/s\u001b[0m eta \u001b[36m0:00:00\u001b[0m\n",
      "\u001b[?25hInstalling collected packages: geographiclib, geopy\n",
      "Successfully installed geographiclib-2.0 geopy-2.3.0\n",
      "Collecting folium==0.5.0\n",
      "  Downloading folium-0.5.0.tar.gz (79 kB)\n",
      "\u001b[2K     \u001b[90m━━━━━━━━━━━━━━━━━━━━━━━━━━━━━━━━━━━━━━━━\u001b[0m \u001b[32m79.2/79.2 kB\u001b[0m \u001b[31m8.3 MB/s\u001b[0m eta \u001b[36m0:00:00\u001b[0m\n",
      "\u001b[?25h  Preparing metadata (setup.py) ... \u001b[?25ldone\n",
      "\u001b[?25hRequirement already satisfied: branca in /home/jupyterlab/conda/envs/python/lib/python3.7/site-packages (from folium==0.5.0) (0.6.0)\n",
      "Requirement already satisfied: jinja2 in /home/jupyterlab/conda/envs/python/lib/python3.7/site-packages (from folium==0.5.0) (3.1.2)\n",
      "Requirement already satisfied: requests in /home/jupyterlab/conda/envs/python/lib/python3.7/site-packages (from folium==0.5.0) (2.28.1)\n",
      "Requirement already satisfied: six in /home/jupyterlab/conda/envs/python/lib/python3.7/site-packages (from folium==0.5.0) (1.16.0)\n",
      "Requirement already satisfied: MarkupSafe>=2.0 in /home/jupyterlab/conda/envs/python/lib/python3.7/site-packages (from jinja2->folium==0.5.0) (2.1.1)\n",
      "Requirement already satisfied: charset-normalizer<3,>=2 in /home/jupyterlab/conda/envs/python/lib/python3.7/site-packages (from requests->folium==0.5.0) (2.1.1)\n",
      "Requirement already satisfied: certifi>=2017.4.17 in /home/jupyterlab/conda/envs/python/lib/python3.7/site-packages (from requests->folium==0.5.0) (2022.9.24)\n",
      "Requirement already satisfied: urllib3<1.27,>=1.21.1 in /home/jupyterlab/conda/envs/python/lib/python3.7/site-packages (from requests->folium==0.5.0) (1.26.13)\n",
      "Requirement already satisfied: idna<4,>=2.5 in /home/jupyterlab/conda/envs/python/lib/python3.7/site-packages (from requests->folium==0.5.0) (3.4)\n",
      "Building wheels for collected packages: folium\n",
      "  Building wheel for folium (setup.py) ... \u001b[?25ldone\n",
      "\u001b[?25h  Created wheel for folium: filename=folium-0.5.0-py3-none-any.whl size=76117 sha256=1b6e1c6108ff9373d0c137a259064000112bd7c6d1d0f103a094a0e6a04bfee5\n",
      "  Stored in directory: /home/jupyterlab/.cache/pip/wheels/26/e2/90/e29b0a163b7ca7737dd33fc1ad742b38ff55963d8220013134\n",
      "Successfully built folium\n",
      "Installing collected packages: folium\n",
      "  Attempting uninstall: folium\n",
      "    Found existing installation: folium 0.11.0\n",
      "    Uninstalling folium-0.11.0:\n",
      "      Successfully uninstalled folium-0.11.0\n",
      "Successfully installed folium-0.5.0\n",
      "Folium installed\n",
      "Libraries imported.\n"
     ]
    }
   ],
   "source": [
    "import requests # librería para manejar las solicitudes\n",
    "import pandas as pd # librería para análisis de datos\n",
    "import numpy as np # librería para manejar datos vectorizados\n",
    "import random # librería para generar números aleatorios\n",
    "\n",
    "\n",
    "!pip install geopy\n",
    "from geopy.geocoders import Nominatim # módulo para convertir una dirección en valores de latitud y longitud \n",
    "\n",
    "# librerías para mostrar imágenes \n",
    "from IPython.display import Image \n",
    "from IPython.core.display import HTML \n",
    "    \n",
    "# librería para convertir un archivo json en un dataframe pandas\n",
    "from pandas.io.json import json_normalize\n",
    "\n",
    "\n",
    "! pip install folium==0.5.0\n",
    "import folium # librería para graficar \n",
    "\n",
    "print('Folium installed')\n",
    "print('Libraries imported.')"
   ]
  },
  {
   "cell_type": "markdown",
   "metadata": {
    "button": false,
    "new_sheet": false,
    "run_control": {
     "read_only": false
    }
   },
   "source": [
    "### Definir la Versión y Credenciales de FourSquare\n"
   ]
  },
  {
   "cell_type": "markdown",
   "metadata": {
    "button": false,
    "new_sheet": false,
    "run_control": {
     "read_only": false
    }
   },
   "source": [
    "##### Asegúrese de haber creado una cuenta de desarrollador en FourSquare con las credenciales apropiadas\n"
   ]
  },
  {
   "cell_type": "code",
   "execution_count": 2,
   "metadata": {
    "button": false,
    "collapsed": false,
    "jupyter": {
     "outputs_hidden": false
    },
    "new_sheet": false,
    "run_control": {
     "read_only": false
    }
   },
   "outputs": [
    {
     "name": "stdout",
     "output_type": "stream",
     "text": [
      "Your credentails:\n",
      "CLIENT_ID: 55S2ZJJJVK3T1D1ZDNQLHEAH15HG4AHHMYJZNETKJK5EXKBB\n",
      "CLIENT_SECRET:NRH3ODLT453CFZY2C0P33DJEDKCXROHBNC1OQSMT52ST3TD4\n"
     ]
    }
   ],
   "source": [
    "CLIENT_ID = '55S2ZJJJVK3T1D1ZDNQLHEAH15HG4AHHMYJZNETKJK5EXKBB' # su ID de Foursquare\n",
    "CLIENT_SECRET = 'NRH3ODLT453CFZY2C0P33DJEDKCXROHBNC1OQSMT52ST3TD4' # su Secreto de Cliente de Foursquare\n",
    "VERSION = '20180604'\n",
    "LIMIT = 30\n",
    "print('Your credentails:')\n",
    "print('CLIENT_ID: ' + CLIENT_ID)\n",
    "print('CLIENT_SECRET:' + CLIENT_SECRET)"
   ]
  },
  {
   "cell_type": "markdown",
   "metadata": {
    "button": false,
    "new_sheet": false,
    "run_control": {
     "read_only": false
    }
   },
   "source": []
  },
  {
   "cell_type": "markdown",
   "metadata": {
    "button": false,
    "new_sheet": false,
    "run_control": {
     "read_only": false
    }
   },
   "source": [
    "#### Vamos a suponer que usted esta hospedado en el hotel Conrad. Empecemos por convertir la dirección del hotel en valores de coordenadas dadas por la latitud y la longitud.\n"
   ]
  },
  {
   "cell_type": "markdown",
   "metadata": {},
   "source": [
    "Para definir una instancia del geocoder necesitamos definir un user_agent. Nombraremos a nuestro agente <em>foursquare_agent</em> de la siguiente forma.\n"
   ]
  },
  {
   "cell_type": "code",
   "execution_count": 3,
   "metadata": {
    "button": false,
    "collapsed": false,
    "jupyter": {
     "outputs_hidden": false
    },
    "new_sheet": false,
    "run_control": {
     "read_only": false
    }
   },
   "outputs": [
    {
     "name": "stdout",
     "output_type": "stream",
     "text": [
      "40.7149555 -74.0153365\n"
     ]
    }
   ],
   "source": [
    "address = '102 North End Ave, New York, NY'\n",
    "\n",
    "geolocator = Nominatim(user_agent=\"foursquare_agent\")\n",
    "location = geolocator.geocode(address)\n",
    "latitude = location.latitude\n",
    "longitude = location.longitude\n",
    "print(latitude, longitude)"
   ]
  },
  {
   "cell_type": "markdown",
   "metadata": {
    "button": false,
    "new_sheet": false,
    "run_control": {
     "read_only": false
    }
   },
   "source": []
  },
  {
   "cell_type": "markdown",
   "metadata": {
    "button": false,
    "new_sheet": false,
    "run_control": {
     "read_only": false
    }
   },
   "source": [
    "<a id=\"item1\"></a>\n"
   ]
  },
  {
   "cell_type": "markdown",
   "metadata": {
    "button": false,
    "new_sheet": false,
    "run_control": {
     "read_only": false
    }
   },
   "source": [
    "## 1. Búsqueda por categoría de un lugar específico\n",
    "\n",
    "> `https://api.foursquare.com/v2/venues/`**search**`?client_id=`**CLIENT_ID**`&client_secret=`**CLIENT_SECRET**`&ll=`**LATITUDE**`,`**LONGITUDE**`&v=`**VERSION**`&query=`**QUERY**`&radius=`**RADIUS**`&limit=`**LIMIT**\n"
   ]
  },
  {
   "cell_type": "markdown",
   "metadata": {
    "button": false,
    "new_sheet": false,
    "run_control": {
     "read_only": false
    }
   },
   "source": [
    "#### Supongamos que es la hora de comer y usted desea comida italiana. Vamos a definir una consulta para buscar comida italiana dentro de un radio de 500 metros del hotel Conrad.\n"
   ]
  },
  {
   "cell_type": "code",
   "execution_count": 4,
   "metadata": {
    "button": false,
    "collapsed": false,
    "jupyter": {
     "outputs_hidden": false
    },
    "new_sheet": false,
    "run_control": {
     "read_only": false
    },
    "scrolled": true
   },
   "outputs": [
    {
     "name": "stdout",
     "output_type": "stream",
     "text": [
      "Italian .... OK!\n"
     ]
    }
   ],
   "source": [
    "search_query = 'Italian'\n",
    "radius = 500\n",
    "print(search_query + ' .... OK!')"
   ]
  },
  {
   "cell_type": "code",
   "execution_count": 11,
   "metadata": {},
   "outputs": [],
   "source": [
    "import requests\n",
    "\n",
    "search_query = 'Italian'\n",
    "radius = 500\n",
    "print(search_query + ' .... OK!')"
   ]
  },
  {
   "cell_type": "markdown",
   "metadata": {
    "button": false,
    "new_sheet": false,
    "run_control": {
     "read_only": false
    }
   },
   "source": [
    "#### Definir la URL correspondiente\n"
   ]
  },
  {
   "cell_type": "code",
   "execution_count": 25,
   "metadata": {
    "button": false,
    "collapsed": false,
    "jupyter": {
     "outputs_hidden": false
    },
    "new_sheet": false,
    "run_control": {
     "read_only": false
    }
   },
   "outputs": [
    {
     "data": {
      "text/plain": [
       "'https://api.foursquare.com/v3/places/search?client_id=55S2ZJJJVK3T1D1ZDNQLHEAH15HG4AHHMYJZNETKJK5EXKBB&client_secret=NRH3ODLT453CFZY2C0P33DJEDKCXROHBNC1OQSMT52ST3TD4&ll=40.7149555,-74.0153365&v=20180604&query=Italian&radius=500&limit=30'"
      ]
     },
     "execution_count": 25,
     "metadata": {},
     "output_type": "execute_result"
    }
   ],
   "source": [
    "#url = \"https://api.foursquare.com/v3/places/search?client_id=55S2ZJJJVK3T1D1ZDNQLHEAH15HG4AHHMYJZNETKJK5EXKBB&client_secret=NRH3ODLT453CFZY2C0P33DJEDKCXROHBNC1OQSMT52ST3TD4&v=20180602&||=40.73,-74.01&query=coffee\"\n",
    "url = 'https://api.foursquare.com/v3/places/search?client_id={}&client_secret={}&ll={},{}&v={}&query={}&radius={}&limit={}'.format(CLIENT_ID, CLIENT_SECRET, latitude, longitude, VERSION, search_query, radius, LIMIT)\n",
    "headers = {\n",
    "    \"Accept\": \"application/json\",\n",
    "    \"Authorization\": \"fsq3a5oXiMEiuZYusTTUUGz8CHLfGZvmouDBQSuiyW4QVys=\"\n",
    "}\n",
    "url\n",
    "\n"
   ]
  },
  {
   "cell_type": "markdown",
   "metadata": {
    "button": false,
    "new_sheet": false,
    "run_control": {
     "read_only": false
    }
   },
   "source": [
    "#### Enviar la petición GET y examinar los resultados\n"
   ]
  },
  {
   "cell_type": "code",
   "execution_count": 26,
   "metadata": {
    "button": false,
    "collapsed": false,
    "jupyter": {
     "outputs_hidden": false
    },
    "new_sheet": false,
    "run_control": {
     "read_only": false
    },
    "scrolled": true
   },
   "outputs": [
    {
     "data": {
      "text/plain": [
       "{'results': [{'fsq_id': '4fa862b3e4b0ebff2f749f06',\n",
       "   'categories': [{'id': 13064,\n",
       "     'name': 'Pizzeria',\n",
       "     'icon': {'prefix': 'https://ss3.4sqi.net/img/categories_v2/food/pizza_',\n",
       "      'suffix': '.png'}},\n",
       "    {'id': 13236,\n",
       "     'name': 'Italian Restaurant',\n",
       "     'icon': {'prefix': 'https://ss3.4sqi.net/img/categories_v2/food/italian_',\n",
       "      'suffix': '.png'}}],\n",
       "   'chains': [],\n",
       "   'distance': 58,\n",
       "   'geocodes': {'main': {'latitude': 40.715256, 'longitude': -74.014835},\n",
       "    'roof': {'latitude': 40.715256, 'longitude': -74.014835}},\n",
       "   'link': '/v3/places/4fa862b3e4b0ebff2f749f06',\n",
       "   'location': {'address': '225 Murray St',\n",
       "    'census_block': '360610317033007',\n",
       "    'country': 'US',\n",
       "    'dma': 'New York',\n",
       "    'formatted_address': '225 Murray St, New York, NY 10282',\n",
       "    'locality': 'New York',\n",
       "    'postcode': '10282',\n",
       "    'region': 'NY'},\n",
       "   'name': \"Harry's Italian Pizza Bar\",\n",
       "   'related_places': {},\n",
       "   'timezone': 'America/New_York'},\n",
       "  {'fsq_id': '5d41d093104e90000882db55',\n",
       "   'categories': [{'id': 13236,\n",
       "     'name': 'Italian Restaurant',\n",
       "     'icon': {'prefix': 'https://ss3.4sqi.net/img/categories_v2/food/italian_',\n",
       "      'suffix': '.png'}}],\n",
       "   'chains': [],\n",
       "   'distance': 170,\n",
       "   'geocodes': {'main': {'latitude': 40.713759, 'longitude': -74.014339},\n",
       "    'roof': {'latitude': 40.713759, 'longitude': -74.014339}},\n",
       "   'link': '/v3/places/5d41d093104e90000882db55',\n",
       "   'location': {'census_block': '360610317031002',\n",
       "    'country': 'US',\n",
       "    'cross_street': '',\n",
       "    'dma': 'New York',\n",
       "    'formatted_address': 'New York, NY 10007',\n",
       "    'locality': 'New York',\n",
       "    'postcode': '10007',\n",
       "    'region': 'NY'},\n",
       "   'name': 'Sant Ambroeus',\n",
       "   'related_places': {'parent': {'fsq_id': '4a6fa0abf964a520a4d61fe3',\n",
       "     'name': 'Brookfield Place'}},\n",
       "   'timezone': 'America/New_York'},\n",
       "  {'fsq_id': '556cb8c6498e751e51fbcf41',\n",
       "   'categories': [{'id': 13236,\n",
       "     'name': 'Italian Restaurant',\n",
       "     'icon': {'prefix': 'https://ss3.4sqi.net/img/categories_v2/food/italian_',\n",
       "      'suffix': '.png'}},\n",
       "    {'id': 13334,\n",
       "     'name': 'Sandwich Restaurant',\n",
       "     'icon': {'prefix': 'https://ss3.4sqi.net/img/categories_v2/food/deli_',\n",
       "      'suffix': '.png'}}],\n",
       "   'chains': [],\n",
       "   'distance': 92,\n",
       "   'geocodes': {'main': {'latitude': 40.71447, 'longitude': -74.015939},\n",
       "    'roof': {'latitude': 40.71447, 'longitude': -74.015939}},\n",
       "   'link': '/v3/places/556cb8c6498e751e51fbcf41',\n",
       "   'location': {'address': '250 Vesey St',\n",
       "    'census_block': '360610317031002',\n",
       "    'country': 'US',\n",
       "    'cross_street': 'West St',\n",
       "    'dma': 'New York',\n",
       "    'formatted_address': '250 Vesey St (West St), New York, NY 10080',\n",
       "    'locality': 'New York',\n",
       "    'postcode': '10080',\n",
       "    'region': 'NY'},\n",
       "   'name': 'Parm',\n",
       "   'related_places': {},\n",
       "   'timezone': 'America/New_York'},\n",
       "  {'fsq_id': '3fd66200f964a520aae61ee3',\n",
       "   'categories': [{'id': 13065,\n",
       "     'name': 'Restaurant',\n",
       "     'icon': {'prefix': 'https://ss3.4sqi.net/img/categories_v2/food/default_',\n",
       "      'suffix': '.png'}}],\n",
       "   'chains': [],\n",
       "   'distance': 470,\n",
       "   'geocodes': {'drop_off': {'latitude': 40.717301, 'longitude': -74.010671},\n",
       "    'main': {'latitude': 40.717261, 'longitude': -74.010506},\n",
       "    'roof': {'latitude': 40.717261, 'longitude': -74.010506}},\n",
       "   'link': '/v3/places/3fd66200f964a520aae61ee3',\n",
       "   'location': {'address': '323 Greenwich St',\n",
       "    'address_extended': 'Frnt 1',\n",
       "    'census_block': '360610039003010',\n",
       "    'country': 'US',\n",
       "    'cross_street': 'btw Duane & Reade Sts.',\n",
       "    'dma': 'New York',\n",
       "    'formatted_address': '323 Greenwich St (btw Duane & Reade Sts.), New York, NY 10013',\n",
       "    'locality': 'New York',\n",
       "    'postcode': '10013',\n",
       "    'region': 'NY'},\n",
       "   'name': 'Gigino Trattoria',\n",
       "   'related_places': {},\n",
       "   'timezone': 'America/New_York'},\n",
       "  {'fsq_id': '592b5e9c0ff4f9137e2a8390',\n",
       "   'categories': [{'id': 13025,\n",
       "     'name': 'Wine Bar',\n",
       "     'icon': {'prefix': 'https://ss3.4sqi.net/img/categories_v2/food/winery_',\n",
       "      'suffix': '.png'}},\n",
       "    {'id': 13236,\n",
       "     'name': 'Italian Restaurant',\n",
       "     'icon': {'prefix': 'https://ss3.4sqi.net/img/categories_v2/food/italian_',\n",
       "      'suffix': '.png'}}],\n",
       "   'chains': [],\n",
       "   'distance': 490,\n",
       "   'geocodes': {'drop_off': {'latitude': 40.717441, 'longitude': -74.010434},\n",
       "    'main': {'latitude': 40.717209, 'longitude': -74.010461},\n",
       "    'roof': {'latitude': 40.717209, 'longitude': -74.010461}},\n",
       "   'link': '/v3/places/592b5e9c0ff4f9137e2a8390',\n",
       "   'location': {'address': '190A Duane St',\n",
       "    'census_block': '360610039003010',\n",
       "    'country': 'US',\n",
       "    'cross_street': 'Greenwich',\n",
       "    'dma': 'New York',\n",
       "    'formatted_address': '190A Duane St (Greenwich), New York, NY 10013',\n",
       "    'locality': 'New York',\n",
       "    'postcode': '10013',\n",
       "    'region': 'NY'},\n",
       "   'name': \"L' Angolo Tribeca\",\n",
       "   'related_places': {},\n",
       "   'timezone': 'America/New_York'},\n",
       "  {'fsq_id': '60eda733a7ddae4973db6ee8',\n",
       "   'categories': [{'id': 13236,\n",
       "     'name': 'Italian Restaurant',\n",
       "     'icon': {'prefix': 'https://ss3.4sqi.net/img/categories_v2/food/italian_',\n",
       "      'suffix': '.png'}},\n",
       "    {'id': 13334,\n",
       "     'name': 'Sandwich Restaurant',\n",
       "     'icon': {'prefix': 'https://ss3.4sqi.net/img/categories_v2/food/deli_',\n",
       "      'suffix': '.png'}}],\n",
       "   'chains': [],\n",
       "   'distance': 181,\n",
       "   'geocodes': {'main': {'latitude': 40.713999, 'longitude': -74.015814}},\n",
       "   'link': '/v3/places/60eda733a7ddae4973db6ee8',\n",
       "   'location': {'address': '250 Vesey St',\n",
       "    'census_block': '360610317031002',\n",
       "    'country': 'US',\n",
       "    'cross_street': 'Suite 107B',\n",
       "    'dma': 'New York',\n",
       "    'formatted_address': '250 Vesey St (Suite 107B), New York, NY 10281',\n",
       "    'locality': 'New York',\n",
       "    'postcode': '10281',\n",
       "    'region': 'NY'},\n",
       "   'name': 'Cicci Di Carne',\n",
       "   'related_places': {},\n",
       "   'timezone': 'America/New_York'},\n",
       "  {'fsq_id': '621bd89fdda85a16a2075f0c',\n",
       "   'categories': [{'id': 13064,\n",
       "     'name': 'Pizzeria',\n",
       "     'icon': {'prefix': 'https://ss3.4sqi.net/img/categories_v2/food/pizza_',\n",
       "      'suffix': '.png'}}],\n",
       "   'chains': [],\n",
       "   'distance': 288,\n",
       "   'geocodes': {'main': {'latitude': 40.712365, 'longitude': -74.015102}},\n",
       "   'link': '/v3/places/621bd89fdda85a16a2075f0c',\n",
       "   'location': {'address': '225 Liberty St',\n",
       "    'census_block': '360610317031002',\n",
       "    'country': 'US',\n",
       "    'cross_street': '',\n",
       "    'dma': 'New York',\n",
       "    'formatted_address': '225 Liberty St, New York, NY 10281',\n",
       "    'locality': 'New York',\n",
       "    'postcode': '10281',\n",
       "    'region': 'NY'},\n",
       "   'name': 'Sauce pizzeria',\n",
       "   'related_places': {'parent': {'fsq_id': '4a6fa0abf964a520a4d61fe3',\n",
       "     'name': 'Brookfield Place'}},\n",
       "   'timezone': 'America/New_York'},\n",
       "  {'fsq_id': '4dda977ad22d38ef4332c419',\n",
       "   'categories': [{'id': 13031,\n",
       "     'name': 'Burger Joint',\n",
       "     'icon': {'prefix': 'https://ss3.4sqi.net/img/categories_v2/food/burger_',\n",
       "      'suffix': '.png'}},\n",
       "    {'id': 13068,\n",
       "     'name': 'American Restaurant',\n",
       "     'icon': {'prefix': 'https://ss3.4sqi.net/img/categories_v2/food/default_',\n",
       "      'suffix': '.png'}},\n",
       "    {'id': 13145,\n",
       "     'name': 'Fast Food Restaurant',\n",
       "     'icon': {'prefix': 'https://ss3.4sqi.net/img/categories_v2/food/fastfood_',\n",
       "      'suffix': '.png'}}],\n",
       "   'chains': [{'id': '77b71837-2819-4b77-ab68-432d34f58531',\n",
       "     'name': 'Shake Shack'}],\n",
       "   'distance': 64,\n",
       "   'geocodes': {'main': {'latitude': 40.715146, 'longitude': -74.014918},\n",
       "    'roof': {'latitude': 40.715146, 'longitude': -74.014918}},\n",
       "   'link': '/v3/places/4dda977ad22d38ef4332c419',\n",
       "   'location': {'address': '215 Murray St',\n",
       "    'address_extended': '# A',\n",
       "    'census_block': '360610317033007',\n",
       "    'country': 'US',\n",
       "    'cross_street': 'btwn West St & North End Ave',\n",
       "    'dma': 'New York',\n",
       "    'formatted_address': '215 Murray St (btwn West St & North End Ave), New York, NY 10282',\n",
       "    'locality': 'New York',\n",
       "    'postcode': '10282',\n",
       "    'region': 'NY'},\n",
       "   'name': 'Shake Shack',\n",
       "   'related_places': {},\n",
       "   'timezone': 'America/New_York'},\n",
       "  {'fsq_id': 'd462e1585b104ed413c3292d',\n",
       "   'categories': [{'id': 13236,\n",
       "     'name': 'Italian Restaurant',\n",
       "     'icon': {'prefix': 'https://ss3.4sqi.net/img/categories_v2/food/italian_',\n",
       "      'suffix': '.png'}}],\n",
       "   'chains': [],\n",
       "   'distance': 434,\n",
       "   'geocodes': {'main': {'latitude': 40.716344, 'longitude': -74.010514},\n",
       "    'roof': {'latitude': 40.716344, 'longitude': -74.010514}},\n",
       "   'link': '/v3/places/d462e1585b104ed413c3292d',\n",
       "   'location': {'address': '147 Chambers St',\n",
       "    'census_block': '360610021003000',\n",
       "    'country': 'US',\n",
       "    'dma': 'New York',\n",
       "    'formatted_address': '147 Chambers St, New York, NY 10007',\n",
       "    'locality': 'New York',\n",
       "    'postcode': '10007',\n",
       "    'region': 'NY'},\n",
       "   'name': 'iPizzaNY',\n",
       "   'related_places': {}},\n",
       "  {'fsq_id': '4a6fa0abf964a520a4d61fe3',\n",
       "   'categories': [{'id': 17114,\n",
       "     'name': 'Shopping Mall',\n",
       "     'icon': {'prefix': 'https://ss3.4sqi.net/img/categories_v2/shops/mall_',\n",
       "      'suffix': '.png'}}],\n",
       "   'chains': [],\n",
       "   'distance': 190,\n",
       "   'geocodes': {'main': {'latitude': 40.713927, 'longitude': -74.016092},\n",
       "    'roof': {'latitude': 40.713927, 'longitude': -74.016092}},\n",
       "   'link': '/v3/places/4a6fa0abf964a520a4d61fe3',\n",
       "   'location': {'address': '230 Vesey St',\n",
       "    'census_block': '360610317031002',\n",
       "    'country': 'US',\n",
       "    'cross_street': 'at West St',\n",
       "    'dma': 'New York',\n",
       "    'formatted_address': '230 Vesey St (at West St), New York, NY 10281',\n",
       "    'locality': 'New York',\n",
       "    'postcode': '10281',\n",
       "    'region': 'NY'},\n",
       "   'name': 'Brookfield Place',\n",
       "   'related_places': {'children': [{'fsq_id': '5af9c42a3af988002cbcfad9',\n",
       "      'name': 'UNTUCKit'},\n",
       "     {'fsq_id': '56687c17498ecf4c218c2498',\n",
       "      'name': 'Zegna Boutique (Brookfield Place)'},\n",
       "     {'fsq_id': '5de2c23deee5510007cb8aee', 'name': 'Monica + Andy'},\n",
       "     {'fsq_id': '572ff2a9498e935b416e43a2', 'name': 'Louise les Glaces'},\n",
       "     {'fsq_id': '56c1d62fcd1039b13cccc917',\n",
       "      'name': 'Professional Physical Therapy'},\n",
       "     {'fsq_id': '4af33dfbf964a5200eec21e3',\n",
       "      'name': 'Cobbler Express Shoe Repair'},\n",
       "     {'fsq_id': '55f96325498e598703efcb6f', 'name': 'Hermes Parfumerie'},\n",
       "     {'fsq_id': '5845c05494c6901d8d7667eb', 'name': 'Jo Malone'},\n",
       "     {'fsq_id': '5965063b5c68382713f47967', 'name': 'Club Monaco'},\n",
       "     {'fsq_id': '5b934d56598e64002cfe7889', 'name': 'J. Crew Office'},\n",
       "     {'fsq_id': '5515f203498e237bfc7046a7', 'name': 'J.Crew'},\n",
       "     {'fsq_id': '5919fa8228122f3528da8997', 'name': 'Suitsupply'},\n",
       "     {'fsq_id': '4f0da983e4b07f0a57521421', 'name': 'RBC Capital Markets'},\n",
       "     {'fsq_id': '5accb33d2c7eb96824340d53', 'name': 'Seamore’s'},\n",
       "     {'fsq_id': '561832e5498ebfb434454ef2', 'name': 'OMEGA Boutique'},\n",
       "     {'fsq_id': '594301c89411f241f5b6a2ee', 'name': \"Del Frisco's Grille\"},\n",
       "     {'fsq_id': '56918e5a498e8bc0330141c0', 'name': 'The New Stand'},\n",
       "     {'fsq_id': '5dba113267232c000803cb37',\n",
       "      'name': 'For Five Coffee Roasters'},\n",
       "     {'fsq_id': '566b5f9d498e745212f6d6b3', 'name': 'Luminaries'},\n",
       "     {'fsq_id': '5bff3ead2b9844002cb96452', 'name': 'Madewell'},\n",
       "     {'fsq_id': '598cde535d0fea7b17da29bd', 'name': 'Dogumenta'},\n",
       "     {'fsq_id': '4e1b25a162e180a4848c4116', 'name': 'WFC Courtyard'},\n",
       "     {'fsq_id': '4c60134654ac0f47c0b2b421', 'name': 'Bank of America'},\n",
       "     {'fsq_id': '5d41d093104e90000882db55', 'name': 'Sant Ambroeus'},\n",
       "     {'fsq_id': '56802dd1498ecedae4b17730', 'name': 'Davidoff of Geneva'},\n",
       "     {'fsq_id': '5e14a9946fab51000717516c', 'name': 'New York Magazine'},\n",
       "     {'fsq_id': '5658e33c498e3f291fa1a43f', 'name': 'Satya Jewelry'},\n",
       "     {'fsq_id': '4d2f0e2dd9d8a1432f70ffd7',\n",
       "      'name': 'Heidi Jo Kapoor American Express Travel Related Services'},\n",
       "     {'fsq_id': '5675b3fa498eafd413130732',\n",
       "      'name': 'Drybar - Brookfield Place'},\n",
       "     {'fsq_id': '55889c02498e48f6692b4be2', 'name': 'Salvatore Ferragamo'},\n",
       "     {'fsq_id': '592874b81213840bd9c14083', 'name': 'Havaianas'},\n",
       "     {'fsq_id': '5362a2ae498e3b18c22334be', 'name': 'Hudson Eats'},\n",
       "     {'fsq_id': '59fd30d791eaca61143b0caf', 'name': 'Louis Vuitton'},\n",
       "     {'fsq_id': '594bfb28112c6c523a02f4ed', 'name': 'Allen Edmonds'},\n",
       "     {'fsq_id': '4ceab88bbaa6a1cd639c3a6c', 'name': 'Merill Lynch'},\n",
       "     {'fsq_id': '5a3ff7aff0b49021d3bbc330', 'name': 'Hickey Freeman'},\n",
       "     {'fsq_id': '5622870c498e6a92d5ad69eb', 'name': 'Theory Brookfield'},\n",
       "     {'fsq_id': '4ce41f161594236ac316fb49', 'name': 'Starbucks'},\n",
       "     {'fsq_id': '611d991cd1ed4f5a46a2558e', 'name': 'The Bungalow'},\n",
       "     {'fsq_id': '4ae74e0bf964a52036aa21e3', 'name': \"Diamond's Hallmark\"},\n",
       "     {'fsq_id': '5fa097e0c454d66b3c14b50e',\n",
       "      'name': 'Carbon Health Virtual Care'},\n",
       "     {'fsq_id': '55a19208498ee495c38658a5',\n",
       "      'name': 'Institute of Culinary Education'},\n",
       "     {'fsq_id': '4f480198e4b0525939c307a6', 'name': 'Jane Street Capital'},\n",
       "     {'fsq_id': '552c49e9498e4486dd6202b3', 'name': 'Lululemon Athletica'},\n",
       "     {'fsq_id': '5cd15dc59d7468003903fe8a', 'name': 'Amazon Go'},\n",
       "     {'fsq_id': '5b61da4aa4ba7c002c3003a0', 'name': 'La Maison Du Chocolat'},\n",
       "     {'fsq_id': '4c753258db52b1f711fd77dc', 'name': 'Brookfield Operations'},\n",
       "     {'fsq_id': '5ac77e57c0af5775e84d65e7', 'name': 'Techolution'},\n",
       "     {'fsq_id': '61686dee8b400716f1c58dd1', 'name': 'Clean Market'},\n",
       "     {'fsq_id': '62ccb7f3422a875f9507d8d3', 'name': 'Portside'},\n",
       "     {'fsq_id': '5c17a112b1538e002c1793e8',\n",
       "      'name': 'American Express Gift Card Shop Pop-up'},\n",
       "     {'fsq_id': '5bd22580b1538e002ca87d64', 'name': 'B8ta'},\n",
       "     {'fsq_id': '4ead6837b8f765aba14d35fd', 'name': 'Pier 46'},\n",
       "     {'fsq_id': '55148c66498e987ed9d8e394', 'name': 'Le District'},\n",
       "     {'fsq_id': '54fa19c5498e4db367465b2d', 'name': 'Bonobos'},\n",
       "     {'fsq_id': '4a0b04dcf964a520ba741fe3',\n",
       "      'name': 'Waterfront Plaza, Brookfield Place'},\n",
       "     {'fsq_id': '541a2341498e51ce1037963a',\n",
       "      'name': 'Equinox Brookfield Place'},\n",
       "     {'fsq_id': '56377427498ef690cfe35b1a', 'name': 'Time'},\n",
       "     {'fsq_id': '5dba10a067232c000802ca25', 'name': 'Convene'},\n",
       "     {'fsq_id': '54b94d05498e5ac87c016e48', 'name': 'Diane Von Furstenberg'},\n",
       "     {'fsq_id': '4cb850f64c60a0934adc37ca',\n",
       "      'name': 'World Financial Center Florist'},\n",
       "     {'fsq_id': '6144edb93ddc4d5a28dd8b13', 'name': 'Adam Groming Atelier'},\n",
       "     {'fsq_id': '5f65030c6a3db64487687287', 'name': 'Rhone'},\n",
       "     {'fsq_id': '564f3c88498ec41abeceef06', 'name': 'Gucci'},\n",
       "     {'fsq_id': '4e0c7e937d8bfe35bbc21b25',\n",
       "      'name': 'American Express Employee Town Hall'},\n",
       "     {'fsq_id': '5f4bf912e202011fc38b19b1', 'name': 'Liberty Bistro'},\n",
       "     {'fsq_id': '5514a437498eb5350a409cbf', 'name': 'Tory Burch'}]},\n",
       "   'timezone': 'America/New_York'},\n",
       "  {'fsq_id': '3a083b30a7744cb94f3fe6da',\n",
       "   'categories': [{'id': 13064,\n",
       "     'name': 'Pizzeria',\n",
       "     'icon': {'prefix': 'https://ss3.4sqi.net/img/categories_v2/food/pizza_',\n",
       "      'suffix': '.png'}},\n",
       "    {'id': 13236,\n",
       "     'name': 'Italian Restaurant',\n",
       "     'icon': {'prefix': 'https://ss3.4sqi.net/img/categories_v2/food/italian_',\n",
       "      'suffix': '.png'}}],\n",
       "   'chains': [],\n",
       "   'distance': 463,\n",
       "   'geocodes': {'main': {'latitude': 40.715921, 'longitude': -74.009982}},\n",
       "   'link': '/v3/places/3a083b30a7744cb94f3fe6da',\n",
       "   'location': {'address': '147 Chambers St',\n",
       "    'census_block': '360610021003000',\n",
       "    'country': 'US',\n",
       "    'dma': 'New York',\n",
       "    'formatted_address': '147 Chambers St, New York, NY 10007',\n",
       "    'locality': 'New York',\n",
       "    'postcode': '10007',\n",
       "    'region': 'NY'},\n",
       "   'name': 'Amore Pizza Restaurant',\n",
       "   'related_places': {}},\n",
       "  {'fsq_id': '4efd1635f790570bcf88cbfd',\n",
       "   'categories': [{'id': 13026,\n",
       "     'name': 'BBQ Joint',\n",
       "     'icon': {'prefix': 'https://ss3.4sqi.net/img/categories_v2/food/bbqalt_',\n",
       "      'suffix': '.png'}},\n",
       "    {'id': 13068,\n",
       "     'name': 'American Restaurant',\n",
       "     'icon': {'prefix': 'https://ss3.4sqi.net/img/categories_v2/food/default_',\n",
       "      'suffix': '.png'}}],\n",
       "   'chains': [],\n",
       "   'distance': 34,\n",
       "   'geocodes': {'main': {'latitude': 40.714645, 'longitude': -74.015466},\n",
       "    'roof': {'latitude': 40.714645, 'longitude': -74.015466}},\n",
       "   'link': '/v3/places/4efd1635f790570bcf88cbfd',\n",
       "   'location': {'address': '255 Vesey St',\n",
       "    'census_block': '360610317033007',\n",
       "    'country': 'US',\n",
       "    'cross_street': 'btwn West & North End Ave',\n",
       "    'dma': 'New York',\n",
       "    'formatted_address': '255 Vesey St (btwn West & North End Ave), New York, NY 10282',\n",
       "    'locality': 'New York',\n",
       "    'postcode': '10282',\n",
       "    'region': 'NY'},\n",
       "   'name': 'Blue Smoke',\n",
       "   'related_places': {},\n",
       "   'timezone': 'America/New_York'},\n",
       "  {'fsq_id': '52e2f72a498e1de9bce745b0',\n",
       "   'categories': [{'id': 13068,\n",
       "     'name': 'American Restaurant',\n",
       "     'icon': {'prefix': 'https://ss3.4sqi.net/img/categories_v2/food/default_',\n",
       "      'suffix': '.png'}},\n",
       "    {'id': 13305,\n",
       "     'name': 'Burrito Restaurant',\n",
       "     'icon': {'prefix': 'https://ss3.4sqi.net/img/categories_v2/food/burrito_',\n",
       "      'suffix': '.png'}},\n",
       "    {'id': 13306,\n",
       "     'name': 'Taco Restaurant',\n",
       "     'icon': {'prefix': 'https://ss3.4sqi.net/img/categories_v2/food/taco_',\n",
       "      'suffix': '.png'}}],\n",
       "   'chains': [],\n",
       "   'distance': 35,\n",
       "   'geocodes': {'main': {'latitude': 40.714645, 'longitude': -74.015466},\n",
       "    'roof': {'latitude': 40.714645, 'longitude': -74.015466}},\n",
       "   'link': '/v3/places/52e2f72a498e1de9bce745b0',\n",
       "   'location': {'address': '259 Vesey St',\n",
       "    'census_block': '360610317033007',\n",
       "    'country': 'US',\n",
       "    'cross_street': 'North End Avenue',\n",
       "    'dma': 'New York',\n",
       "    'formatted_address': '259 Vesey St (North End Avenue), New York, NY 10282',\n",
       "    'locality': 'New York',\n",
       "    'postcode': '10282',\n",
       "    'region': 'NY'},\n",
       "   'name': 'El Vez',\n",
       "   'related_places': {'children': [{'fsq_id': '5e3c6022589f8a000701e0e5',\n",
       "      'name': 'Jackass Burrito'},\n",
       "     {'fsq_id': '61d096aaf4fcf1513fe8bcdb', 'name': 'Jackass Burrito'}]},\n",
       "   'timezone': 'America/New_York'},\n",
       "  {'fsq_id': '5362a2ae498e3b18c22334be',\n",
       "   'categories': [{'id': 13052,\n",
       "     'name': 'Food Court',\n",
       "     'icon': {'prefix': 'https://ss3.4sqi.net/img/categories_v2/shops/food_foodcourt_',\n",
       "      'suffix': '.png'}}],\n",
       "   'chains': [],\n",
       "   'distance': 258,\n",
       "   'geocodes': {'main': {'latitude': 40.712696, 'longitude': -74.015737},\n",
       "    'roof': {'latitude': 40.712696, 'longitude': -74.015737}},\n",
       "   'link': '/v3/places/5362a2ae498e3b18c22334be',\n",
       "   'location': {'address': '225 Liberty St',\n",
       "    'census_block': '360610317031002',\n",
       "    'country': 'US',\n",
       "    'cross_street': 'at S End Ave',\n",
       "    'dma': 'New York',\n",
       "    'formatted_address': '225 Liberty St (at S End Ave), New York, NY 10281',\n",
       "    'locality': 'New York',\n",
       "    'postcode': '10281',\n",
       "    'region': 'NY'},\n",
       "   'name': 'Hudson Eats',\n",
       "   'related_places': {'parent': {'fsq_id': '4a6fa0abf964a520a4d61fe3',\n",
       "     'name': 'Brookfield Place'},\n",
       "    'children': [{'fsq_id': '61a8194f57a7ea45c0a08d71', 'name': 'Naya'},\n",
       "     {'fsq_id': '536937d4498e999c655b37c7', 'name': 'Num Pang Sandwich Shop'},\n",
       "     {'fsq_id': '538df67d498e8697475982ee', 'name': \"Olive's\"},\n",
       "     {'fsq_id': '621bd89fdda85a16a2075f0c', 'name': 'Sauce pizzeria'},\n",
       "     {'fsq_id': '538a25cb498e3f763f518ab2', 'name': \"Mighty Quinn's Barbeque\"},\n",
       "     {'fsq_id': '538e0830498ef7fef432f005', 'name': 'Chopt'},\n",
       "     {'fsq_id': '538df811498ed4e0c93f2dca', 'name': 'Skinny Pizza'},\n",
       "     {'fsq_id': '53910122498ebdced55ff0ee', 'name': 'Umami Burger'},\n",
       "     {'fsq_id': '535fc0ea498e4a159c49f7b1', 'name': 'Dig'},\n",
       "     {'fsq_id': '53d3f607498edfb90a15baf5', 'name': 'Blue Ribbon Sushi Bar'},\n",
       "     {'fsq_id': '538f006c498e248f6fce912f', 'name': 'Black Seed Bagels'},\n",
       "     {'fsq_id': '538ca330498ec4962f4fa60b', 'name': 'Dos Toros Taqueria'}]},\n",
       "   'timezone': 'America/New_York'},\n",
       "  {'fsq_id': '4f0c7c106d866af8d40ae337',\n",
       "   'categories': [{'id': 13068,\n",
       "     'name': 'American Restaurant',\n",
       "     'icon': {'prefix': 'https://ss3.4sqi.net/img/categories_v2/food/default_',\n",
       "      'suffix': '.png'}},\n",
       "    {'id': 13148,\n",
       "     'name': 'French Restaurant',\n",
       "     'icon': {'prefix': 'https://ss3.4sqi.net/img/categories_v2/food/french_',\n",
       "      'suffix': '.png'}},\n",
       "    {'id': 13302,\n",
       "     'name': 'Mediterranean Restaurant',\n",
       "     'icon': {'prefix': 'https://ss3.4sqi.net/img/categories_v2/food/mediterranean_',\n",
       "      'suffix': '.png'}}],\n",
       "   'chains': [],\n",
       "   'distance': 21,\n",
       "   'geocodes': {'main': {'latitude': 40.714904, 'longitude': -74.015869},\n",
       "    'roof': {'latitude': 40.714904, 'longitude': -74.015869}},\n",
       "   'link': '/v3/places/4f0c7c106d866af8d40ae337',\n",
       "   'location': {'address': '102 N End Ave',\n",
       "    'census_block': '360610317033007',\n",
       "    'country': 'US',\n",
       "    'cross_street': 'btwn Murray and Vesey',\n",
       "    'dma': 'New York',\n",
       "    'formatted_address': '102 N End Ave (btwn Murray and Vesey), New York, NY 10282',\n",
       "    'locality': 'New York',\n",
       "    'postcode': '10282',\n",
       "    'region': 'NY'},\n",
       "   'name': 'Atrio',\n",
       "   'related_places': {'parent': {'fsq_id': '4f22ca77e4b0ed3396a83a05',\n",
       "     'name': 'Conrad New York Downtown'}},\n",
       "   'timezone': 'America/New_York'},\n",
       "  {'fsq_id': '49bc3b0af964a52020541fe3',\n",
       "   'categories': [{'id': 17069,\n",
       "     'name': 'Grocery Store / Supermarket',\n",
       "     'icon': {'prefix': 'https://ss3.4sqi.net/img/categories_v2/shops/food_grocery_',\n",
       "      'suffix': '.png'}}],\n",
       "   'chains': [{'id': 'c356152c-f98c-4c43-8a1e-1d16cc9ea1c8',\n",
       "     'name': 'Whole Foods'}],\n",
       "   'distance': 341,\n",
       "   'geocodes': {'main': {'latitude': 40.715456, 'longitude': -74.011439},\n",
       "    'roof': {'latitude': 40.715456, 'longitude': -74.011439}},\n",
       "   'link': '/v3/places/49bc3b0af964a52020541fe3',\n",
       "   'location': {'address': '270 Greenwich St',\n",
       "    'address_extended': 'Frnt 4',\n",
       "    'census_block': '360610021004001',\n",
       "    'country': 'US',\n",
       "    'cross_street': 'at Warren St',\n",
       "    'dma': 'New York',\n",
       "    'formatted_address': '270 Greenwich St (at Warren St), New York, NY 10007',\n",
       "    'locality': 'New York',\n",
       "    'postcode': '10007',\n",
       "    'region': 'NY'},\n",
       "   'name': 'Whole Foods',\n",
       "   'related_places': {'children': [{'fsq_id': '5d0188c325ecca002c0eaac5',\n",
       "      'name': 'Dish & Saucery'},\n",
       "     {'fsq_id': '5afae2859ba3e5002cbcfc32',\n",
       "      'name': 'Amazon Locker - Tribeca'}]},\n",
       "   'timezone': 'America/New_York'},\n",
       "  {'fsq_id': '95e98b4cb7e64cfc140c5d29',\n",
       "   'categories': [{'id': 13099,\n",
       "     'name': 'Chinese Restaurant',\n",
       "     'icon': {'prefix': 'https://ss3.4sqi.net/img/categories_v2/food/asian_',\n",
       "      'suffix': '.png'}},\n",
       "    {'id': 13236,\n",
       "     'name': 'Italian Restaurant',\n",
       "     'icon': {'prefix': 'https://ss3.4sqi.net/img/categories_v2/food/italian_',\n",
       "      'suffix': '.png'}},\n",
       "    {'id': 13347,\n",
       "     'name': 'Tapas Restaurant',\n",
       "     'icon': {'prefix': 'https://ss3.4sqi.net/img/categories_v2/food/tapas_',\n",
       "      'suffix': '.png'}}],\n",
       "   'chains': [],\n",
       "   'distance': 59,\n",
       "   'geocodes': {'main': {'latitude': 40.715258, 'longitude': -74.014748},\n",
       "    'roof': {'latitude': 40.715258, 'longitude': -74.014748}},\n",
       "   'link': '/v3/places/95e98b4cb7e64cfc140c5d29',\n",
       "   'location': {'address': '222 Murray St',\n",
       "    'census_block': '360610317033007',\n",
       "    'country': 'US',\n",
       "    'dma': 'New York',\n",
       "    'formatted_address': '222 Murray St, New York, NY 10282',\n",
       "    'locality': 'New York',\n",
       "    'postcode': '10282',\n",
       "    'region': 'NY'},\n",
       "   'name': 'Global Cuisine',\n",
       "   'related_places': {}},\n",
       "  {'fsq_id': '49f9a233f964a5207d6d1fe3',\n",
       "   'categories': [{'id': 10035,\n",
       "     'name': 'Performing Arts Venue',\n",
       "     'icon': {'prefix': 'https://ss3.4sqi.net/img/categories_v2/arts_entertainment/performingarts_',\n",
       "      'suffix': '.png'}}],\n",
       "   'chains': [],\n",
       "   'distance': 187,\n",
       "   'geocodes': {'main': {'latitude': 40.713192, 'longitude': -74.015364},\n",
       "    'roof': {'latitude': 40.713192, 'longitude': -74.015364}},\n",
       "   'link': '/v3/places/49f9a233f964a5207d6d1fe3',\n",
       "   'location': {'address': 'World Financial Center - Belford/Harbor Way, Nueva York, 10006, EE UU',\n",
       "    'census_block': '360610317031002',\n",
       "    'country': 'US',\n",
       "    'cross_street': 'btwn West St & N End Ave',\n",
       "    'dma': 'New York',\n",
       "    'formatted_address': 'World Financial Center - Belford/Harbor Way, Nueva York, 10006, EE UU (btwn West St & N End Ave), New York, NY 10280',\n",
       "    'locality': 'New York',\n",
       "    'postcode': '10280',\n",
       "    'region': 'NY'},\n",
       "   'name': 'Winter Garden Atrium',\n",
       "   'related_places': {'children': []},\n",
       "   'timezone': 'America/New_York'},\n",
       "  {'fsq_id': '535fc0ea498e4a159c49f7b1',\n",
       "   'categories': [{'id': 13068,\n",
       "     'name': 'American Restaurant',\n",
       "     'icon': {'prefix': 'https://ss3.4sqi.net/img/categories_v2/food/default_',\n",
       "      'suffix': '.png'}}],\n",
       "   'chains': [],\n",
       "   'distance': 321,\n",
       "   'geocodes': {'main': {'latitude': 40.711846, 'longitude': -74.015267},\n",
       "    'roof': {'latitude': 40.711846, 'longitude': -74.015267}},\n",
       "   'link': '/v3/places/535fc0ea498e4a159c49f7b1',\n",
       "   'location': {'address': '225 Liberty St',\n",
       "    'census_block': '360610317031002',\n",
       "    'country': 'US',\n",
       "    'cross_street': 'at Hudson Eats',\n",
       "    'dma': 'New York',\n",
       "    'formatted_address': '225 Liberty St (at Hudson Eats), New York, NY 10281',\n",
       "    'locality': 'New York',\n",
       "    'postcode': '10281',\n",
       "    'region': 'NY'},\n",
       "   'name': 'Dig',\n",
       "   'related_places': {'parent': {'fsq_id': '5362a2ae498e3b18c22334be',\n",
       "     'name': 'Hudson Eats'}},\n",
       "   'timezone': 'America/New_York'},\n",
       "  {'fsq_id': '4a4baaf8f964a52091ac1fe3',\n",
       "   'categories': [{'id': 13001,\n",
       "     'name': 'Bagel Shop',\n",
       "     'icon': {'prefix': 'https://ss3.4sqi.net/img/categories_v2/food/bagels_',\n",
       "      'suffix': '.png'}}],\n",
       "   'chains': [],\n",
       "   'distance': 467,\n",
       "   'geocodes': {'main': {'latitude': 40.715609, 'longitude': -74.009786},\n",
       "    'roof': {'latitude': 40.715609, 'longitude': -74.009786}},\n",
       "   'link': '/v3/places/4a4baaf8f964a52091ac1fe3',\n",
       "   'location': {'address': '146 Chambers St',\n",
       "    'census_block': '360610021003001',\n",
       "    'country': 'US',\n",
       "    'cross_street': 'btwn W. Broadway & Greenwich St',\n",
       "    'dma': 'New York',\n",
       "    'formatted_address': '146 Chambers St (btwn W. Broadway & Greenwich St), New York, NY 10007',\n",
       "    'locality': 'New York',\n",
       "    'postcode': '10007',\n",
       "    'region': 'NY'},\n",
       "   'name': \"Zucker's Bagels and Smoked Fish\",\n",
       "   'related_places': {},\n",
       "   'timezone': 'America/New_York'},\n",
       "  {'fsq_id': '594301c89411f241f5b6a2ee',\n",
       "   'categories': [{'id': 13383,\n",
       "     'name': 'Steakhouse',\n",
       "     'icon': {'prefix': 'https://ss3.4sqi.net/img/categories_v2/food/steakhouse_',\n",
       "      'suffix': '.png'}}],\n",
       "   'chains': [],\n",
       "   'distance': 109,\n",
       "   'geocodes': {'main': {'latitude': 40.714114, 'longitude': -74.015182},\n",
       "    'roof': {'latitude': 40.714114, 'longitude': -74.015182}},\n",
       "   'link': '/v3/places/594301c89411f241f5b6a2ee',\n",
       "   'location': {'address': '250 Vesey St',\n",
       "    'census_block': '360610317031002',\n",
       "    'country': 'US',\n",
       "    'cross_street': '',\n",
       "    'dma': 'New York',\n",
       "    'formatted_address': '250 Vesey St, New York, NY 10281',\n",
       "    'locality': 'New York',\n",
       "    'postcode': '10281',\n",
       "    'region': 'NY'},\n",
       "   'name': \"Del Frisco's Grille\",\n",
       "   'related_places': {'parent': {'fsq_id': '4a6fa0abf964a520a4d61fe3',\n",
       "     'name': 'Brookfield Place'}},\n",
       "   'timezone': 'America/New_York'},\n",
       "  {'fsq_id': '86b55075e8d0455c2722e26a',\n",
       "   'categories': [{'id': 13068,\n",
       "     'name': 'American Restaurant',\n",
       "     'icon': {'prefix': 'https://ss3.4sqi.net/img/categories_v2/food/default_',\n",
       "      'suffix': '.png'}},\n",
       "    {'id': 13236,\n",
       "     'name': 'Italian Restaurant',\n",
       "     'icon': {'prefix': 'https://ss3.4sqi.net/img/categories_v2/food/italian_',\n",
       "      'suffix': '.png'}}],\n",
       "   'chains': [],\n",
       "   'distance': 454,\n",
       "   'geocodes': {'main': {'latitude': 40.711491, 'longitude': -74.012459},\n",
       "    'roof': {'latitude': 40.711491, 'longitude': -74.012459}},\n",
       "   'link': '/v3/places/86b55075e8d0455c2722e26a',\n",
       "   'location': {'address': '1 World Trade Ctr',\n",
       "    'census_block': '360610013005000',\n",
       "    'country': 'US',\n",
       "    'dma': 'New York',\n",
       "    'formatted_address': '1 World Trade Ctr, New York, NY 10007',\n",
       "    'locality': 'New York',\n",
       "    'postcode': '10007',\n",
       "    'region': 'NY'},\n",
       "   'name': 'Windows on the World',\n",
       "   'related_places': {}},\n",
       "  {'fsq_id': '8fe07f7c019c4659b0baa279',\n",
       "   'categories': [{'id': 13236,\n",
       "     'name': 'Italian Restaurant',\n",
       "     'icon': {'prefix': 'https://ss3.4sqi.net/img/categories_v2/food/italian_',\n",
       "      'suffix': '.png'}},\n",
       "    {'id': 17069,\n",
       "     'name': 'Grocery Store / Supermarket',\n",
       "     'icon': {'prefix': 'https://ss3.4sqi.net/img/categories_v2/shops/food_grocery_',\n",
       "      'suffix': '.png'}}],\n",
       "   'chains': [{'id': '439237ab-5c1b-4d24-aaac-ca84bf00ed2f',\n",
       "     'name': 'Eataly'}],\n",
       "   'distance': 484,\n",
       "   'geocodes': {'main': {'latitude': 40.711678, 'longitude': -74.01155},\n",
       "    'roof': {'latitude': 40.711678, 'longitude': -74.01155}},\n",
       "   'link': '/v3/places/8fe07f7c019c4659b0baa279',\n",
       "   'location': {'address': '185 Greenwich St',\n",
       "    'census_block': '360610013005000',\n",
       "    'country': 'US',\n",
       "    'dma': 'New York',\n",
       "    'formatted_address': '185 Greenwich St, New York, NY 10007',\n",
       "    'locality': 'New York',\n",
       "    'postcode': '10007',\n",
       "    'region': 'NY'},\n",
       "   'name': 'Eataly',\n",
       "   'related_places': {'parent': {'fsq_id': '509fd01de4b070da0a9d3c24',\n",
       "     'name': 'Westfield World Trade Center'}}},\n",
       "  {'fsq_id': '4a01ee7bf964a52010711fe3',\n",
       "   'categories': [{'id': 13031,\n",
       "     'name': 'Burger Joint',\n",
       "     'icon': {'prefix': 'https://ss3.4sqi.net/img/categories_v2/food/burger_',\n",
       "      'suffix': '.png'}}],\n",
       "   'chains': [],\n",
       "   'distance': 193,\n",
       "   'geocodes': {'main': {'latitude': 40.713494, 'longitude': -74.016162}},\n",
       "   'link': '/v3/places/4a01ee7bf964a52010711fe3',\n",
       "   'location': {'address': '200 Liberty St',\n",
       "    'census_block': '360610317031002',\n",
       "    'country': 'US',\n",
       "    'cross_street': '4 World Financial Center',\n",
       "    'dma': 'New York',\n",
       "    'formatted_address': '200 Liberty St (4 World Financial Center), New York, NY 10281',\n",
       "    'locality': 'New York',\n",
       "    'postcode': '10281',\n",
       "    'region': 'NY'},\n",
       "   'name': \"P.J. Clarke's\",\n",
       "   'related_places': {'parent': {'fsq_id': '4b5dad64f964a5205b6629e3',\n",
       "     'name': '4 World Financial Center'}},\n",
       "   'timezone': 'America/New_York'},\n",
       "  {'fsq_id': '4a70b5aef964a52040d81fe3',\n",
       "   'categories': [{'id': 13031,\n",
       "     'name': 'Burger Joint',\n",
       "     'icon': {'prefix': 'https://ss3.4sqi.net/img/categories_v2/food/burger_',\n",
       "      'suffix': '.png'}},\n",
       "    {'id': 13049,\n",
       "     'name': 'Diner',\n",
       "     'icon': {'prefix': 'https://ss3.4sqi.net/img/categories_v2/food/diner_',\n",
       "      'suffix': '.png'}},\n",
       "    {'id': 13068,\n",
       "     'name': 'American Restaurant',\n",
       "     'icon': {'prefix': 'https://ss3.4sqi.net/img/categories_v2/food/default_',\n",
       "      'suffix': '.png'}}],\n",
       "   'chains': [],\n",
       "   'distance': 347,\n",
       "   'geocodes': {'main': {'latitude': 40.715904, 'longitude': -74.010845},\n",
       "    'roof': {'latitude': 40.715904, 'longitude': -74.010845}},\n",
       "   'link': '/v3/places/4a70b5aef964a52040d81fe3',\n",
       "   'location': {'address': '295 Greenwich St',\n",
       "    'address_extended': 'Frnt 1',\n",
       "    'census_block': '360610021003001',\n",
       "    'country': 'US',\n",
       "    'cross_street': 'Warren St',\n",
       "    'dma': 'New York',\n",
       "    'formatted_address': '295 Greenwich St (Warren St), New York, NY 10007',\n",
       "    'locality': 'New York',\n",
       "    'postcode': '10007',\n",
       "    'region': 'NY'},\n",
       "   'name': 'Gee Whiz Diner',\n",
       "   'related_places': {},\n",
       "   'timezone': 'America/New_York'},\n",
       "  {'fsq_id': '4f3232e219836c91c7bfde94',\n",
       "   'categories': [{'id': 13064,\n",
       "     'name': 'Pizzeria',\n",
       "     'icon': {'prefix': 'https://ss3.4sqi.net/img/categories_v2/food/pizza_',\n",
       "      'suffix': '.png'}},\n",
       "    {'id': 13236,\n",
       "     'name': 'Italian Restaurant',\n",
       "     'icon': {'prefix': 'https://ss3.4sqi.net/img/categories_v2/food/italian_',\n",
       "      'suffix': '.png'}},\n",
       "    {'id': 13302,\n",
       "     'name': 'Mediterranean Restaurant',\n",
       "     'icon': {'prefix': 'https://ss3.4sqi.net/img/categories_v2/food/mediterranean_',\n",
       "      'suffix': '.png'}}],\n",
       "   'chains': [],\n",
       "   'distance': 468,\n",
       "   'geocodes': {'drop_off': {'latitude': 40.71451, 'longitude': -74.010027},\n",
       "    'main': {'latitude': 40.714419, 'longitude': -74.009913},\n",
       "    'roof': {'latitude': 40.714419, 'longitude': -74.009913}},\n",
       "   'link': '/v3/places/4f3232e219836c91c7bfde94',\n",
       "   'location': {'address': '63 W Broadway',\n",
       "    'census_block': '360610021001006',\n",
       "    'country': 'US',\n",
       "    'dma': 'New York',\n",
       "    'formatted_address': '63 W Broadway, New York, NY 10007',\n",
       "    'locality': 'New York',\n",
       "    'postcode': '10007',\n",
       "    'region': 'NY'},\n",
       "   'name': 'Conca Cucina Italiana',\n",
       "   'related_places': {},\n",
       "   'timezone': 'America/New_York'}],\n",
       " 'context': {'geo_bounds': {'circle': {'center': {'latitude': 40.7149555,\n",
       "     'longitude': -74.0153365},\n",
       "    'radius': 500}}}}"
      ]
     },
     "execution_count": 26,
     "metadata": {},
     "output_type": "execute_result"
    }
   ],
   "source": [
    "results = requests.request(\"GET\", url, headers=headers).json()\n",
    "results"
   ]
  },
  {
   "cell_type": "markdown",
   "metadata": {
    "button": false,
    "new_sheet": false,
    "run_control": {
     "read_only": false
    }
   },
   "source": [
    "#### Obtener la parte relevante del JSON y convertirlo en un dataframe *pandas*\n"
   ]
  },
  {
   "cell_type": "code",
   "execution_count": 32,
   "metadata": {
    "button": false,
    "collapsed": false,
    "jupyter": {
     "outputs_hidden": false
    },
    "new_sheet": false,
    "run_control": {
     "read_only": false
    }
   },
   "outputs": [
    {
     "name": "stderr",
     "output_type": "stream",
     "text": [
      "/home/jupyterlab/conda/envs/python/lib/python3.7/site-packages/ipykernel_launcher.py:5: FutureWarning: pandas.io.json.json_normalize is deprecated, use pandas.json_normalize instead\n",
      "  \"\"\"\n"
     ]
    },
    {
     "data": {
      "text/html": [
       "<div>\n",
       "<style scoped>\n",
       "    .dataframe tbody tr th:only-of-type {\n",
       "        vertical-align: middle;\n",
       "    }\n",
       "\n",
       "    .dataframe tbody tr th {\n",
       "        vertical-align: top;\n",
       "    }\n",
       "\n",
       "    .dataframe thead th {\n",
       "        text-align: right;\n",
       "    }\n",
       "</style>\n",
       "<table border=\"1\" class=\"dataframe\">\n",
       "  <thead>\n",
       "    <tr style=\"text-align: right;\">\n",
       "      <th></th>\n",
       "      <th>fsq_id</th>\n",
       "      <th>categories</th>\n",
       "      <th>chains</th>\n",
       "      <th>distance</th>\n",
       "      <th>link</th>\n",
       "      <th>name</th>\n",
       "      <th>timezone</th>\n",
       "      <th>geocodes.main.latitude</th>\n",
       "      <th>geocodes.main.longitude</th>\n",
       "      <th>geocodes.roof.latitude</th>\n",
       "      <th>...</th>\n",
       "      <th>location.locality</th>\n",
       "      <th>location.postcode</th>\n",
       "      <th>location.region</th>\n",
       "      <th>location.cross_street</th>\n",
       "      <th>related_places.parent.fsq_id</th>\n",
       "      <th>related_places.parent.name</th>\n",
       "      <th>geocodes.drop_off.latitude</th>\n",
       "      <th>geocodes.drop_off.longitude</th>\n",
       "      <th>location.address_extended</th>\n",
       "      <th>related_places.children</th>\n",
       "    </tr>\n",
       "  </thead>\n",
       "  <tbody>\n",
       "    <tr>\n",
       "      <th>0</th>\n",
       "      <td>4fa862b3e4b0ebff2f749f06</td>\n",
       "      <td>[{'id': 13064, 'name': 'Pizzeria', 'icon': {'p...</td>\n",
       "      <td>[]</td>\n",
       "      <td>58</td>\n",
       "      <td>/v3/places/4fa862b3e4b0ebff2f749f06</td>\n",
       "      <td>Harry's Italian Pizza Bar</td>\n",
       "      <td>America/New_York</td>\n",
       "      <td>40.715256</td>\n",
       "      <td>-74.014835</td>\n",
       "      <td>40.715256</td>\n",
       "      <td>...</td>\n",
       "      <td>New York</td>\n",
       "      <td>10282</td>\n",
       "      <td>NY</td>\n",
       "      <td>NaN</td>\n",
       "      <td>NaN</td>\n",
       "      <td>NaN</td>\n",
       "      <td>NaN</td>\n",
       "      <td>NaN</td>\n",
       "      <td>NaN</td>\n",
       "      <td>NaN</td>\n",
       "    </tr>\n",
       "    <tr>\n",
       "      <th>1</th>\n",
       "      <td>5d41d093104e90000882db55</td>\n",
       "      <td>[{'id': 13236, 'name': 'Italian Restaurant', '...</td>\n",
       "      <td>[]</td>\n",
       "      <td>170</td>\n",
       "      <td>/v3/places/5d41d093104e90000882db55</td>\n",
       "      <td>Sant Ambroeus</td>\n",
       "      <td>America/New_York</td>\n",
       "      <td>40.713759</td>\n",
       "      <td>-74.014339</td>\n",
       "      <td>40.713759</td>\n",
       "      <td>...</td>\n",
       "      <td>New York</td>\n",
       "      <td>10007</td>\n",
       "      <td>NY</td>\n",
       "      <td></td>\n",
       "      <td>4a6fa0abf964a520a4d61fe3</td>\n",
       "      <td>Brookfield Place</td>\n",
       "      <td>NaN</td>\n",
       "      <td>NaN</td>\n",
       "      <td>NaN</td>\n",
       "      <td>NaN</td>\n",
       "    </tr>\n",
       "    <tr>\n",
       "      <th>2</th>\n",
       "      <td>556cb8c6498e751e51fbcf41</td>\n",
       "      <td>[{'id': 13236, 'name': 'Italian Restaurant', '...</td>\n",
       "      <td>[]</td>\n",
       "      <td>92</td>\n",
       "      <td>/v3/places/556cb8c6498e751e51fbcf41</td>\n",
       "      <td>Parm</td>\n",
       "      <td>America/New_York</td>\n",
       "      <td>40.714470</td>\n",
       "      <td>-74.015939</td>\n",
       "      <td>40.714470</td>\n",
       "      <td>...</td>\n",
       "      <td>New York</td>\n",
       "      <td>10080</td>\n",
       "      <td>NY</td>\n",
       "      <td>West St</td>\n",
       "      <td>NaN</td>\n",
       "      <td>NaN</td>\n",
       "      <td>NaN</td>\n",
       "      <td>NaN</td>\n",
       "      <td>NaN</td>\n",
       "      <td>NaN</td>\n",
       "    </tr>\n",
       "    <tr>\n",
       "      <th>3</th>\n",
       "      <td>3fd66200f964a520aae61ee3</td>\n",
       "      <td>[{'id': 13065, 'name': 'Restaurant', 'icon': {...</td>\n",
       "      <td>[]</td>\n",
       "      <td>470</td>\n",
       "      <td>/v3/places/3fd66200f964a520aae61ee3</td>\n",
       "      <td>Gigino Trattoria</td>\n",
       "      <td>America/New_York</td>\n",
       "      <td>40.717261</td>\n",
       "      <td>-74.010506</td>\n",
       "      <td>40.717261</td>\n",
       "      <td>...</td>\n",
       "      <td>New York</td>\n",
       "      <td>10013</td>\n",
       "      <td>NY</td>\n",
       "      <td>btw Duane &amp; Reade Sts.</td>\n",
       "      <td>NaN</td>\n",
       "      <td>NaN</td>\n",
       "      <td>40.717301</td>\n",
       "      <td>-74.010671</td>\n",
       "      <td>Frnt 1</td>\n",
       "      <td>NaN</td>\n",
       "    </tr>\n",
       "    <tr>\n",
       "      <th>4</th>\n",
       "      <td>592b5e9c0ff4f9137e2a8390</td>\n",
       "      <td>[{'id': 13025, 'name': 'Wine Bar', 'icon': {'p...</td>\n",
       "      <td>[]</td>\n",
       "      <td>490</td>\n",
       "      <td>/v3/places/592b5e9c0ff4f9137e2a8390</td>\n",
       "      <td>L' Angolo Tribeca</td>\n",
       "      <td>America/New_York</td>\n",
       "      <td>40.717209</td>\n",
       "      <td>-74.010461</td>\n",
       "      <td>40.717209</td>\n",
       "      <td>...</td>\n",
       "      <td>New York</td>\n",
       "      <td>10013</td>\n",
       "      <td>NY</td>\n",
       "      <td>Greenwich</td>\n",
       "      <td>NaN</td>\n",
       "      <td>NaN</td>\n",
       "      <td>40.717441</td>\n",
       "      <td>-74.010434</td>\n",
       "      <td>NaN</td>\n",
       "      <td>NaN</td>\n",
       "    </tr>\n",
       "  </tbody>\n",
       "</table>\n",
       "<p>5 rows × 26 columns</p>\n",
       "</div>"
      ],
      "text/plain": [
       "                     fsq_id  \\\n",
       "0  4fa862b3e4b0ebff2f749f06   \n",
       "1  5d41d093104e90000882db55   \n",
       "2  556cb8c6498e751e51fbcf41   \n",
       "3  3fd66200f964a520aae61ee3   \n",
       "4  592b5e9c0ff4f9137e2a8390   \n",
       "\n",
       "                                          categories chains  distance  \\\n",
       "0  [{'id': 13064, 'name': 'Pizzeria', 'icon': {'p...     []        58   \n",
       "1  [{'id': 13236, 'name': 'Italian Restaurant', '...     []       170   \n",
       "2  [{'id': 13236, 'name': 'Italian Restaurant', '...     []        92   \n",
       "3  [{'id': 13065, 'name': 'Restaurant', 'icon': {...     []       470   \n",
       "4  [{'id': 13025, 'name': 'Wine Bar', 'icon': {'p...     []       490   \n",
       "\n",
       "                                  link                       name  \\\n",
       "0  /v3/places/4fa862b3e4b0ebff2f749f06  Harry's Italian Pizza Bar   \n",
       "1  /v3/places/5d41d093104e90000882db55              Sant Ambroeus   \n",
       "2  /v3/places/556cb8c6498e751e51fbcf41                       Parm   \n",
       "3  /v3/places/3fd66200f964a520aae61ee3           Gigino Trattoria   \n",
       "4  /v3/places/592b5e9c0ff4f9137e2a8390          L' Angolo Tribeca   \n",
       "\n",
       "           timezone  geocodes.main.latitude  geocodes.main.longitude  \\\n",
       "0  America/New_York               40.715256               -74.014835   \n",
       "1  America/New_York               40.713759               -74.014339   \n",
       "2  America/New_York               40.714470               -74.015939   \n",
       "3  America/New_York               40.717261               -74.010506   \n",
       "4  America/New_York               40.717209               -74.010461   \n",
       "\n",
       "   geocodes.roof.latitude  ...  location.locality location.postcode  \\\n",
       "0               40.715256  ...           New York             10282   \n",
       "1               40.713759  ...           New York             10007   \n",
       "2               40.714470  ...           New York             10080   \n",
       "3               40.717261  ...           New York             10013   \n",
       "4               40.717209  ...           New York             10013   \n",
       "\n",
       "  location.region   location.cross_street related_places.parent.fsq_id  \\\n",
       "0              NY                     NaN                          NaN   \n",
       "1              NY                             4a6fa0abf964a520a4d61fe3   \n",
       "2              NY                 West St                          NaN   \n",
       "3              NY  btw Duane & Reade Sts.                          NaN   \n",
       "4              NY               Greenwich                          NaN   \n",
       "\n",
       "  related_places.parent.name geocodes.drop_off.latitude  \\\n",
       "0                        NaN                        NaN   \n",
       "1           Brookfield Place                        NaN   \n",
       "2                        NaN                        NaN   \n",
       "3                        NaN                  40.717301   \n",
       "4                        NaN                  40.717441   \n",
       "\n",
       "  geocodes.drop_off.longitude location.address_extended  \\\n",
       "0                         NaN                       NaN   \n",
       "1                         NaN                       NaN   \n",
       "2                         NaN                       NaN   \n",
       "3                  -74.010671                    Frnt 1   \n",
       "4                  -74.010434                       NaN   \n",
       "\n",
       "  related_places.children  \n",
       "0                     NaN  \n",
       "1                     NaN  \n",
       "2                     NaN  \n",
       "3                     NaN  \n",
       "4                     NaN  \n",
       "\n",
       "[5 rows x 26 columns]"
      ]
     },
     "execution_count": 32,
     "metadata": {},
     "output_type": "execute_result"
    }
   ],
   "source": [
    "# asignar la parte relevante del JSON a la variable venues \n",
    "venues = results['results']\n",
    "\n",
    "# convertir venues en un dataframe\n",
    "dataframe = json_normalize(venues)\n",
    "dataframe.head()"
   ]
  },
  {
   "cell_type": "markdown",
   "metadata": {
    "button": false,
    "new_sheet": false,
    "run_control": {
     "read_only": false
    }
   },
   "source": [
    "#### Definir la información de interes y filtrar el dataframe\n"
   ]
  },
  {
   "cell_type": "code",
   "execution_count": 38,
   "metadata": {
    "button": false,
    "collapsed": false,
    "jupyter": {
     "outputs_hidden": false
    },
    "new_sheet": false,
    "run_control": {
     "read_only": false
    },
    "scrolled": true
   },
   "outputs": [
    {
     "data": {
      "text/html": [
       "<div>\n",
       "<style scoped>\n",
       "    .dataframe tbody tr th:only-of-type {\n",
       "        vertical-align: middle;\n",
       "    }\n",
       "\n",
       "    .dataframe tbody tr th {\n",
       "        vertical-align: top;\n",
       "    }\n",
       "\n",
       "    .dataframe thead th {\n",
       "        text-align: right;\n",
       "    }\n",
       "</style>\n",
       "<table border=\"1\" class=\"dataframe\">\n",
       "  <thead>\n",
       "    <tr style=\"text-align: right;\">\n",
       "      <th></th>\n",
       "      <th>name</th>\n",
       "      <th>categories</th>\n",
       "      <th>address</th>\n",
       "      <th>census_block</th>\n",
       "      <th>country</th>\n",
       "      <th>dma</th>\n",
       "      <th>formatted_address</th>\n",
       "      <th>locality</th>\n",
       "      <th>postcode</th>\n",
       "      <th>region</th>\n",
       "      <th>cross_street</th>\n",
       "      <th>address_extended</th>\n",
       "      <th>fsq_id</th>\n",
       "      <th>latitude</th>\n",
       "      <th>longitude</th>\n",
       "    </tr>\n",
       "  </thead>\n",
       "  <tbody>\n",
       "    <tr>\n",
       "      <th>0</th>\n",
       "      <td>Harry's Italian Pizza Bar</td>\n",
       "      <td>Pizzeria</td>\n",
       "      <td>225 Murray St</td>\n",
       "      <td>360610317033007</td>\n",
       "      <td>US</td>\n",
       "      <td>New York</td>\n",
       "      <td>225 Murray St, New York, NY 10282</td>\n",
       "      <td>New York</td>\n",
       "      <td>10282</td>\n",
       "      <td>NY</td>\n",
       "      <td>NaN</td>\n",
       "      <td>NaN</td>\n",
       "      <td>4fa862b3e4b0ebff2f749f06</td>\n",
       "      <td>40.715256</td>\n",
       "      <td>-74.014835</td>\n",
       "    </tr>\n",
       "    <tr>\n",
       "      <th>1</th>\n",
       "      <td>Sant Ambroeus</td>\n",
       "      <td>Italian Restaurant</td>\n",
       "      <td>NaN</td>\n",
       "      <td>360610317031002</td>\n",
       "      <td>US</td>\n",
       "      <td>New York</td>\n",
       "      <td>New York, NY 10007</td>\n",
       "      <td>New York</td>\n",
       "      <td>10007</td>\n",
       "      <td>NY</td>\n",
       "      <td></td>\n",
       "      <td>NaN</td>\n",
       "      <td>5d41d093104e90000882db55</td>\n",
       "      <td>40.713759</td>\n",
       "      <td>-74.014339</td>\n",
       "    </tr>\n",
       "    <tr>\n",
       "      <th>2</th>\n",
       "      <td>Parm</td>\n",
       "      <td>Italian Restaurant</td>\n",
       "      <td>250 Vesey St</td>\n",
       "      <td>360610317031002</td>\n",
       "      <td>US</td>\n",
       "      <td>New York</td>\n",
       "      <td>250 Vesey St (West St), New York, NY 10080</td>\n",
       "      <td>New York</td>\n",
       "      <td>10080</td>\n",
       "      <td>NY</td>\n",
       "      <td>West St</td>\n",
       "      <td>NaN</td>\n",
       "      <td>556cb8c6498e751e51fbcf41</td>\n",
       "      <td>40.714470</td>\n",
       "      <td>-74.015939</td>\n",
       "    </tr>\n",
       "    <tr>\n",
       "      <th>3</th>\n",
       "      <td>Gigino Trattoria</td>\n",
       "      <td>Restaurant</td>\n",
       "      <td>323 Greenwich St</td>\n",
       "      <td>360610039003010</td>\n",
       "      <td>US</td>\n",
       "      <td>New York</td>\n",
       "      <td>323 Greenwich St (btw Duane &amp; Reade Sts.), New...</td>\n",
       "      <td>New York</td>\n",
       "      <td>10013</td>\n",
       "      <td>NY</td>\n",
       "      <td>btw Duane &amp; Reade Sts.</td>\n",
       "      <td>Frnt 1</td>\n",
       "      <td>3fd66200f964a520aae61ee3</td>\n",
       "      <td>40.717261</td>\n",
       "      <td>-74.010506</td>\n",
       "    </tr>\n",
       "    <tr>\n",
       "      <th>4</th>\n",
       "      <td>L' Angolo Tribeca</td>\n",
       "      <td>Wine Bar</td>\n",
       "      <td>190A Duane St</td>\n",
       "      <td>360610039003010</td>\n",
       "      <td>US</td>\n",
       "      <td>New York</td>\n",
       "      <td>190A Duane St (Greenwich), New York, NY 10013</td>\n",
       "      <td>New York</td>\n",
       "      <td>10013</td>\n",
       "      <td>NY</td>\n",
       "      <td>Greenwich</td>\n",
       "      <td>NaN</td>\n",
       "      <td>592b5e9c0ff4f9137e2a8390</td>\n",
       "      <td>40.717209</td>\n",
       "      <td>-74.010461</td>\n",
       "    </tr>\n",
       "    <tr>\n",
       "      <th>5</th>\n",
       "      <td>Cicci Di Carne</td>\n",
       "      <td>Italian Restaurant</td>\n",
       "      <td>250 Vesey St</td>\n",
       "      <td>360610317031002</td>\n",
       "      <td>US</td>\n",
       "      <td>New York</td>\n",
       "      <td>250 Vesey St (Suite 107B), New York, NY 10281</td>\n",
       "      <td>New York</td>\n",
       "      <td>10281</td>\n",
       "      <td>NY</td>\n",
       "      <td>Suite 107B</td>\n",
       "      <td>NaN</td>\n",
       "      <td>60eda733a7ddae4973db6ee8</td>\n",
       "      <td>40.713999</td>\n",
       "      <td>-74.015814</td>\n",
       "    </tr>\n",
       "    <tr>\n",
       "      <th>6</th>\n",
       "      <td>Sauce pizzeria</td>\n",
       "      <td>Pizzeria</td>\n",
       "      <td>225 Liberty St</td>\n",
       "      <td>360610317031002</td>\n",
       "      <td>US</td>\n",
       "      <td>New York</td>\n",
       "      <td>225 Liberty St, New York, NY 10281</td>\n",
       "      <td>New York</td>\n",
       "      <td>10281</td>\n",
       "      <td>NY</td>\n",
       "      <td></td>\n",
       "      <td>NaN</td>\n",
       "      <td>621bd89fdda85a16a2075f0c</td>\n",
       "      <td>40.712365</td>\n",
       "      <td>-74.015102</td>\n",
       "    </tr>\n",
       "    <tr>\n",
       "      <th>7</th>\n",
       "      <td>Shake Shack</td>\n",
       "      <td>Burger Joint</td>\n",
       "      <td>215 Murray St</td>\n",
       "      <td>360610317033007</td>\n",
       "      <td>US</td>\n",
       "      <td>New York</td>\n",
       "      <td>215 Murray St (btwn West St &amp; North End Ave), ...</td>\n",
       "      <td>New York</td>\n",
       "      <td>10282</td>\n",
       "      <td>NY</td>\n",
       "      <td>btwn West St &amp; North End Ave</td>\n",
       "      <td># A</td>\n",
       "      <td>4dda977ad22d38ef4332c419</td>\n",
       "      <td>40.715146</td>\n",
       "      <td>-74.014918</td>\n",
       "    </tr>\n",
       "    <tr>\n",
       "      <th>8</th>\n",
       "      <td>iPizzaNY</td>\n",
       "      <td>Italian Restaurant</td>\n",
       "      <td>147 Chambers St</td>\n",
       "      <td>360610021003000</td>\n",
       "      <td>US</td>\n",
       "      <td>New York</td>\n",
       "      <td>147 Chambers St, New York, NY 10007</td>\n",
       "      <td>New York</td>\n",
       "      <td>10007</td>\n",
       "      <td>NY</td>\n",
       "      <td>NaN</td>\n",
       "      <td>NaN</td>\n",
       "      <td>d462e1585b104ed413c3292d</td>\n",
       "      <td>40.716344</td>\n",
       "      <td>-74.010514</td>\n",
       "    </tr>\n",
       "    <tr>\n",
       "      <th>9</th>\n",
       "      <td>Brookfield Place</td>\n",
       "      <td>Shopping Mall</td>\n",
       "      <td>230 Vesey St</td>\n",
       "      <td>360610317031002</td>\n",
       "      <td>US</td>\n",
       "      <td>New York</td>\n",
       "      <td>230 Vesey St (at West St), New York, NY 10281</td>\n",
       "      <td>New York</td>\n",
       "      <td>10281</td>\n",
       "      <td>NY</td>\n",
       "      <td>at West St</td>\n",
       "      <td>NaN</td>\n",
       "      <td>4a6fa0abf964a520a4d61fe3</td>\n",
       "      <td>40.713927</td>\n",
       "      <td>-74.016092</td>\n",
       "    </tr>\n",
       "    <tr>\n",
       "      <th>10</th>\n",
       "      <td>Amore Pizza Restaurant</td>\n",
       "      <td>Pizzeria</td>\n",
       "      <td>147 Chambers St</td>\n",
       "      <td>360610021003000</td>\n",
       "      <td>US</td>\n",
       "      <td>New York</td>\n",
       "      <td>147 Chambers St, New York, NY 10007</td>\n",
       "      <td>New York</td>\n",
       "      <td>10007</td>\n",
       "      <td>NY</td>\n",
       "      <td>NaN</td>\n",
       "      <td>NaN</td>\n",
       "      <td>3a083b30a7744cb94f3fe6da</td>\n",
       "      <td>40.715921</td>\n",
       "      <td>-74.009982</td>\n",
       "    </tr>\n",
       "    <tr>\n",
       "      <th>11</th>\n",
       "      <td>Blue Smoke</td>\n",
       "      <td>BBQ Joint</td>\n",
       "      <td>255 Vesey St</td>\n",
       "      <td>360610317033007</td>\n",
       "      <td>US</td>\n",
       "      <td>New York</td>\n",
       "      <td>255 Vesey St (btwn West &amp; North End Ave), New ...</td>\n",
       "      <td>New York</td>\n",
       "      <td>10282</td>\n",
       "      <td>NY</td>\n",
       "      <td>btwn West &amp; North End Ave</td>\n",
       "      <td>NaN</td>\n",
       "      <td>4efd1635f790570bcf88cbfd</td>\n",
       "      <td>40.714645</td>\n",
       "      <td>-74.015466</td>\n",
       "    </tr>\n",
       "    <tr>\n",
       "      <th>12</th>\n",
       "      <td>El Vez</td>\n",
       "      <td>American Restaurant</td>\n",
       "      <td>259 Vesey St</td>\n",
       "      <td>360610317033007</td>\n",
       "      <td>US</td>\n",
       "      <td>New York</td>\n",
       "      <td>259 Vesey St (North End Avenue), New York, NY ...</td>\n",
       "      <td>New York</td>\n",
       "      <td>10282</td>\n",
       "      <td>NY</td>\n",
       "      <td>North End Avenue</td>\n",
       "      <td>NaN</td>\n",
       "      <td>52e2f72a498e1de9bce745b0</td>\n",
       "      <td>40.714645</td>\n",
       "      <td>-74.015466</td>\n",
       "    </tr>\n",
       "    <tr>\n",
       "      <th>13</th>\n",
       "      <td>Hudson Eats</td>\n",
       "      <td>Food Court</td>\n",
       "      <td>225 Liberty St</td>\n",
       "      <td>360610317031002</td>\n",
       "      <td>US</td>\n",
       "      <td>New York</td>\n",
       "      <td>225 Liberty St (at S End Ave), New York, NY 10281</td>\n",
       "      <td>New York</td>\n",
       "      <td>10281</td>\n",
       "      <td>NY</td>\n",
       "      <td>at S End Ave</td>\n",
       "      <td>NaN</td>\n",
       "      <td>5362a2ae498e3b18c22334be</td>\n",
       "      <td>40.712696</td>\n",
       "      <td>-74.015737</td>\n",
       "    </tr>\n",
       "    <tr>\n",
       "      <th>14</th>\n",
       "      <td>Atrio</td>\n",
       "      <td>American Restaurant</td>\n",
       "      <td>102 N End Ave</td>\n",
       "      <td>360610317033007</td>\n",
       "      <td>US</td>\n",
       "      <td>New York</td>\n",
       "      <td>102 N End Ave (btwn Murray and Vesey), New Yor...</td>\n",
       "      <td>New York</td>\n",
       "      <td>10282</td>\n",
       "      <td>NY</td>\n",
       "      <td>btwn Murray and Vesey</td>\n",
       "      <td>NaN</td>\n",
       "      <td>4f0c7c106d866af8d40ae337</td>\n",
       "      <td>40.714904</td>\n",
       "      <td>-74.015869</td>\n",
       "    </tr>\n",
       "    <tr>\n",
       "      <th>15</th>\n",
       "      <td>Whole Foods</td>\n",
       "      <td>Grocery Store / Supermarket</td>\n",
       "      <td>270 Greenwich St</td>\n",
       "      <td>360610021004001</td>\n",
       "      <td>US</td>\n",
       "      <td>New York</td>\n",
       "      <td>270 Greenwich St (at Warren St), New York, NY ...</td>\n",
       "      <td>New York</td>\n",
       "      <td>10007</td>\n",
       "      <td>NY</td>\n",
       "      <td>at Warren St</td>\n",
       "      <td>Frnt 4</td>\n",
       "      <td>49bc3b0af964a52020541fe3</td>\n",
       "      <td>40.715456</td>\n",
       "      <td>-74.011439</td>\n",
       "    </tr>\n",
       "    <tr>\n",
       "      <th>16</th>\n",
       "      <td>Global Cuisine</td>\n",
       "      <td>Chinese Restaurant</td>\n",
       "      <td>222 Murray St</td>\n",
       "      <td>360610317033007</td>\n",
       "      <td>US</td>\n",
       "      <td>New York</td>\n",
       "      <td>222 Murray St, New York, NY 10282</td>\n",
       "      <td>New York</td>\n",
       "      <td>10282</td>\n",
       "      <td>NY</td>\n",
       "      <td>NaN</td>\n",
       "      <td>NaN</td>\n",
       "      <td>95e98b4cb7e64cfc140c5d29</td>\n",
       "      <td>40.715258</td>\n",
       "      <td>-74.014748</td>\n",
       "    </tr>\n",
       "    <tr>\n",
       "      <th>17</th>\n",
       "      <td>Winter Garden Atrium</td>\n",
       "      <td>Performing Arts Venue</td>\n",
       "      <td>World Financial Center - Belford/Harbor Way, N...</td>\n",
       "      <td>360610317031002</td>\n",
       "      <td>US</td>\n",
       "      <td>New York</td>\n",
       "      <td>World Financial Center - Belford/Harbor Way, N...</td>\n",
       "      <td>New York</td>\n",
       "      <td>10280</td>\n",
       "      <td>NY</td>\n",
       "      <td>btwn West St &amp; N End Ave</td>\n",
       "      <td>NaN</td>\n",
       "      <td>49f9a233f964a5207d6d1fe3</td>\n",
       "      <td>40.713192</td>\n",
       "      <td>-74.015364</td>\n",
       "    </tr>\n",
       "    <tr>\n",
       "      <th>18</th>\n",
       "      <td>Dig</td>\n",
       "      <td>American Restaurant</td>\n",
       "      <td>225 Liberty St</td>\n",
       "      <td>360610317031002</td>\n",
       "      <td>US</td>\n",
       "      <td>New York</td>\n",
       "      <td>225 Liberty St (at Hudson Eats), New York, NY ...</td>\n",
       "      <td>New York</td>\n",
       "      <td>10281</td>\n",
       "      <td>NY</td>\n",
       "      <td>at Hudson Eats</td>\n",
       "      <td>NaN</td>\n",
       "      <td>535fc0ea498e4a159c49f7b1</td>\n",
       "      <td>40.711846</td>\n",
       "      <td>-74.015267</td>\n",
       "    </tr>\n",
       "    <tr>\n",
       "      <th>19</th>\n",
       "      <td>Zucker's Bagels and Smoked Fish</td>\n",
       "      <td>Bagel Shop</td>\n",
       "      <td>146 Chambers St</td>\n",
       "      <td>360610021003001</td>\n",
       "      <td>US</td>\n",
       "      <td>New York</td>\n",
       "      <td>146 Chambers St (btwn W. Broadway &amp; Greenwich ...</td>\n",
       "      <td>New York</td>\n",
       "      <td>10007</td>\n",
       "      <td>NY</td>\n",
       "      <td>btwn W. Broadway &amp; Greenwich St</td>\n",
       "      <td>NaN</td>\n",
       "      <td>4a4baaf8f964a52091ac1fe3</td>\n",
       "      <td>40.715609</td>\n",
       "      <td>-74.009786</td>\n",
       "    </tr>\n",
       "    <tr>\n",
       "      <th>20</th>\n",
       "      <td>Del Frisco's Grille</td>\n",
       "      <td>Steakhouse</td>\n",
       "      <td>250 Vesey St</td>\n",
       "      <td>360610317031002</td>\n",
       "      <td>US</td>\n",
       "      <td>New York</td>\n",
       "      <td>250 Vesey St, New York, NY 10281</td>\n",
       "      <td>New York</td>\n",
       "      <td>10281</td>\n",
       "      <td>NY</td>\n",
       "      <td></td>\n",
       "      <td>NaN</td>\n",
       "      <td>594301c89411f241f5b6a2ee</td>\n",
       "      <td>40.714114</td>\n",
       "      <td>-74.015182</td>\n",
       "    </tr>\n",
       "    <tr>\n",
       "      <th>21</th>\n",
       "      <td>Windows on the World</td>\n",
       "      <td>American Restaurant</td>\n",
       "      <td>1 World Trade Ctr</td>\n",
       "      <td>360610013005000</td>\n",
       "      <td>US</td>\n",
       "      <td>New York</td>\n",
       "      <td>1 World Trade Ctr, New York, NY 10007</td>\n",
       "      <td>New York</td>\n",
       "      <td>10007</td>\n",
       "      <td>NY</td>\n",
       "      <td>NaN</td>\n",
       "      <td>NaN</td>\n",
       "      <td>86b55075e8d0455c2722e26a</td>\n",
       "      <td>40.711491</td>\n",
       "      <td>-74.012459</td>\n",
       "    </tr>\n",
       "    <tr>\n",
       "      <th>22</th>\n",
       "      <td>Eataly</td>\n",
       "      <td>Italian Restaurant</td>\n",
       "      <td>185 Greenwich St</td>\n",
       "      <td>360610013005000</td>\n",
       "      <td>US</td>\n",
       "      <td>New York</td>\n",
       "      <td>185 Greenwich St, New York, NY 10007</td>\n",
       "      <td>New York</td>\n",
       "      <td>10007</td>\n",
       "      <td>NY</td>\n",
       "      <td>NaN</td>\n",
       "      <td>NaN</td>\n",
       "      <td>8fe07f7c019c4659b0baa279</td>\n",
       "      <td>40.711678</td>\n",
       "      <td>-74.011550</td>\n",
       "    </tr>\n",
       "    <tr>\n",
       "      <th>23</th>\n",
       "      <td>P.J. Clarke's</td>\n",
       "      <td>Burger Joint</td>\n",
       "      <td>200 Liberty St</td>\n",
       "      <td>360610317031002</td>\n",
       "      <td>US</td>\n",
       "      <td>New York</td>\n",
       "      <td>200 Liberty St (4 World Financial Center), New...</td>\n",
       "      <td>New York</td>\n",
       "      <td>10281</td>\n",
       "      <td>NY</td>\n",
       "      <td>4 World Financial Center</td>\n",
       "      <td>NaN</td>\n",
       "      <td>4a01ee7bf964a52010711fe3</td>\n",
       "      <td>40.713494</td>\n",
       "      <td>-74.016162</td>\n",
       "    </tr>\n",
       "    <tr>\n",
       "      <th>24</th>\n",
       "      <td>Gee Whiz Diner</td>\n",
       "      <td>Burger Joint</td>\n",
       "      <td>295 Greenwich St</td>\n",
       "      <td>360610021003001</td>\n",
       "      <td>US</td>\n",
       "      <td>New York</td>\n",
       "      <td>295 Greenwich St (Warren St), New York, NY 10007</td>\n",
       "      <td>New York</td>\n",
       "      <td>10007</td>\n",
       "      <td>NY</td>\n",
       "      <td>Warren St</td>\n",
       "      <td>Frnt 1</td>\n",
       "      <td>4a70b5aef964a52040d81fe3</td>\n",
       "      <td>40.715904</td>\n",
       "      <td>-74.010845</td>\n",
       "    </tr>\n",
       "    <tr>\n",
       "      <th>25</th>\n",
       "      <td>Conca Cucina Italiana</td>\n",
       "      <td>Pizzeria</td>\n",
       "      <td>63 W Broadway</td>\n",
       "      <td>360610021001006</td>\n",
       "      <td>US</td>\n",
       "      <td>New York</td>\n",
       "      <td>63 W Broadway, New York, NY 10007</td>\n",
       "      <td>New York</td>\n",
       "      <td>10007</td>\n",
       "      <td>NY</td>\n",
       "      <td>NaN</td>\n",
       "      <td>NaN</td>\n",
       "      <td>4f3232e219836c91c7bfde94</td>\n",
       "      <td>40.714419</td>\n",
       "      <td>-74.009913</td>\n",
       "    </tr>\n",
       "  </tbody>\n",
       "</table>\n",
       "</div>"
      ],
      "text/plain": [
       "                               name                   categories  \\\n",
       "0         Harry's Italian Pizza Bar                     Pizzeria   \n",
       "1                     Sant Ambroeus           Italian Restaurant   \n",
       "2                              Parm           Italian Restaurant   \n",
       "3                  Gigino Trattoria                   Restaurant   \n",
       "4                 L' Angolo Tribeca                     Wine Bar   \n",
       "5                    Cicci Di Carne           Italian Restaurant   \n",
       "6                    Sauce pizzeria                     Pizzeria   \n",
       "7                       Shake Shack                 Burger Joint   \n",
       "8                          iPizzaNY           Italian Restaurant   \n",
       "9                  Brookfield Place                Shopping Mall   \n",
       "10           Amore Pizza Restaurant                     Pizzeria   \n",
       "11                       Blue Smoke                    BBQ Joint   \n",
       "12                           El Vez          American Restaurant   \n",
       "13                      Hudson Eats                   Food Court   \n",
       "14                            Atrio          American Restaurant   \n",
       "15                      Whole Foods  Grocery Store / Supermarket   \n",
       "16                   Global Cuisine           Chinese Restaurant   \n",
       "17             Winter Garden Atrium        Performing Arts Venue   \n",
       "18                              Dig          American Restaurant   \n",
       "19  Zucker's Bagels and Smoked Fish                   Bagel Shop   \n",
       "20              Del Frisco's Grille                   Steakhouse   \n",
       "21             Windows on the World          American Restaurant   \n",
       "22                           Eataly           Italian Restaurant   \n",
       "23                    P.J. Clarke's                 Burger Joint   \n",
       "24                   Gee Whiz Diner                 Burger Joint   \n",
       "25            Conca Cucina Italiana                     Pizzeria   \n",
       "\n",
       "                                              address     census_block  \\\n",
       "0                                       225 Murray St  360610317033007   \n",
       "1                                                 NaN  360610317031002   \n",
       "2                                        250 Vesey St  360610317031002   \n",
       "3                                    323 Greenwich St  360610039003010   \n",
       "4                                       190A Duane St  360610039003010   \n",
       "5                                        250 Vesey St  360610317031002   \n",
       "6                                      225 Liberty St  360610317031002   \n",
       "7                                       215 Murray St  360610317033007   \n",
       "8                                     147 Chambers St  360610021003000   \n",
       "9                                        230 Vesey St  360610317031002   \n",
       "10                                    147 Chambers St  360610021003000   \n",
       "11                                       255 Vesey St  360610317033007   \n",
       "12                                       259 Vesey St  360610317033007   \n",
       "13                                     225 Liberty St  360610317031002   \n",
       "14                                      102 N End Ave  360610317033007   \n",
       "15                                   270 Greenwich St  360610021004001   \n",
       "16                                      222 Murray St  360610317033007   \n",
       "17  World Financial Center - Belford/Harbor Way, N...  360610317031002   \n",
       "18                                     225 Liberty St  360610317031002   \n",
       "19                                    146 Chambers St  360610021003001   \n",
       "20                                       250 Vesey St  360610317031002   \n",
       "21                                  1 World Trade Ctr  360610013005000   \n",
       "22                                   185 Greenwich St  360610013005000   \n",
       "23                                     200 Liberty St  360610317031002   \n",
       "24                                   295 Greenwich St  360610021003001   \n",
       "25                                      63 W Broadway  360610021001006   \n",
       "\n",
       "   country       dma                                  formatted_address  \\\n",
       "0       US  New York                  225 Murray St, New York, NY 10282   \n",
       "1       US  New York                                 New York, NY 10007   \n",
       "2       US  New York         250 Vesey St (West St), New York, NY 10080   \n",
       "3       US  New York  323 Greenwich St (btw Duane & Reade Sts.), New...   \n",
       "4       US  New York      190A Duane St (Greenwich), New York, NY 10013   \n",
       "5       US  New York      250 Vesey St (Suite 107B), New York, NY 10281   \n",
       "6       US  New York                 225 Liberty St, New York, NY 10281   \n",
       "7       US  New York  215 Murray St (btwn West St & North End Ave), ...   \n",
       "8       US  New York                147 Chambers St, New York, NY 10007   \n",
       "9       US  New York      230 Vesey St (at West St), New York, NY 10281   \n",
       "10      US  New York                147 Chambers St, New York, NY 10007   \n",
       "11      US  New York  255 Vesey St (btwn West & North End Ave), New ...   \n",
       "12      US  New York  259 Vesey St (North End Avenue), New York, NY ...   \n",
       "13      US  New York  225 Liberty St (at S End Ave), New York, NY 10281   \n",
       "14      US  New York  102 N End Ave (btwn Murray and Vesey), New Yor...   \n",
       "15      US  New York  270 Greenwich St (at Warren St), New York, NY ...   \n",
       "16      US  New York                  222 Murray St, New York, NY 10282   \n",
       "17      US  New York  World Financial Center - Belford/Harbor Way, N...   \n",
       "18      US  New York  225 Liberty St (at Hudson Eats), New York, NY ...   \n",
       "19      US  New York  146 Chambers St (btwn W. Broadway & Greenwich ...   \n",
       "20      US  New York                   250 Vesey St, New York, NY 10281   \n",
       "21      US  New York              1 World Trade Ctr, New York, NY 10007   \n",
       "22      US  New York               185 Greenwich St, New York, NY 10007   \n",
       "23      US  New York  200 Liberty St (4 World Financial Center), New...   \n",
       "24      US  New York   295 Greenwich St (Warren St), New York, NY 10007   \n",
       "25      US  New York                  63 W Broadway, New York, NY 10007   \n",
       "\n",
       "    locality postcode region                     cross_street  \\\n",
       "0   New York    10282     NY                              NaN   \n",
       "1   New York    10007     NY                                    \n",
       "2   New York    10080     NY                          West St   \n",
       "3   New York    10013     NY           btw Duane & Reade Sts.   \n",
       "4   New York    10013     NY                        Greenwich   \n",
       "5   New York    10281     NY                       Suite 107B   \n",
       "6   New York    10281     NY                                    \n",
       "7   New York    10282     NY     btwn West St & North End Ave   \n",
       "8   New York    10007     NY                              NaN   \n",
       "9   New York    10281     NY                       at West St   \n",
       "10  New York    10007     NY                              NaN   \n",
       "11  New York    10282     NY        btwn West & North End Ave   \n",
       "12  New York    10282     NY                 North End Avenue   \n",
       "13  New York    10281     NY                     at S End Ave   \n",
       "14  New York    10282     NY            btwn Murray and Vesey   \n",
       "15  New York    10007     NY                     at Warren St   \n",
       "16  New York    10282     NY                              NaN   \n",
       "17  New York    10280     NY         btwn West St & N End Ave   \n",
       "18  New York    10281     NY                   at Hudson Eats   \n",
       "19  New York    10007     NY  btwn W. Broadway & Greenwich St   \n",
       "20  New York    10281     NY                                    \n",
       "21  New York    10007     NY                              NaN   \n",
       "22  New York    10007     NY                              NaN   \n",
       "23  New York    10281     NY         4 World Financial Center   \n",
       "24  New York    10007     NY                        Warren St   \n",
       "25  New York    10007     NY                              NaN   \n",
       "\n",
       "   address_extended                    fsq_id   latitude  longitude  \n",
       "0               NaN  4fa862b3e4b0ebff2f749f06  40.715256 -74.014835  \n",
       "1               NaN  5d41d093104e90000882db55  40.713759 -74.014339  \n",
       "2               NaN  556cb8c6498e751e51fbcf41  40.714470 -74.015939  \n",
       "3            Frnt 1  3fd66200f964a520aae61ee3  40.717261 -74.010506  \n",
       "4               NaN  592b5e9c0ff4f9137e2a8390  40.717209 -74.010461  \n",
       "5               NaN  60eda733a7ddae4973db6ee8  40.713999 -74.015814  \n",
       "6               NaN  621bd89fdda85a16a2075f0c  40.712365 -74.015102  \n",
       "7               # A  4dda977ad22d38ef4332c419  40.715146 -74.014918  \n",
       "8               NaN  d462e1585b104ed413c3292d  40.716344 -74.010514  \n",
       "9               NaN  4a6fa0abf964a520a4d61fe3  40.713927 -74.016092  \n",
       "10              NaN  3a083b30a7744cb94f3fe6da  40.715921 -74.009982  \n",
       "11              NaN  4efd1635f790570bcf88cbfd  40.714645 -74.015466  \n",
       "12              NaN  52e2f72a498e1de9bce745b0  40.714645 -74.015466  \n",
       "13              NaN  5362a2ae498e3b18c22334be  40.712696 -74.015737  \n",
       "14              NaN  4f0c7c106d866af8d40ae337  40.714904 -74.015869  \n",
       "15           Frnt 4  49bc3b0af964a52020541fe3  40.715456 -74.011439  \n",
       "16              NaN  95e98b4cb7e64cfc140c5d29  40.715258 -74.014748  \n",
       "17              NaN  49f9a233f964a5207d6d1fe3  40.713192 -74.015364  \n",
       "18              NaN  535fc0ea498e4a159c49f7b1  40.711846 -74.015267  \n",
       "19              NaN  4a4baaf8f964a52091ac1fe3  40.715609 -74.009786  \n",
       "20              NaN  594301c89411f241f5b6a2ee  40.714114 -74.015182  \n",
       "21              NaN  86b55075e8d0455c2722e26a  40.711491 -74.012459  \n",
       "22              NaN  8fe07f7c019c4659b0baa279  40.711678 -74.011550  \n",
       "23              NaN  4a01ee7bf964a52010711fe3  40.713494 -74.016162  \n",
       "24           Frnt 1  4a70b5aef964a52040d81fe3  40.715904 -74.010845  \n",
       "25              NaN  4f3232e219836c91c7bfde94  40.714419 -74.009913  "
      ]
     },
     "execution_count": 38,
     "metadata": {},
     "output_type": "execute_result"
    }
   ],
   "source": [
    "# mantener unicamente las columnas que incluyan el nombre del lugar y cualquier cosa asociada a la ubicación\n",
    "filtered_columns = ['name', 'categories'] + [col for col in dataframe.columns if col.startswith('location.')] + ['fsq_id'] + [col for col in dataframe.columns if col.startswith('geocodes.main')]\n",
    "dataframe_filtered = dataframe.loc[:, filtered_columns]\n",
    "\n",
    "# función para extraer la categoría del lugar\n",
    "def get_category_type(row):\n",
    "    try:\n",
    "        categories_list = row['categories']\n",
    "    except:\n",
    "        categories_list = row['venue.categories']\n",
    "        \n",
    "    if len(categories_list) == 0:\n",
    "        return None\n",
    "    else:\n",
    "        return categories_list[0]['name']\n",
    "\n",
    "# filtrar la categoría para cada fila\n",
    "dataframe_filtered['categories'] = dataframe_filtered.apply(get_category_type, axis=1)\n",
    "\n",
    "# limpiar la columna \"names\" manteniendo solo el último término\n",
    "dataframe_filtered.columns = [column.split('.')[-1] for column in dataframe_filtered.columns]\n",
    "\n",
    "dataframe_filtered\n"
   ]
  },
  {
   "cell_type": "markdown",
   "metadata": {
    "button": false,
    "new_sheet": false,
    "run_control": {
     "read_only": false
    }
   },
   "source": [
    "#### Visualicemos los restaurantes italianos cercanos\n"
   ]
  },
  {
   "cell_type": "code",
   "execution_count": 50,
   "metadata": {
    "button": false,
    "collapsed": false,
    "jupyter": {
     "outputs_hidden": false
    },
    "new_sheet": false,
    "run_control": {
     "read_only": false
    }
   },
   "outputs": [
    {
     "data": {
      "text/plain": [
       "0           Harry's Italian Pizza Bar\n",
       "1                       Sant Ambroeus\n",
       "2                                Parm\n",
       "3                    Gigino Trattoria\n",
       "4                   L' Angolo Tribeca\n",
       "5                      Cicci Di Carne\n",
       "6                      Sauce pizzeria\n",
       "7                         Shake Shack\n",
       "8                            iPizzaNY\n",
       "9                    Brookfield Place\n",
       "10             Amore Pizza Restaurant\n",
       "11                         Blue Smoke\n",
       "12                             El Vez\n",
       "13                        Hudson Eats\n",
       "14                              Atrio\n",
       "15                        Whole Foods\n",
       "16                     Global Cuisine\n",
       "17               Winter Garden Atrium\n",
       "18                                Dig\n",
       "19    Zucker's Bagels and Smoked Fish\n",
       "20                Del Frisco's Grille\n",
       "21               Windows on the World\n",
       "22                             Eataly\n",
       "23                      P.J. Clarke's\n",
       "24                     Gee Whiz Diner\n",
       "25              Conca Cucina Italiana\n",
       "Name: name, dtype: object"
      ]
     },
     "execution_count": 50,
     "metadata": {},
     "output_type": "execute_result"
    }
   ],
   "source": [
    "dataframe_filtered.name"
   ]
  },
  {
   "cell_type": "code",
   "execution_count": 55,
   "metadata": {
    "button": false,
    "collapsed": false,
    "jupyter": {
     "outputs_hidden": false
    },
    "new_sheet": false,
    "run_control": {
     "read_only": false
    },
    "scrolled": true
   },
   "outputs": [
    {
     "data": {
      "text/html": [
       "<div style=\"width:100%;\"><div style=\"position:relative;width:100%;height:0;padding-bottom:60%;\"><span style=\"color:#565656\">Make this Notebook Trusted to load map: File -> Trust Notebook</span><iframe srcdoc=\"&lt;!DOCTYPE html&gt;\n",
       "&lt;html&gt;\n",
       "&lt;head&gt;\n",
       "    \n",
       "    &lt;meta http-equiv=&quot;content-type&quot; content=&quot;text/html; charset=UTF-8&quot; /&gt;\n",
       "    &lt;script&gt;L_PREFER_CANVAS = false; L_NO_TOUCH = false; L_DISABLE_3D = false;&lt;/script&gt;\n",
       "    &lt;script src=&quot;https://cdn.jsdelivr.net/npm/leaflet@1.2.0/dist/leaflet.js&quot;&gt;&lt;/script&gt;\n",
       "    &lt;script src=&quot;https://ajax.googleapis.com/ajax/libs/jquery/1.11.1/jquery.min.js&quot;&gt;&lt;/script&gt;\n",
       "    &lt;script src=&quot;https://maxcdn.bootstrapcdn.com/bootstrap/3.2.0/js/bootstrap.min.js&quot;&gt;&lt;/script&gt;\n",
       "    &lt;script src=&quot;https://cdnjs.cloudflare.com/ajax/libs/Leaflet.awesome-markers/2.0.2/leaflet.awesome-markers.js&quot;&gt;&lt;/script&gt;\n",
       "    &lt;link rel=&quot;stylesheet&quot; href=&quot;https://cdn.jsdelivr.net/npm/leaflet@1.2.0/dist/leaflet.css&quot;/&gt;\n",
       "    &lt;link rel=&quot;stylesheet&quot; href=&quot;https://maxcdn.bootstrapcdn.com/bootstrap/3.2.0/css/bootstrap.min.css&quot;/&gt;\n",
       "    &lt;link rel=&quot;stylesheet&quot; href=&quot;https://maxcdn.bootstrapcdn.com/bootstrap/3.2.0/css/bootstrap-theme.min.css&quot;/&gt;\n",
       "    &lt;link rel=&quot;stylesheet&quot; href=&quot;https://maxcdn.bootstrapcdn.com/font-awesome/4.6.3/css/font-awesome.min.css&quot;/&gt;\n",
       "    &lt;link rel=&quot;stylesheet&quot; href=&quot;https://cdnjs.cloudflare.com/ajax/libs/Leaflet.awesome-markers/2.0.2/leaflet.awesome-markers.css&quot;/&gt;\n",
       "    &lt;link rel=&quot;stylesheet&quot; href=&quot;https://rawgit.com/python-visualization/folium/master/folium/templates/leaflet.awesome.rotate.css&quot;/&gt;\n",
       "    &lt;style&gt;html, body {width: 100%;height: 100%;margin: 0;padding: 0;}&lt;/style&gt;\n",
       "    &lt;style&gt;#map {position:absolute;top:0;bottom:0;right:0;left:0;}&lt;/style&gt;\n",
       "    \n",
       "            &lt;style&gt; #map_0602c3cce7115386c31836b91ce95430 {\n",
       "                position : relative;\n",
       "                width : 100.0%;\n",
       "                height: 100.0%;\n",
       "                left: 0.0%;\n",
       "                top: 0.0%;\n",
       "                }\n",
       "            &lt;/style&gt;\n",
       "        \n",
       "&lt;/head&gt;\n",
       "&lt;body&gt;\n",
       "    \n",
       "    \n",
       "            &lt;div class=&quot;folium-map&quot; id=&quot;map_0602c3cce7115386c31836b91ce95430&quot; &gt;&lt;/div&gt;\n",
       "        \n",
       "&lt;/body&gt;\n",
       "&lt;script&gt;\n",
       "    \n",
       "    \n",
       "\n",
       "            \n",
       "                var bounds = null;\n",
       "            \n",
       "\n",
       "            var map_0602c3cce7115386c31836b91ce95430 = L.map(\n",
       "                                  &#x27;map_0602c3cce7115386c31836b91ce95430&#x27;,\n",
       "                                  {center: [40.7149555,-74.0153365],\n",
       "                                  zoom: 13,\n",
       "                                  maxBounds: bounds,\n",
       "                                  layers: [],\n",
       "                                  worldCopyJump: false,\n",
       "                                  crs: L.CRS.EPSG3857\n",
       "                                 });\n",
       "            \n",
       "        \n",
       "    \n",
       "            var tile_layer_5ec542b0163ca52cbbf23421b6fff269 = L.tileLayer(\n",
       "                &#x27;https://{s}.tile.openstreetmap.org/{z}/{x}/{y}.png&#x27;,\n",
       "                {\n",
       "  &quot;attribution&quot;: null,\n",
       "  &quot;detectRetina&quot;: false,\n",
       "  &quot;maxZoom&quot;: 18,\n",
       "  &quot;minZoom&quot;: 1,\n",
       "  &quot;noWrap&quot;: false,\n",
       "  &quot;subdomains&quot;: &quot;abc&quot;\n",
       "}\n",
       "                ).addTo(map_0602c3cce7115386c31836b91ce95430);\n",
       "        \n",
       "    \n",
       "            var circle_marker_6da2f54550dae64ce01b10c307418b2a = L.circleMarker(\n",
       "                [40.7149555,-74.0153365],\n",
       "                {\n",
       "  &quot;bubblingMouseEvents&quot;: true,\n",
       "  &quot;color&quot;: &quot;red&quot;,\n",
       "  &quot;dashArray&quot;: null,\n",
       "  &quot;dashOffset&quot;: null,\n",
       "  &quot;fill&quot;: true,\n",
       "  &quot;fillColor&quot;: &quot;red&quot;,\n",
       "  &quot;fillOpacity&quot;: 0.6,\n",
       "  &quot;fillRule&quot;: &quot;evenodd&quot;,\n",
       "  &quot;lineCap&quot;: &quot;round&quot;,\n",
       "  &quot;lineJoin&quot;: &quot;round&quot;,\n",
       "  &quot;opacity&quot;: 1.0,\n",
       "  &quot;radius&quot;: 10,\n",
       "  &quot;stroke&quot;: true,\n",
       "  &quot;weight&quot;: 3\n",
       "}\n",
       "                ).addTo(map_0602c3cce7115386c31836b91ce95430);\n",
       "            \n",
       "    \n",
       "            var popup_d997ea021f003208449e5e5edcfcf7e3 = L.popup({maxWidth: &#x27;300&#x27;});\n",
       "\n",
       "            \n",
       "                var html_f0f0cf7b0ece26c0b232670cc5120ac2 = $(&#x27;&lt;div id=&quot;html_f0f0cf7b0ece26c0b232670cc5120ac2&quot; style=&quot;width: 100.0%; height: 100.0%;&quot;&gt;Conrad Hotel&lt;/div&gt;&#x27;)[0];\n",
       "                popup_d997ea021f003208449e5e5edcfcf7e3.setContent(html_f0f0cf7b0ece26c0b232670cc5120ac2);\n",
       "            \n",
       "\n",
       "            circle_marker_6da2f54550dae64ce01b10c307418b2a.bindPopup(popup_d997ea021f003208449e5e5edcfcf7e3);\n",
       "\n",
       "            \n",
       "        \n",
       "    \n",
       "            var circle_marker_a9114db6c92f5e2b66a3bcc74e778634 = L.circleMarker(\n",
       "                [40.715256,-74.014835],\n",
       "                {\n",
       "  &quot;bubblingMouseEvents&quot;: true,\n",
       "  &quot;color&quot;: &quot;blue&quot;,\n",
       "  &quot;dashArray&quot;: null,\n",
       "  &quot;dashOffset&quot;: null,\n",
       "  &quot;fill&quot;: true,\n",
       "  &quot;fillColor&quot;: &quot;blue&quot;,\n",
       "  &quot;fillOpacity&quot;: 0.6,\n",
       "  &quot;fillRule&quot;: &quot;evenodd&quot;,\n",
       "  &quot;lineCap&quot;: &quot;round&quot;,\n",
       "  &quot;lineJoin&quot;: &quot;round&quot;,\n",
       "  &quot;opacity&quot;: 1.0,\n",
       "  &quot;radius&quot;: 5,\n",
       "  &quot;stroke&quot;: true,\n",
       "  &quot;weight&quot;: 3\n",
       "}\n",
       "                ).addTo(map_0602c3cce7115386c31836b91ce95430);\n",
       "            \n",
       "    \n",
       "            var popup_70b636c5adc95e8f2e45bcceff928de4 = L.popup({maxWidth: &#x27;300&#x27;});\n",
       "\n",
       "            \n",
       "                var html_08f69c76a329795327efffc11e0f7526 = $(&#x27;&lt;div id=&quot;html_08f69c76a329795327efffc11e0f7526&quot; style=&quot;width: 100.0%; height: 100.0%;&quot;&gt;Pizzeria&lt;/div&gt;&#x27;)[0];\n",
       "                popup_70b636c5adc95e8f2e45bcceff928de4.setContent(html_08f69c76a329795327efffc11e0f7526);\n",
       "            \n",
       "\n",
       "            circle_marker_a9114db6c92f5e2b66a3bcc74e778634.bindPopup(popup_70b636c5adc95e8f2e45bcceff928de4);\n",
       "\n",
       "            \n",
       "        \n",
       "    \n",
       "            var circle_marker_2bada166d5276055e09e55c75da50bc2 = L.circleMarker(\n",
       "                [40.713759,-74.014339],\n",
       "                {\n",
       "  &quot;bubblingMouseEvents&quot;: true,\n",
       "  &quot;color&quot;: &quot;blue&quot;,\n",
       "  &quot;dashArray&quot;: null,\n",
       "  &quot;dashOffset&quot;: null,\n",
       "  &quot;fill&quot;: true,\n",
       "  &quot;fillColor&quot;: &quot;blue&quot;,\n",
       "  &quot;fillOpacity&quot;: 0.6,\n",
       "  &quot;fillRule&quot;: &quot;evenodd&quot;,\n",
       "  &quot;lineCap&quot;: &quot;round&quot;,\n",
       "  &quot;lineJoin&quot;: &quot;round&quot;,\n",
       "  &quot;opacity&quot;: 1.0,\n",
       "  &quot;radius&quot;: 5,\n",
       "  &quot;stroke&quot;: true,\n",
       "  &quot;weight&quot;: 3\n",
       "}\n",
       "                ).addTo(map_0602c3cce7115386c31836b91ce95430);\n",
       "            \n",
       "    \n",
       "            var popup_050dffcec6d3a3d5b703015b92175456 = L.popup({maxWidth: &#x27;300&#x27;});\n",
       "\n",
       "            \n",
       "                var html_10f8d43bf46eefad3ea1efe770b98580 = $(&#x27;&lt;div id=&quot;html_10f8d43bf46eefad3ea1efe770b98580&quot; style=&quot;width: 100.0%; height: 100.0%;&quot;&gt;Italian Restaurant&lt;/div&gt;&#x27;)[0];\n",
       "                popup_050dffcec6d3a3d5b703015b92175456.setContent(html_10f8d43bf46eefad3ea1efe770b98580);\n",
       "            \n",
       "\n",
       "            circle_marker_2bada166d5276055e09e55c75da50bc2.bindPopup(popup_050dffcec6d3a3d5b703015b92175456);\n",
       "\n",
       "            \n",
       "        \n",
       "    \n",
       "            var circle_marker_2e2fc6a1d04f3f57ffcd381eab56fdd3 = L.circleMarker(\n",
       "                [40.71447,-74.015939],\n",
       "                {\n",
       "  &quot;bubblingMouseEvents&quot;: true,\n",
       "  &quot;color&quot;: &quot;blue&quot;,\n",
       "  &quot;dashArray&quot;: null,\n",
       "  &quot;dashOffset&quot;: null,\n",
       "  &quot;fill&quot;: true,\n",
       "  &quot;fillColor&quot;: &quot;blue&quot;,\n",
       "  &quot;fillOpacity&quot;: 0.6,\n",
       "  &quot;fillRule&quot;: &quot;evenodd&quot;,\n",
       "  &quot;lineCap&quot;: &quot;round&quot;,\n",
       "  &quot;lineJoin&quot;: &quot;round&quot;,\n",
       "  &quot;opacity&quot;: 1.0,\n",
       "  &quot;radius&quot;: 5,\n",
       "  &quot;stroke&quot;: true,\n",
       "  &quot;weight&quot;: 3\n",
       "}\n",
       "                ).addTo(map_0602c3cce7115386c31836b91ce95430);\n",
       "            \n",
       "    \n",
       "            var popup_12140ddc61f59d90915d7def55cc3db4 = L.popup({maxWidth: &#x27;300&#x27;});\n",
       "\n",
       "            \n",
       "                var html_8c4b2d5ea110bef14bb8a4f760a2ea36 = $(&#x27;&lt;div id=&quot;html_8c4b2d5ea110bef14bb8a4f760a2ea36&quot; style=&quot;width: 100.0%; height: 100.0%;&quot;&gt;Italian Restaurant&lt;/div&gt;&#x27;)[0];\n",
       "                popup_12140ddc61f59d90915d7def55cc3db4.setContent(html_8c4b2d5ea110bef14bb8a4f760a2ea36);\n",
       "            \n",
       "\n",
       "            circle_marker_2e2fc6a1d04f3f57ffcd381eab56fdd3.bindPopup(popup_12140ddc61f59d90915d7def55cc3db4);\n",
       "\n",
       "            \n",
       "        \n",
       "    \n",
       "            var circle_marker_074493f0c1bc90a95a21100731ac6d59 = L.circleMarker(\n",
       "                [40.717261,-74.010506],\n",
       "                {\n",
       "  &quot;bubblingMouseEvents&quot;: true,\n",
       "  &quot;color&quot;: &quot;blue&quot;,\n",
       "  &quot;dashArray&quot;: null,\n",
       "  &quot;dashOffset&quot;: null,\n",
       "  &quot;fill&quot;: true,\n",
       "  &quot;fillColor&quot;: &quot;blue&quot;,\n",
       "  &quot;fillOpacity&quot;: 0.6,\n",
       "  &quot;fillRule&quot;: &quot;evenodd&quot;,\n",
       "  &quot;lineCap&quot;: &quot;round&quot;,\n",
       "  &quot;lineJoin&quot;: &quot;round&quot;,\n",
       "  &quot;opacity&quot;: 1.0,\n",
       "  &quot;radius&quot;: 5,\n",
       "  &quot;stroke&quot;: true,\n",
       "  &quot;weight&quot;: 3\n",
       "}\n",
       "                ).addTo(map_0602c3cce7115386c31836b91ce95430);\n",
       "            \n",
       "    \n",
       "            var popup_b0d03a6d0790048c994dc293ddae1560 = L.popup({maxWidth: &#x27;300&#x27;});\n",
       "\n",
       "            \n",
       "                var html_5c9c5e6baa39091d6c2a42cf4de331e4 = $(&#x27;&lt;div id=&quot;html_5c9c5e6baa39091d6c2a42cf4de331e4&quot; style=&quot;width: 100.0%; height: 100.0%;&quot;&gt;Restaurant&lt;/div&gt;&#x27;)[0];\n",
       "                popup_b0d03a6d0790048c994dc293ddae1560.setContent(html_5c9c5e6baa39091d6c2a42cf4de331e4);\n",
       "            \n",
       "\n",
       "            circle_marker_074493f0c1bc90a95a21100731ac6d59.bindPopup(popup_b0d03a6d0790048c994dc293ddae1560);\n",
       "\n",
       "            \n",
       "        \n",
       "    \n",
       "            var circle_marker_af1f0cfd4e3ea85eb7054f49cb4c8f21 = L.circleMarker(\n",
       "                [40.717209,-74.010461],\n",
       "                {\n",
       "  &quot;bubblingMouseEvents&quot;: true,\n",
       "  &quot;color&quot;: &quot;blue&quot;,\n",
       "  &quot;dashArray&quot;: null,\n",
       "  &quot;dashOffset&quot;: null,\n",
       "  &quot;fill&quot;: true,\n",
       "  &quot;fillColor&quot;: &quot;blue&quot;,\n",
       "  &quot;fillOpacity&quot;: 0.6,\n",
       "  &quot;fillRule&quot;: &quot;evenodd&quot;,\n",
       "  &quot;lineCap&quot;: &quot;round&quot;,\n",
       "  &quot;lineJoin&quot;: &quot;round&quot;,\n",
       "  &quot;opacity&quot;: 1.0,\n",
       "  &quot;radius&quot;: 5,\n",
       "  &quot;stroke&quot;: true,\n",
       "  &quot;weight&quot;: 3\n",
       "}\n",
       "                ).addTo(map_0602c3cce7115386c31836b91ce95430);\n",
       "            \n",
       "    \n",
       "            var popup_2230fea708ebe765da4f84aef4a7b823 = L.popup({maxWidth: &#x27;300&#x27;});\n",
       "\n",
       "            \n",
       "                var html_5ad3618d679a43d1981c64d22ef36387 = $(&#x27;&lt;div id=&quot;html_5ad3618d679a43d1981c64d22ef36387&quot; style=&quot;width: 100.0%; height: 100.0%;&quot;&gt;Wine Bar&lt;/div&gt;&#x27;)[0];\n",
       "                popup_2230fea708ebe765da4f84aef4a7b823.setContent(html_5ad3618d679a43d1981c64d22ef36387);\n",
       "            \n",
       "\n",
       "            circle_marker_af1f0cfd4e3ea85eb7054f49cb4c8f21.bindPopup(popup_2230fea708ebe765da4f84aef4a7b823);\n",
       "\n",
       "            \n",
       "        \n",
       "    \n",
       "            var circle_marker_6293b1ddf5a8e08f9255f6a247294c4f = L.circleMarker(\n",
       "                [40.713999,-74.015814],\n",
       "                {\n",
       "  &quot;bubblingMouseEvents&quot;: true,\n",
       "  &quot;color&quot;: &quot;blue&quot;,\n",
       "  &quot;dashArray&quot;: null,\n",
       "  &quot;dashOffset&quot;: null,\n",
       "  &quot;fill&quot;: true,\n",
       "  &quot;fillColor&quot;: &quot;blue&quot;,\n",
       "  &quot;fillOpacity&quot;: 0.6,\n",
       "  &quot;fillRule&quot;: &quot;evenodd&quot;,\n",
       "  &quot;lineCap&quot;: &quot;round&quot;,\n",
       "  &quot;lineJoin&quot;: &quot;round&quot;,\n",
       "  &quot;opacity&quot;: 1.0,\n",
       "  &quot;radius&quot;: 5,\n",
       "  &quot;stroke&quot;: true,\n",
       "  &quot;weight&quot;: 3\n",
       "}\n",
       "                ).addTo(map_0602c3cce7115386c31836b91ce95430);\n",
       "            \n",
       "    \n",
       "            var popup_85c36f899ee37cc2395632a2621dc1a4 = L.popup({maxWidth: &#x27;300&#x27;});\n",
       "\n",
       "            \n",
       "                var html_bb545b9cbc32d5a09677e2170a5b0222 = $(&#x27;&lt;div id=&quot;html_bb545b9cbc32d5a09677e2170a5b0222&quot; style=&quot;width: 100.0%; height: 100.0%;&quot;&gt;Italian Restaurant&lt;/div&gt;&#x27;)[0];\n",
       "                popup_85c36f899ee37cc2395632a2621dc1a4.setContent(html_bb545b9cbc32d5a09677e2170a5b0222);\n",
       "            \n",
       "\n",
       "            circle_marker_6293b1ddf5a8e08f9255f6a247294c4f.bindPopup(popup_85c36f899ee37cc2395632a2621dc1a4);\n",
       "\n",
       "            \n",
       "        \n",
       "    \n",
       "            var circle_marker_5f4c8330f172895d268252f4555c5b91 = L.circleMarker(\n",
       "                [40.712365,-74.015102],\n",
       "                {\n",
       "  &quot;bubblingMouseEvents&quot;: true,\n",
       "  &quot;color&quot;: &quot;blue&quot;,\n",
       "  &quot;dashArray&quot;: null,\n",
       "  &quot;dashOffset&quot;: null,\n",
       "  &quot;fill&quot;: true,\n",
       "  &quot;fillColor&quot;: &quot;blue&quot;,\n",
       "  &quot;fillOpacity&quot;: 0.6,\n",
       "  &quot;fillRule&quot;: &quot;evenodd&quot;,\n",
       "  &quot;lineCap&quot;: &quot;round&quot;,\n",
       "  &quot;lineJoin&quot;: &quot;round&quot;,\n",
       "  &quot;opacity&quot;: 1.0,\n",
       "  &quot;radius&quot;: 5,\n",
       "  &quot;stroke&quot;: true,\n",
       "  &quot;weight&quot;: 3\n",
       "}\n",
       "                ).addTo(map_0602c3cce7115386c31836b91ce95430);\n",
       "            \n",
       "    \n",
       "            var popup_976725c9a001a6cd2640cb654dbb3db4 = L.popup({maxWidth: &#x27;300&#x27;});\n",
       "\n",
       "            \n",
       "                var html_3843ced8cd5384e98eebe42d23266f2f = $(&#x27;&lt;div id=&quot;html_3843ced8cd5384e98eebe42d23266f2f&quot; style=&quot;width: 100.0%; height: 100.0%;&quot;&gt;Pizzeria&lt;/div&gt;&#x27;)[0];\n",
       "                popup_976725c9a001a6cd2640cb654dbb3db4.setContent(html_3843ced8cd5384e98eebe42d23266f2f);\n",
       "            \n",
       "\n",
       "            circle_marker_5f4c8330f172895d268252f4555c5b91.bindPopup(popup_976725c9a001a6cd2640cb654dbb3db4);\n",
       "\n",
       "            \n",
       "        \n",
       "    \n",
       "            var circle_marker_64b6c88ebec4363c1e3e148af70cf622 = L.circleMarker(\n",
       "                [40.715146,-74.014918],\n",
       "                {\n",
       "  &quot;bubblingMouseEvents&quot;: true,\n",
       "  &quot;color&quot;: &quot;blue&quot;,\n",
       "  &quot;dashArray&quot;: null,\n",
       "  &quot;dashOffset&quot;: null,\n",
       "  &quot;fill&quot;: true,\n",
       "  &quot;fillColor&quot;: &quot;blue&quot;,\n",
       "  &quot;fillOpacity&quot;: 0.6,\n",
       "  &quot;fillRule&quot;: &quot;evenodd&quot;,\n",
       "  &quot;lineCap&quot;: &quot;round&quot;,\n",
       "  &quot;lineJoin&quot;: &quot;round&quot;,\n",
       "  &quot;opacity&quot;: 1.0,\n",
       "  &quot;radius&quot;: 5,\n",
       "  &quot;stroke&quot;: true,\n",
       "  &quot;weight&quot;: 3\n",
       "}\n",
       "                ).addTo(map_0602c3cce7115386c31836b91ce95430);\n",
       "            \n",
       "    \n",
       "            var popup_1ceb3dc4ebd15bd4a78a785d9b09af08 = L.popup({maxWidth: &#x27;300&#x27;});\n",
       "\n",
       "            \n",
       "                var html_95fa2e1a05f7d0e95026cfe825b345dd = $(&#x27;&lt;div id=&quot;html_95fa2e1a05f7d0e95026cfe825b345dd&quot; style=&quot;width: 100.0%; height: 100.0%;&quot;&gt;Burger Joint&lt;/div&gt;&#x27;)[0];\n",
       "                popup_1ceb3dc4ebd15bd4a78a785d9b09af08.setContent(html_95fa2e1a05f7d0e95026cfe825b345dd);\n",
       "            \n",
       "\n",
       "            circle_marker_64b6c88ebec4363c1e3e148af70cf622.bindPopup(popup_1ceb3dc4ebd15bd4a78a785d9b09af08);\n",
       "\n",
       "            \n",
       "        \n",
       "    \n",
       "            var circle_marker_45843037ef6a258225746c7f09fc2f7f = L.circleMarker(\n",
       "                [40.716344,-74.010514],\n",
       "                {\n",
       "  &quot;bubblingMouseEvents&quot;: true,\n",
       "  &quot;color&quot;: &quot;blue&quot;,\n",
       "  &quot;dashArray&quot;: null,\n",
       "  &quot;dashOffset&quot;: null,\n",
       "  &quot;fill&quot;: true,\n",
       "  &quot;fillColor&quot;: &quot;blue&quot;,\n",
       "  &quot;fillOpacity&quot;: 0.6,\n",
       "  &quot;fillRule&quot;: &quot;evenodd&quot;,\n",
       "  &quot;lineCap&quot;: &quot;round&quot;,\n",
       "  &quot;lineJoin&quot;: &quot;round&quot;,\n",
       "  &quot;opacity&quot;: 1.0,\n",
       "  &quot;radius&quot;: 5,\n",
       "  &quot;stroke&quot;: true,\n",
       "  &quot;weight&quot;: 3\n",
       "}\n",
       "                ).addTo(map_0602c3cce7115386c31836b91ce95430);\n",
       "            \n",
       "    \n",
       "            var popup_a05bc9195aa60088c70a59c0fc88f4a7 = L.popup({maxWidth: &#x27;300&#x27;});\n",
       "\n",
       "            \n",
       "                var html_0534aaace29d5d58eae1d830a4983df1 = $(&#x27;&lt;div id=&quot;html_0534aaace29d5d58eae1d830a4983df1&quot; style=&quot;width: 100.0%; height: 100.0%;&quot;&gt;Italian Restaurant&lt;/div&gt;&#x27;)[0];\n",
       "                popup_a05bc9195aa60088c70a59c0fc88f4a7.setContent(html_0534aaace29d5d58eae1d830a4983df1);\n",
       "            \n",
       "\n",
       "            circle_marker_45843037ef6a258225746c7f09fc2f7f.bindPopup(popup_a05bc9195aa60088c70a59c0fc88f4a7);\n",
       "\n",
       "            \n",
       "        \n",
       "    \n",
       "            var circle_marker_f1dd1fbc2d26d857b0b6cd047304baec = L.circleMarker(\n",
       "                [40.713927,-74.016092],\n",
       "                {\n",
       "  &quot;bubblingMouseEvents&quot;: true,\n",
       "  &quot;color&quot;: &quot;blue&quot;,\n",
       "  &quot;dashArray&quot;: null,\n",
       "  &quot;dashOffset&quot;: null,\n",
       "  &quot;fill&quot;: true,\n",
       "  &quot;fillColor&quot;: &quot;blue&quot;,\n",
       "  &quot;fillOpacity&quot;: 0.6,\n",
       "  &quot;fillRule&quot;: &quot;evenodd&quot;,\n",
       "  &quot;lineCap&quot;: &quot;round&quot;,\n",
       "  &quot;lineJoin&quot;: &quot;round&quot;,\n",
       "  &quot;opacity&quot;: 1.0,\n",
       "  &quot;radius&quot;: 5,\n",
       "  &quot;stroke&quot;: true,\n",
       "  &quot;weight&quot;: 3\n",
       "}\n",
       "                ).addTo(map_0602c3cce7115386c31836b91ce95430);\n",
       "            \n",
       "    \n",
       "            var popup_5b8f12ad121a35f61a38c650cbaf0185 = L.popup({maxWidth: &#x27;300&#x27;});\n",
       "\n",
       "            \n",
       "                var html_d942cad4e235d501ccce18ef41ebda4f = $(&#x27;&lt;div id=&quot;html_d942cad4e235d501ccce18ef41ebda4f&quot; style=&quot;width: 100.0%; height: 100.0%;&quot;&gt;Shopping Mall&lt;/div&gt;&#x27;)[0];\n",
       "                popup_5b8f12ad121a35f61a38c650cbaf0185.setContent(html_d942cad4e235d501ccce18ef41ebda4f);\n",
       "            \n",
       "\n",
       "            circle_marker_f1dd1fbc2d26d857b0b6cd047304baec.bindPopup(popup_5b8f12ad121a35f61a38c650cbaf0185);\n",
       "\n",
       "            \n",
       "        \n",
       "    \n",
       "            var circle_marker_3661f49aef9ec3fb499b955867ad9729 = L.circleMarker(\n",
       "                [40.715921,-74.009982],\n",
       "                {\n",
       "  &quot;bubblingMouseEvents&quot;: true,\n",
       "  &quot;color&quot;: &quot;blue&quot;,\n",
       "  &quot;dashArray&quot;: null,\n",
       "  &quot;dashOffset&quot;: null,\n",
       "  &quot;fill&quot;: true,\n",
       "  &quot;fillColor&quot;: &quot;blue&quot;,\n",
       "  &quot;fillOpacity&quot;: 0.6,\n",
       "  &quot;fillRule&quot;: &quot;evenodd&quot;,\n",
       "  &quot;lineCap&quot;: &quot;round&quot;,\n",
       "  &quot;lineJoin&quot;: &quot;round&quot;,\n",
       "  &quot;opacity&quot;: 1.0,\n",
       "  &quot;radius&quot;: 5,\n",
       "  &quot;stroke&quot;: true,\n",
       "  &quot;weight&quot;: 3\n",
       "}\n",
       "                ).addTo(map_0602c3cce7115386c31836b91ce95430);\n",
       "            \n",
       "    \n",
       "            var popup_076292da29c2c5ff3528f952a161b554 = L.popup({maxWidth: &#x27;300&#x27;});\n",
       "\n",
       "            \n",
       "                var html_d045a67d4c98d5ab3efb46dcaeb1d9df = $(&#x27;&lt;div id=&quot;html_d045a67d4c98d5ab3efb46dcaeb1d9df&quot; style=&quot;width: 100.0%; height: 100.0%;&quot;&gt;Pizzeria&lt;/div&gt;&#x27;)[0];\n",
       "                popup_076292da29c2c5ff3528f952a161b554.setContent(html_d045a67d4c98d5ab3efb46dcaeb1d9df);\n",
       "            \n",
       "\n",
       "            circle_marker_3661f49aef9ec3fb499b955867ad9729.bindPopup(popup_076292da29c2c5ff3528f952a161b554);\n",
       "\n",
       "            \n",
       "        \n",
       "    \n",
       "            var circle_marker_983c72414a2e1bee81e3927bb38a979a = L.circleMarker(\n",
       "                [40.714645,-74.015466],\n",
       "                {\n",
       "  &quot;bubblingMouseEvents&quot;: true,\n",
       "  &quot;color&quot;: &quot;blue&quot;,\n",
       "  &quot;dashArray&quot;: null,\n",
       "  &quot;dashOffset&quot;: null,\n",
       "  &quot;fill&quot;: true,\n",
       "  &quot;fillColor&quot;: &quot;blue&quot;,\n",
       "  &quot;fillOpacity&quot;: 0.6,\n",
       "  &quot;fillRule&quot;: &quot;evenodd&quot;,\n",
       "  &quot;lineCap&quot;: &quot;round&quot;,\n",
       "  &quot;lineJoin&quot;: &quot;round&quot;,\n",
       "  &quot;opacity&quot;: 1.0,\n",
       "  &quot;radius&quot;: 5,\n",
       "  &quot;stroke&quot;: true,\n",
       "  &quot;weight&quot;: 3\n",
       "}\n",
       "                ).addTo(map_0602c3cce7115386c31836b91ce95430);\n",
       "            \n",
       "    \n",
       "            var popup_20fd49e899b2ec786a84b9ab8b4fe6e9 = L.popup({maxWidth: &#x27;300&#x27;});\n",
       "\n",
       "            \n",
       "                var html_4f2cc5c55738a4ab0cda821237162875 = $(&#x27;&lt;div id=&quot;html_4f2cc5c55738a4ab0cda821237162875&quot; style=&quot;width: 100.0%; height: 100.0%;&quot;&gt;BBQ Joint&lt;/div&gt;&#x27;)[0];\n",
       "                popup_20fd49e899b2ec786a84b9ab8b4fe6e9.setContent(html_4f2cc5c55738a4ab0cda821237162875);\n",
       "            \n",
       "\n",
       "            circle_marker_983c72414a2e1bee81e3927bb38a979a.bindPopup(popup_20fd49e899b2ec786a84b9ab8b4fe6e9);\n",
       "\n",
       "            \n",
       "        \n",
       "    \n",
       "            var circle_marker_7bd9c40d2871d812c10b783d8a56605a = L.circleMarker(\n",
       "                [40.714645,-74.015466],\n",
       "                {\n",
       "  &quot;bubblingMouseEvents&quot;: true,\n",
       "  &quot;color&quot;: &quot;blue&quot;,\n",
       "  &quot;dashArray&quot;: null,\n",
       "  &quot;dashOffset&quot;: null,\n",
       "  &quot;fill&quot;: true,\n",
       "  &quot;fillColor&quot;: &quot;blue&quot;,\n",
       "  &quot;fillOpacity&quot;: 0.6,\n",
       "  &quot;fillRule&quot;: &quot;evenodd&quot;,\n",
       "  &quot;lineCap&quot;: &quot;round&quot;,\n",
       "  &quot;lineJoin&quot;: &quot;round&quot;,\n",
       "  &quot;opacity&quot;: 1.0,\n",
       "  &quot;radius&quot;: 5,\n",
       "  &quot;stroke&quot;: true,\n",
       "  &quot;weight&quot;: 3\n",
       "}\n",
       "                ).addTo(map_0602c3cce7115386c31836b91ce95430);\n",
       "            \n",
       "    \n",
       "            var popup_ddff9a466fba1f2c7e64a0f976e18cad = L.popup({maxWidth: &#x27;300&#x27;});\n",
       "\n",
       "            \n",
       "                var html_1d573a3591e6572da23ce90529563dc0 = $(&#x27;&lt;div id=&quot;html_1d573a3591e6572da23ce90529563dc0&quot; style=&quot;width: 100.0%; height: 100.0%;&quot;&gt;American Restaurant&lt;/div&gt;&#x27;)[0];\n",
       "                popup_ddff9a466fba1f2c7e64a0f976e18cad.setContent(html_1d573a3591e6572da23ce90529563dc0);\n",
       "            \n",
       "\n",
       "            circle_marker_7bd9c40d2871d812c10b783d8a56605a.bindPopup(popup_ddff9a466fba1f2c7e64a0f976e18cad);\n",
       "\n",
       "            \n",
       "        \n",
       "    \n",
       "            var circle_marker_665c3cfb9483c95d0e1e804cf07d90b4 = L.circleMarker(\n",
       "                [40.712696,-74.015737],\n",
       "                {\n",
       "  &quot;bubblingMouseEvents&quot;: true,\n",
       "  &quot;color&quot;: &quot;blue&quot;,\n",
       "  &quot;dashArray&quot;: null,\n",
       "  &quot;dashOffset&quot;: null,\n",
       "  &quot;fill&quot;: true,\n",
       "  &quot;fillColor&quot;: &quot;blue&quot;,\n",
       "  &quot;fillOpacity&quot;: 0.6,\n",
       "  &quot;fillRule&quot;: &quot;evenodd&quot;,\n",
       "  &quot;lineCap&quot;: &quot;round&quot;,\n",
       "  &quot;lineJoin&quot;: &quot;round&quot;,\n",
       "  &quot;opacity&quot;: 1.0,\n",
       "  &quot;radius&quot;: 5,\n",
       "  &quot;stroke&quot;: true,\n",
       "  &quot;weight&quot;: 3\n",
       "}\n",
       "                ).addTo(map_0602c3cce7115386c31836b91ce95430);\n",
       "            \n",
       "    \n",
       "            var popup_7ea2aaeecc48131b8a741e22b01117d6 = L.popup({maxWidth: &#x27;300&#x27;});\n",
       "\n",
       "            \n",
       "                var html_2f7289d46ad66637e604b094e7eb2066 = $(&#x27;&lt;div id=&quot;html_2f7289d46ad66637e604b094e7eb2066&quot; style=&quot;width: 100.0%; height: 100.0%;&quot;&gt;Food Court&lt;/div&gt;&#x27;)[0];\n",
       "                popup_7ea2aaeecc48131b8a741e22b01117d6.setContent(html_2f7289d46ad66637e604b094e7eb2066);\n",
       "            \n",
       "\n",
       "            circle_marker_665c3cfb9483c95d0e1e804cf07d90b4.bindPopup(popup_7ea2aaeecc48131b8a741e22b01117d6);\n",
       "\n",
       "            \n",
       "        \n",
       "    \n",
       "            var circle_marker_2f7df658664e33065e572b11b511fb7e = L.circleMarker(\n",
       "                [40.714904,-74.015869],\n",
       "                {\n",
       "  &quot;bubblingMouseEvents&quot;: true,\n",
       "  &quot;color&quot;: &quot;blue&quot;,\n",
       "  &quot;dashArray&quot;: null,\n",
       "  &quot;dashOffset&quot;: null,\n",
       "  &quot;fill&quot;: true,\n",
       "  &quot;fillColor&quot;: &quot;blue&quot;,\n",
       "  &quot;fillOpacity&quot;: 0.6,\n",
       "  &quot;fillRule&quot;: &quot;evenodd&quot;,\n",
       "  &quot;lineCap&quot;: &quot;round&quot;,\n",
       "  &quot;lineJoin&quot;: &quot;round&quot;,\n",
       "  &quot;opacity&quot;: 1.0,\n",
       "  &quot;radius&quot;: 5,\n",
       "  &quot;stroke&quot;: true,\n",
       "  &quot;weight&quot;: 3\n",
       "}\n",
       "                ).addTo(map_0602c3cce7115386c31836b91ce95430);\n",
       "            \n",
       "    \n",
       "            var popup_7f26d4f1decc2248e18bf18f672ad878 = L.popup({maxWidth: &#x27;300&#x27;});\n",
       "\n",
       "            \n",
       "                var html_bac616d694e6ebfe97782b3ce015fb97 = $(&#x27;&lt;div id=&quot;html_bac616d694e6ebfe97782b3ce015fb97&quot; style=&quot;width: 100.0%; height: 100.0%;&quot;&gt;American Restaurant&lt;/div&gt;&#x27;)[0];\n",
       "                popup_7f26d4f1decc2248e18bf18f672ad878.setContent(html_bac616d694e6ebfe97782b3ce015fb97);\n",
       "            \n",
       "\n",
       "            circle_marker_2f7df658664e33065e572b11b511fb7e.bindPopup(popup_7f26d4f1decc2248e18bf18f672ad878);\n",
       "\n",
       "            \n",
       "        \n",
       "    \n",
       "            var circle_marker_f24f62a8260ffd368bd9755a3377dc4e = L.circleMarker(\n",
       "                [40.715456,-74.011439],\n",
       "                {\n",
       "  &quot;bubblingMouseEvents&quot;: true,\n",
       "  &quot;color&quot;: &quot;blue&quot;,\n",
       "  &quot;dashArray&quot;: null,\n",
       "  &quot;dashOffset&quot;: null,\n",
       "  &quot;fill&quot;: true,\n",
       "  &quot;fillColor&quot;: &quot;blue&quot;,\n",
       "  &quot;fillOpacity&quot;: 0.6,\n",
       "  &quot;fillRule&quot;: &quot;evenodd&quot;,\n",
       "  &quot;lineCap&quot;: &quot;round&quot;,\n",
       "  &quot;lineJoin&quot;: &quot;round&quot;,\n",
       "  &quot;opacity&quot;: 1.0,\n",
       "  &quot;radius&quot;: 5,\n",
       "  &quot;stroke&quot;: true,\n",
       "  &quot;weight&quot;: 3\n",
       "}\n",
       "                ).addTo(map_0602c3cce7115386c31836b91ce95430);\n",
       "            \n",
       "    \n",
       "            var popup_f0e939cdada4e5e3360d6dd24787578f = L.popup({maxWidth: &#x27;300&#x27;});\n",
       "\n",
       "            \n",
       "                var html_a0ee31352dcf4f66cae060398f7ab477 = $(&#x27;&lt;div id=&quot;html_a0ee31352dcf4f66cae060398f7ab477&quot; style=&quot;width: 100.0%; height: 100.0%;&quot;&gt;Grocery Store / Supermarket&lt;/div&gt;&#x27;)[0];\n",
       "                popup_f0e939cdada4e5e3360d6dd24787578f.setContent(html_a0ee31352dcf4f66cae060398f7ab477);\n",
       "            \n",
       "\n",
       "            circle_marker_f24f62a8260ffd368bd9755a3377dc4e.bindPopup(popup_f0e939cdada4e5e3360d6dd24787578f);\n",
       "\n",
       "            \n",
       "        \n",
       "    \n",
       "            var circle_marker_6aee1ffdf2932ee355fbf2ccc8ae8cae = L.circleMarker(\n",
       "                [40.715258,-74.014748],\n",
       "                {\n",
       "  &quot;bubblingMouseEvents&quot;: true,\n",
       "  &quot;color&quot;: &quot;blue&quot;,\n",
       "  &quot;dashArray&quot;: null,\n",
       "  &quot;dashOffset&quot;: null,\n",
       "  &quot;fill&quot;: true,\n",
       "  &quot;fillColor&quot;: &quot;blue&quot;,\n",
       "  &quot;fillOpacity&quot;: 0.6,\n",
       "  &quot;fillRule&quot;: &quot;evenodd&quot;,\n",
       "  &quot;lineCap&quot;: &quot;round&quot;,\n",
       "  &quot;lineJoin&quot;: &quot;round&quot;,\n",
       "  &quot;opacity&quot;: 1.0,\n",
       "  &quot;radius&quot;: 5,\n",
       "  &quot;stroke&quot;: true,\n",
       "  &quot;weight&quot;: 3\n",
       "}\n",
       "                ).addTo(map_0602c3cce7115386c31836b91ce95430);\n",
       "            \n",
       "    \n",
       "            var popup_ea9a1b275e1a87d54b48ae721408ce84 = L.popup({maxWidth: &#x27;300&#x27;});\n",
       "\n",
       "            \n",
       "                var html_79b26a47144def8ead14fa8885e72d53 = $(&#x27;&lt;div id=&quot;html_79b26a47144def8ead14fa8885e72d53&quot; style=&quot;width: 100.0%; height: 100.0%;&quot;&gt;Chinese Restaurant&lt;/div&gt;&#x27;)[0];\n",
       "                popup_ea9a1b275e1a87d54b48ae721408ce84.setContent(html_79b26a47144def8ead14fa8885e72d53);\n",
       "            \n",
       "\n",
       "            circle_marker_6aee1ffdf2932ee355fbf2ccc8ae8cae.bindPopup(popup_ea9a1b275e1a87d54b48ae721408ce84);\n",
       "\n",
       "            \n",
       "        \n",
       "    \n",
       "            var circle_marker_0645676383d58ebf2d6e7369e7d2dbdf = L.circleMarker(\n",
       "                [40.713192,-74.015364],\n",
       "                {\n",
       "  &quot;bubblingMouseEvents&quot;: true,\n",
       "  &quot;color&quot;: &quot;blue&quot;,\n",
       "  &quot;dashArray&quot;: null,\n",
       "  &quot;dashOffset&quot;: null,\n",
       "  &quot;fill&quot;: true,\n",
       "  &quot;fillColor&quot;: &quot;blue&quot;,\n",
       "  &quot;fillOpacity&quot;: 0.6,\n",
       "  &quot;fillRule&quot;: &quot;evenodd&quot;,\n",
       "  &quot;lineCap&quot;: &quot;round&quot;,\n",
       "  &quot;lineJoin&quot;: &quot;round&quot;,\n",
       "  &quot;opacity&quot;: 1.0,\n",
       "  &quot;radius&quot;: 5,\n",
       "  &quot;stroke&quot;: true,\n",
       "  &quot;weight&quot;: 3\n",
       "}\n",
       "                ).addTo(map_0602c3cce7115386c31836b91ce95430);\n",
       "            \n",
       "    \n",
       "            var popup_b30f12b417b52268678c94b57018d515 = L.popup({maxWidth: &#x27;300&#x27;});\n",
       "\n",
       "            \n",
       "                var html_2de8e3acfe9bedbf977ea6a240b7fff2 = $(&#x27;&lt;div id=&quot;html_2de8e3acfe9bedbf977ea6a240b7fff2&quot; style=&quot;width: 100.0%; height: 100.0%;&quot;&gt;Performing Arts Venue&lt;/div&gt;&#x27;)[0];\n",
       "                popup_b30f12b417b52268678c94b57018d515.setContent(html_2de8e3acfe9bedbf977ea6a240b7fff2);\n",
       "            \n",
       "\n",
       "            circle_marker_0645676383d58ebf2d6e7369e7d2dbdf.bindPopup(popup_b30f12b417b52268678c94b57018d515);\n",
       "\n",
       "            \n",
       "        \n",
       "    \n",
       "            var circle_marker_637ea6d987193e9c1a885ad23c3d6568 = L.circleMarker(\n",
       "                [40.711846,-74.015267],\n",
       "                {\n",
       "  &quot;bubblingMouseEvents&quot;: true,\n",
       "  &quot;color&quot;: &quot;blue&quot;,\n",
       "  &quot;dashArray&quot;: null,\n",
       "  &quot;dashOffset&quot;: null,\n",
       "  &quot;fill&quot;: true,\n",
       "  &quot;fillColor&quot;: &quot;blue&quot;,\n",
       "  &quot;fillOpacity&quot;: 0.6,\n",
       "  &quot;fillRule&quot;: &quot;evenodd&quot;,\n",
       "  &quot;lineCap&quot;: &quot;round&quot;,\n",
       "  &quot;lineJoin&quot;: &quot;round&quot;,\n",
       "  &quot;opacity&quot;: 1.0,\n",
       "  &quot;radius&quot;: 5,\n",
       "  &quot;stroke&quot;: true,\n",
       "  &quot;weight&quot;: 3\n",
       "}\n",
       "                ).addTo(map_0602c3cce7115386c31836b91ce95430);\n",
       "            \n",
       "    \n",
       "            var popup_c06c8eed8956114b8fefecf156dc5f76 = L.popup({maxWidth: &#x27;300&#x27;});\n",
       "\n",
       "            \n",
       "                var html_ac1ca68b5da4b894ce8c404e4b389325 = $(&#x27;&lt;div id=&quot;html_ac1ca68b5da4b894ce8c404e4b389325&quot; style=&quot;width: 100.0%; height: 100.0%;&quot;&gt;American Restaurant&lt;/div&gt;&#x27;)[0];\n",
       "                popup_c06c8eed8956114b8fefecf156dc5f76.setContent(html_ac1ca68b5da4b894ce8c404e4b389325);\n",
       "            \n",
       "\n",
       "            circle_marker_637ea6d987193e9c1a885ad23c3d6568.bindPopup(popup_c06c8eed8956114b8fefecf156dc5f76);\n",
       "\n",
       "            \n",
       "        \n",
       "    \n",
       "            var circle_marker_07a6ade40545b655259eeec7d94aec21 = L.circleMarker(\n",
       "                [40.715609,-74.009786],\n",
       "                {\n",
       "  &quot;bubblingMouseEvents&quot;: true,\n",
       "  &quot;color&quot;: &quot;blue&quot;,\n",
       "  &quot;dashArray&quot;: null,\n",
       "  &quot;dashOffset&quot;: null,\n",
       "  &quot;fill&quot;: true,\n",
       "  &quot;fillColor&quot;: &quot;blue&quot;,\n",
       "  &quot;fillOpacity&quot;: 0.6,\n",
       "  &quot;fillRule&quot;: &quot;evenodd&quot;,\n",
       "  &quot;lineCap&quot;: &quot;round&quot;,\n",
       "  &quot;lineJoin&quot;: &quot;round&quot;,\n",
       "  &quot;opacity&quot;: 1.0,\n",
       "  &quot;radius&quot;: 5,\n",
       "  &quot;stroke&quot;: true,\n",
       "  &quot;weight&quot;: 3\n",
       "}\n",
       "                ).addTo(map_0602c3cce7115386c31836b91ce95430);\n",
       "            \n",
       "    \n",
       "            var popup_a0ca7c2cd74a546a7ff9268d8c6236ed = L.popup({maxWidth: &#x27;300&#x27;});\n",
       "\n",
       "            \n",
       "                var html_399aec4051a109fe21efba56dba05b66 = $(&#x27;&lt;div id=&quot;html_399aec4051a109fe21efba56dba05b66&quot; style=&quot;width: 100.0%; height: 100.0%;&quot;&gt;Bagel Shop&lt;/div&gt;&#x27;)[0];\n",
       "                popup_a0ca7c2cd74a546a7ff9268d8c6236ed.setContent(html_399aec4051a109fe21efba56dba05b66);\n",
       "            \n",
       "\n",
       "            circle_marker_07a6ade40545b655259eeec7d94aec21.bindPopup(popup_a0ca7c2cd74a546a7ff9268d8c6236ed);\n",
       "\n",
       "            \n",
       "        \n",
       "    \n",
       "            var circle_marker_26f7f3588bf920d4d93d0321705ad4f2 = L.circleMarker(\n",
       "                [40.714114,-74.015182],\n",
       "                {\n",
       "  &quot;bubblingMouseEvents&quot;: true,\n",
       "  &quot;color&quot;: &quot;blue&quot;,\n",
       "  &quot;dashArray&quot;: null,\n",
       "  &quot;dashOffset&quot;: null,\n",
       "  &quot;fill&quot;: true,\n",
       "  &quot;fillColor&quot;: &quot;blue&quot;,\n",
       "  &quot;fillOpacity&quot;: 0.6,\n",
       "  &quot;fillRule&quot;: &quot;evenodd&quot;,\n",
       "  &quot;lineCap&quot;: &quot;round&quot;,\n",
       "  &quot;lineJoin&quot;: &quot;round&quot;,\n",
       "  &quot;opacity&quot;: 1.0,\n",
       "  &quot;radius&quot;: 5,\n",
       "  &quot;stroke&quot;: true,\n",
       "  &quot;weight&quot;: 3\n",
       "}\n",
       "                ).addTo(map_0602c3cce7115386c31836b91ce95430);\n",
       "            \n",
       "    \n",
       "            var popup_ac9fb18e48131299a1eb5efa6c1f6e30 = L.popup({maxWidth: &#x27;300&#x27;});\n",
       "\n",
       "            \n",
       "                var html_5f5a2d4fa3960cf50d639066779bfb81 = $(&#x27;&lt;div id=&quot;html_5f5a2d4fa3960cf50d639066779bfb81&quot; style=&quot;width: 100.0%; height: 100.0%;&quot;&gt;Steakhouse&lt;/div&gt;&#x27;)[0];\n",
       "                popup_ac9fb18e48131299a1eb5efa6c1f6e30.setContent(html_5f5a2d4fa3960cf50d639066779bfb81);\n",
       "            \n",
       "\n",
       "            circle_marker_26f7f3588bf920d4d93d0321705ad4f2.bindPopup(popup_ac9fb18e48131299a1eb5efa6c1f6e30);\n",
       "\n",
       "            \n",
       "        \n",
       "    \n",
       "            var circle_marker_c8cdfb92256da90e65dd729112d00aad = L.circleMarker(\n",
       "                [40.711491,-74.012459],\n",
       "                {\n",
       "  &quot;bubblingMouseEvents&quot;: true,\n",
       "  &quot;color&quot;: &quot;blue&quot;,\n",
       "  &quot;dashArray&quot;: null,\n",
       "  &quot;dashOffset&quot;: null,\n",
       "  &quot;fill&quot;: true,\n",
       "  &quot;fillColor&quot;: &quot;blue&quot;,\n",
       "  &quot;fillOpacity&quot;: 0.6,\n",
       "  &quot;fillRule&quot;: &quot;evenodd&quot;,\n",
       "  &quot;lineCap&quot;: &quot;round&quot;,\n",
       "  &quot;lineJoin&quot;: &quot;round&quot;,\n",
       "  &quot;opacity&quot;: 1.0,\n",
       "  &quot;radius&quot;: 5,\n",
       "  &quot;stroke&quot;: true,\n",
       "  &quot;weight&quot;: 3\n",
       "}\n",
       "                ).addTo(map_0602c3cce7115386c31836b91ce95430);\n",
       "            \n",
       "    \n",
       "            var popup_5da08736947d025aa7ec7df359ce1ad6 = L.popup({maxWidth: &#x27;300&#x27;});\n",
       "\n",
       "            \n",
       "                var html_028dc0f3cc87f959edeab57ec87c2573 = $(&#x27;&lt;div id=&quot;html_028dc0f3cc87f959edeab57ec87c2573&quot; style=&quot;width: 100.0%; height: 100.0%;&quot;&gt;American Restaurant&lt;/div&gt;&#x27;)[0];\n",
       "                popup_5da08736947d025aa7ec7df359ce1ad6.setContent(html_028dc0f3cc87f959edeab57ec87c2573);\n",
       "            \n",
       "\n",
       "            circle_marker_c8cdfb92256da90e65dd729112d00aad.bindPopup(popup_5da08736947d025aa7ec7df359ce1ad6);\n",
       "\n",
       "            \n",
       "        \n",
       "    \n",
       "            var circle_marker_dbf324bba7b3090e886e3ccb9998536a = L.circleMarker(\n",
       "                [40.711678,-74.01155],\n",
       "                {\n",
       "  &quot;bubblingMouseEvents&quot;: true,\n",
       "  &quot;color&quot;: &quot;blue&quot;,\n",
       "  &quot;dashArray&quot;: null,\n",
       "  &quot;dashOffset&quot;: null,\n",
       "  &quot;fill&quot;: true,\n",
       "  &quot;fillColor&quot;: &quot;blue&quot;,\n",
       "  &quot;fillOpacity&quot;: 0.6,\n",
       "  &quot;fillRule&quot;: &quot;evenodd&quot;,\n",
       "  &quot;lineCap&quot;: &quot;round&quot;,\n",
       "  &quot;lineJoin&quot;: &quot;round&quot;,\n",
       "  &quot;opacity&quot;: 1.0,\n",
       "  &quot;radius&quot;: 5,\n",
       "  &quot;stroke&quot;: true,\n",
       "  &quot;weight&quot;: 3\n",
       "}\n",
       "                ).addTo(map_0602c3cce7115386c31836b91ce95430);\n",
       "            \n",
       "    \n",
       "            var popup_881a1530935f28a7c8f8f3a39468bf85 = L.popup({maxWidth: &#x27;300&#x27;});\n",
       "\n",
       "            \n",
       "                var html_01642babb174a05f08542911049e801f = $(&#x27;&lt;div id=&quot;html_01642babb174a05f08542911049e801f&quot; style=&quot;width: 100.0%; height: 100.0%;&quot;&gt;Italian Restaurant&lt;/div&gt;&#x27;)[0];\n",
       "                popup_881a1530935f28a7c8f8f3a39468bf85.setContent(html_01642babb174a05f08542911049e801f);\n",
       "            \n",
       "\n",
       "            circle_marker_dbf324bba7b3090e886e3ccb9998536a.bindPopup(popup_881a1530935f28a7c8f8f3a39468bf85);\n",
       "\n",
       "            \n",
       "        \n",
       "    \n",
       "            var circle_marker_7a948ff563180147801f00f01bda6c88 = L.circleMarker(\n",
       "                [40.713494,-74.016162],\n",
       "                {\n",
       "  &quot;bubblingMouseEvents&quot;: true,\n",
       "  &quot;color&quot;: &quot;blue&quot;,\n",
       "  &quot;dashArray&quot;: null,\n",
       "  &quot;dashOffset&quot;: null,\n",
       "  &quot;fill&quot;: true,\n",
       "  &quot;fillColor&quot;: &quot;blue&quot;,\n",
       "  &quot;fillOpacity&quot;: 0.6,\n",
       "  &quot;fillRule&quot;: &quot;evenodd&quot;,\n",
       "  &quot;lineCap&quot;: &quot;round&quot;,\n",
       "  &quot;lineJoin&quot;: &quot;round&quot;,\n",
       "  &quot;opacity&quot;: 1.0,\n",
       "  &quot;radius&quot;: 5,\n",
       "  &quot;stroke&quot;: true,\n",
       "  &quot;weight&quot;: 3\n",
       "}\n",
       "                ).addTo(map_0602c3cce7115386c31836b91ce95430);\n",
       "            \n",
       "    \n",
       "            var popup_2c488812d1f96b760a23be08eb73b5b6 = L.popup({maxWidth: &#x27;300&#x27;});\n",
       "\n",
       "            \n",
       "                var html_084d8258b3789d2480c241d3652fab54 = $(&#x27;&lt;div id=&quot;html_084d8258b3789d2480c241d3652fab54&quot; style=&quot;width: 100.0%; height: 100.0%;&quot;&gt;Burger Joint&lt;/div&gt;&#x27;)[0];\n",
       "                popup_2c488812d1f96b760a23be08eb73b5b6.setContent(html_084d8258b3789d2480c241d3652fab54);\n",
       "            \n",
       "\n",
       "            circle_marker_7a948ff563180147801f00f01bda6c88.bindPopup(popup_2c488812d1f96b760a23be08eb73b5b6);\n",
       "\n",
       "            \n",
       "        \n",
       "    \n",
       "            var circle_marker_5210c65618686e7e9ec10e9ab1c723cd = L.circleMarker(\n",
       "                [40.715904,-74.010845],\n",
       "                {\n",
       "  &quot;bubblingMouseEvents&quot;: true,\n",
       "  &quot;color&quot;: &quot;blue&quot;,\n",
       "  &quot;dashArray&quot;: null,\n",
       "  &quot;dashOffset&quot;: null,\n",
       "  &quot;fill&quot;: true,\n",
       "  &quot;fillColor&quot;: &quot;blue&quot;,\n",
       "  &quot;fillOpacity&quot;: 0.6,\n",
       "  &quot;fillRule&quot;: &quot;evenodd&quot;,\n",
       "  &quot;lineCap&quot;: &quot;round&quot;,\n",
       "  &quot;lineJoin&quot;: &quot;round&quot;,\n",
       "  &quot;opacity&quot;: 1.0,\n",
       "  &quot;radius&quot;: 5,\n",
       "  &quot;stroke&quot;: true,\n",
       "  &quot;weight&quot;: 3\n",
       "}\n",
       "                ).addTo(map_0602c3cce7115386c31836b91ce95430);\n",
       "            \n",
       "    \n",
       "            var popup_645a395117d24585092f94167dea9ae2 = L.popup({maxWidth: &#x27;300&#x27;});\n",
       "\n",
       "            \n",
       "                var html_3491d1fc260ad844d454d4e7750cc67f = $(&#x27;&lt;div id=&quot;html_3491d1fc260ad844d454d4e7750cc67f&quot; style=&quot;width: 100.0%; height: 100.0%;&quot;&gt;Burger Joint&lt;/div&gt;&#x27;)[0];\n",
       "                popup_645a395117d24585092f94167dea9ae2.setContent(html_3491d1fc260ad844d454d4e7750cc67f);\n",
       "            \n",
       "\n",
       "            circle_marker_5210c65618686e7e9ec10e9ab1c723cd.bindPopup(popup_645a395117d24585092f94167dea9ae2);\n",
       "\n",
       "            \n",
       "        \n",
       "    \n",
       "            var circle_marker_a4084450f324f71076aadaf5959c03f5 = L.circleMarker(\n",
       "                [40.714419,-74.009913],\n",
       "                {\n",
       "  &quot;bubblingMouseEvents&quot;: true,\n",
       "  &quot;color&quot;: &quot;blue&quot;,\n",
       "  &quot;dashArray&quot;: null,\n",
       "  &quot;dashOffset&quot;: null,\n",
       "  &quot;fill&quot;: true,\n",
       "  &quot;fillColor&quot;: &quot;blue&quot;,\n",
       "  &quot;fillOpacity&quot;: 0.6,\n",
       "  &quot;fillRule&quot;: &quot;evenodd&quot;,\n",
       "  &quot;lineCap&quot;: &quot;round&quot;,\n",
       "  &quot;lineJoin&quot;: &quot;round&quot;,\n",
       "  &quot;opacity&quot;: 1.0,\n",
       "  &quot;radius&quot;: 5,\n",
       "  &quot;stroke&quot;: true,\n",
       "  &quot;weight&quot;: 3\n",
       "}\n",
       "                ).addTo(map_0602c3cce7115386c31836b91ce95430);\n",
       "            \n",
       "    \n",
       "            var popup_6d00bf8c5a6245a37e6b5ca0f3e8b1ae = L.popup({maxWidth: &#x27;300&#x27;});\n",
       "\n",
       "            \n",
       "                var html_304c65c5fcf58796e93efcd4832fe7b5 = $(&#x27;&lt;div id=&quot;html_304c65c5fcf58796e93efcd4832fe7b5&quot; style=&quot;width: 100.0%; height: 100.0%;&quot;&gt;Pizzeria&lt;/div&gt;&#x27;)[0];\n",
       "                popup_6d00bf8c5a6245a37e6b5ca0f3e8b1ae.setContent(html_304c65c5fcf58796e93efcd4832fe7b5);\n",
       "            \n",
       "\n",
       "            circle_marker_a4084450f324f71076aadaf5959c03f5.bindPopup(popup_6d00bf8c5a6245a37e6b5ca0f3e8b1ae);\n",
       "\n",
       "            \n",
       "        \n",
       "&lt;/script&gt;\n",
       "&lt;/html&gt;\" style=\"position:absolute;width:100%;height:100%;left:0;top:0;border:none !important;\" allowfullscreen webkitallowfullscreen mozallowfullscreen></iframe></div></div>"
      ],
      "text/plain": [
       "<folium.folium.Map at 0x7fc96d187f10>"
      ]
     },
     "execution_count": 55,
     "metadata": {},
     "output_type": "execute_result"
    }
   ],
   "source": [
    "venues_map = folium.Map(location=[latitude, longitude], zoom_start=13) # generate map centred around the Conrad Hotel\n",
    "\n",
    "# añadir un circulo rojo que represente el Hotel Conrad\n",
    "folium.CircleMarker(\n",
    "    [latitude, longitude],\n",
    "    radius=10,\n",
    "    color='red',\n",
    "    popup='Conrad Hotel',\n",
    "    fill = True,\n",
    "    fill_color = 'red',\n",
    "    fill_opacity = 0.6\n",
    ").add_to(venues_map)\n",
    "\n",
    "# añadir los restaurantes italianos como circulo azules\n",
    "for lat, lng, label in zip(dataframe_filtered.latitude, dataframe_filtered.longitude, dataframe_filtered.categories):\n",
    "    folium.CircleMarker(\n",
    "        [lat, lng],\n",
    "        radius=5,\n",
    "        color='blue',\n",
    "        popup=label,\n",
    "        fill = True,\n",
    "        fill_color='blue',\n",
    "        fill_opacity=0.6\n",
    "    ).add_to(venues_map)\n",
    "\n",
    "# mostrar el mapa\n",
    "venues_map"
   ]
  },
  {
   "cell_type": "markdown",
   "metadata": {
    "button": false,
    "new_sheet": false,
    "run_control": {
     "read_only": false
    }
   },
   "source": []
  },
  {
   "cell_type": "markdown",
   "metadata": {
    "button": false,
    "new_sheet": false,
    "run_control": {
     "read_only": false
    }
   },
   "source": [
    "<a id=\"item2\"></a>\n"
   ]
  },
  {
   "cell_type": "markdown",
   "metadata": {
    "button": false,
    "new_sheet": false,
    "run_control": {
     "read_only": false
    }
   },
   "source": [
    "## 2. Explorar un Lugar Dado\n",
    "\n",
    "> `https://api.foursquare.com/v2/venues/`**VENUE_ID**`?client_id=`**CLIENT_ID**`&client_secret=`**CLIENT_SECRET**`&v=`**VERSION**\n"
   ]
  },
  {
   "cell_type": "markdown",
   "metadata": {
    "button": false,
    "new_sheet": false,
    "run_control": {
     "read_only": false
    }
   },
   "source": [
    "### A. Investiguemos el restaurante italiano mas cercano -- *Harry's Italian Pizza Bar*\n"
   ]
  },
  {
   "cell_type": "code",
   "execution_count": 56,
   "metadata": {
    "button": false,
    "collapsed": false,
    "jupyter": {
     "outputs_hidden": false
    },
    "new_sheet": false,
    "run_control": {
     "read_only": false
    }
   },
   "outputs": [
    {
     "data": {
      "text/plain": [
       "'https://api.foursquare.com/v3/places/4fa862b3e4b0ebff2f749f06?client_id=55S2ZJJJVK3T1D1ZDNQLHEAH15HG4AHHMYJZNETKJK5EXKBB&client_secret=NRH3ODLT453CFZY2C0P33DJEDKCXROHBNC1OQSMT52ST3TD4&v=20180604'"
      ]
     },
     "execution_count": 56,
     "metadata": {},
     "output_type": "execute_result"
    }
   ],
   "source": [
    "venue_id = '4fa862b3e4b0ebff2f749f06' # ID of Harry's Italian Pizza Bar\n",
    "url = 'https://api.foursquare.com/v3/places/{}?client_id={}&client_secret={}&v={}'.format(venue_id, CLIENT_ID, CLIENT_SECRET, VERSION)\n",
    "url"
   ]
  },
  {
   "cell_type": "markdown",
   "metadata": {
    "button": false,
    "new_sheet": false,
    "run_control": {
     "read_only": false
    }
   },
   "source": [
    "#### Enviar la petición GET y examinar los resultados\n"
   ]
  },
  {
   "cell_type": "code",
   "execution_count": 59,
   "metadata": {
    "button": false,
    "collapsed": false,
    "jupyter": {
     "outputs_hidden": false
    },
    "new_sheet": false,
    "run_control": {
     "read_only": false
    }
   },
   "outputs": [
    {
     "name": "stdout",
     "output_type": "stream",
     "text": [
      "dict_keys(['fsq_id', 'categories', 'chains', 'geocodes', 'link', 'location', 'name', 'related_places', 'timezone'])\n"
     ]
    },
    {
     "data": {
      "text/plain": [
       "{'fsq_id': '4fa862b3e4b0ebff2f749f06',\n",
       " 'categories': [{'id': 13064,\n",
       "   'name': 'Pizzeria',\n",
       "   'icon': {'prefix': 'https://ss3.4sqi.net/img/categories_v2/food/pizza_',\n",
       "    'suffix': '.png'}},\n",
       "  {'id': 13236,\n",
       "   'name': 'Italian Restaurant',\n",
       "   'icon': {'prefix': 'https://ss3.4sqi.net/img/categories_v2/food/italian_',\n",
       "    'suffix': '.png'}}],\n",
       " 'chains': [],\n",
       " 'geocodes': {'main': {'latitude': 40.715256, 'longitude': -74.014835},\n",
       "  'roof': {'latitude': 40.715256, 'longitude': -74.014835}},\n",
       " 'link': '/v3/places/4fa862b3e4b0ebff2f749f06',\n",
       " 'location': {'address': '225 Murray St',\n",
       "  'census_block': '360610317033007',\n",
       "  'country': 'US',\n",
       "  'dma': 'New York',\n",
       "  'formatted_address': '225 Murray St, New York, NY 10282',\n",
       "  'locality': 'New York',\n",
       "  'postcode': '10282',\n",
       "  'region': 'NY'},\n",
       " 'name': \"Harry's Italian Pizza Bar\",\n",
       " 'related_places': {},\n",
       " 'timezone': 'America/New_York'}"
      ]
     },
     "execution_count": 59,
     "metadata": {},
     "output_type": "execute_result"
    }
   ],
   "source": [
    "result = requests.request(\"GET\", url, headers=headers).json()\n",
    "print(result.keys())\n",
    "result\n"
   ]
  },
  {
   "cell_type": "markdown",
   "metadata": {
    "button": false,
    "new_sheet": false,
    "run_control": {
     "read_only": false
    }
   },
   "source": [
    "### B. Obtener la puntuación general del lugar\n"
   ]
  },
  {
   "cell_type": "code",
   "execution_count": 60,
   "metadata": {
    "button": false,
    "collapsed": false,
    "jupyter": {
     "outputs_hidden": false
    },
    "new_sheet": false,
    "run_control": {
     "read_only": false
    }
   },
   "outputs": [
    {
     "name": "stdout",
     "output_type": "stream",
     "text": [
      "This venue has not been rated yet.\n"
     ]
    }
   ],
   "source": [
    "try:\n",
    "    print(result['rating'])\n",
    "except:\n",
    "    print('This venue has not been rated yet.')"
   ]
  },
  {
   "cell_type": "markdown",
   "metadata": {
    "button": false,
    "new_sheet": false,
    "run_control": {
     "read_only": false
    }
   },
   "source": [
    "No es una puntuación muy buena. Revisemos la puntuación del siguiente restaurante italiano mas cercano.\n"
   ]
  },
  {
   "cell_type": "code",
   "execution_count": 61,
   "metadata": {
    "button": false,
    "collapsed": false,
    "jupyter": {
     "outputs_hidden": false
    },
    "new_sheet": false,
    "run_control": {
     "read_only": false
    }
   },
   "outputs": [
    {
     "name": "stdout",
     "output_type": "stream",
     "text": [
      "This venue has not been rated yet.\n"
     ]
    }
   ],
   "source": [
    "venue_id = '4f3232e219836c91c7bfde94' # ID del Restaurante Conca Cucina Italian\n",
    "url = 'https://api.foursquare.com/v3/places/{}?client_id={}&client_secret={}&v={}'.format(venue_id, CLIENT_ID, CLIENT_SECRET, VERSION)\n",
    "\n",
    "result = requests.request(\"GET\", url, headers=headers).json()\n",
    "try:\n",
    "    print(result['rating'])\n",
    "except:\n",
    "    print('This venue has not been rated yet.')"
   ]
  },
  {
   "cell_type": "markdown",
   "metadata": {
    "button": false,
    "new_sheet": false,
    "run_control": {
     "read_only": false
    }
   },
   "source": [
    "Debido a que este restaurante no tiene puntuación, revisemos un tercero\n"
   ]
  },
  {
   "cell_type": "code",
   "execution_count": 68,
   "metadata": {},
   "outputs": [
    {
     "data": {
      "text/plain": [
       "[{'id': '5ab1cb46c9a517174651d3fe',\n",
       "  'created_at': '2018-03-21T03:02:30.000Z',\n",
       "  'text': 'A+ Italian food! Trust me on this: my mom’s side of the family is 100% Italian. I was born and bred to know good pasta when I see it, and Ecco is one of my all-time NYC favorites'},\n",
       " {'id': '5cb7051b180b910039f90625',\n",
       "  'created_at': '2019-04-17T10:51:07.000Z',\n",
       "  'text': 'Excellent food!! Osso bucco special one of the best I ever had! Lobster ravioli with porcini mushroomhomemade Italian cheesecake, tiramisu and napoleons...calamari fra diavolo was sautéed not fried'},\n",
       " {'id': '5247cb68498eeac13eb4c3e1',\n",
       "  'created_at': '2013-09-29T06:40:40.000Z',\n",
       "  'text': 'Service was truly excellent- attentive, quick, & friendly. Food was equally amazing- particularly calamari and pollo alla scarpiello. The sauces were incredibly flavorful. Great wine list too! A+++'},\n",
       " {'id': '5bc9fa3f5455b2002c84f781',\n",
       "  'created_at': '2018-10-19T15:37:35.000Z',\n",
       "  'text': 'Ignore the Wall Street types, you are here for the food. Baked clams, gnocchi, house veal. Old school New York Italian in a gorgeous saloon style space.'},\n",
       " {'id': '4c7ac41f278eb713ae245c80',\n",
       "  'created_at': '2010-08-29T20:33:35.000Z',\n",
       "  'text': 'Old world comfort where you can enjoy veal chop alla salvia, lobster fra diavolo and branzino al forno. You can get our free Downtown dining guide at http://www.downtownny.com/mapsguides/'},\n",
       " {'id': '5a9a1dc70d173f60ff04a4e7',\n",
       "  'created_at': '2018-03-03T04:00:07.000Z',\n",
       "  'text': 'Everything is amazing in this place.'},\n",
       " {'id': '4f289fdfe4b0adf39f89a832',\n",
       "  'created_at': '2012-02-01T02:13:51.000Z',\n",
       "  'text': 'Alana is awesome! She makes you feel at home no matter how far you have flown.'},\n",
       " {'id': '563e0df7cd100e587973828a',\n",
       "  'created_at': '2015-11-07T14:43:03.000Z',\n",
       "  'text': 'New York strip to die for'},\n",
       " {'id': '5e1e7410ccf4480006a2701d',\n",
       "  'created_at': '2020-01-15T02:08:16.000Z',\n",
       "  'text': 'Sadly, Ecco is shuttered after more than 35 years in TriBeCa'},\n",
       " {'id': '5e0c9e6fa1849300078365c1',\n",
       "  'created_at': '2020-01-01T13:28:15.000Z',\n",
       "  'text': 'Sadly, Ecco’s last day after decades in Chambers was December 31, 2019. New landlord, untenable rent increase.'}]"
      ]
     },
     "execution_count": 68,
     "metadata": {},
     "output_type": "execute_result"
    }
   ],
   "source": [
    "venue_id = '3fd66200f964a520f4e41ee3' # ID de Ecco\n",
    "url = 'https://api.foursquare.com/v3/places/{}/tips'.format(venue_id)\n",
    "\n",
    "result_tips = requests.request(\"GET\", url, headers=headers).json()\n",
    "\n",
    "result_tips\n"
   ]
  },
  {
   "cell_type": "code",
   "execution_count": 69,
   "metadata": {
    "button": false,
    "collapsed": false,
    "jupyter": {
     "outputs_hidden": false
    },
    "new_sheet": false,
    "run_control": {
     "read_only": false
    }
   },
   "outputs": [
    {
     "name": "stdout",
     "output_type": "stream",
     "text": [
      "This venue has not been rated yet.\n"
     ]
    },
    {
     "data": {
      "text/plain": [
       "{'fsq_id': '3fd66200f964a520f4e41ee3',\n",
       " 'categories': [{'id': 13236,\n",
       "   'name': 'Italian Restaurant',\n",
       "   'icon': {'prefix': 'https://ss3.4sqi.net/img/categories_v2/food/italian_',\n",
       "    'suffix': '.png'}}],\n",
       " 'chains': [],\n",
       " 'geocodes': {'main': {'latitude': 40.715192, 'longitude': -74.008808}},\n",
       " 'link': '/v3/places/3fd66200f964a520f4e41ee3',\n",
       " 'location': {'address': '124 Chambers St',\n",
       "  'address_extended': 'Apt 2',\n",
       "  'census_block': '360610021001002',\n",
       "  'country': 'US',\n",
       "  'cross_street': 'btwn Church St & W Broadway',\n",
       "  'dma': 'New York',\n",
       "  'formatted_address': '124 Chambers St (btwn Church St & W Broadway), New York, NY 10007',\n",
       "  'locality': 'New York',\n",
       "  'postcode': '10007',\n",
       "  'region': 'NY'},\n",
       " 'name': 'Ecco',\n",
       " 'related_places': {},\n",
       " 'timezone': 'America/New_York'}"
      ]
     },
     "execution_count": 69,
     "metadata": {},
     "output_type": "execute_result"
    }
   ],
   "source": [
    "venue_id = '3fd66200f964a520f4e41ee3' # ID de Ecco\n",
    "url = 'https://api.foursquare.com/v3/places/{}?client_id={}&client_secret={}&v={}'.format(venue_id, CLIENT_ID, CLIENT_SECRET, VERSION)\n",
    "\n",
    "result = requests.request(\"GET\", url, headers=headers).json()\n",
    "try:\n",
    "    print(result['rating'])\n",
    "except:\n",
    "    print('This venue has not been rated yet.')\n",
    "\n",
    "result.keys()\n",
    "result"
   ]
  },
  {
   "cell_type": "markdown",
   "metadata": {
    "button": false,
    "new_sheet": false,
    "run_control": {
     "read_only": false
    }
   },
   "source": [
    "Este restaurante tiene un puntuación ligeramente mejor, revisemosla con mas detalle.\n"
   ]
  },
  {
   "cell_type": "markdown",
   "metadata": {
    "button": false,
    "new_sheet": false,
    "run_control": {
     "read_only": false
    }
   },
   "source": [
    "### C. Obtener el número de consejos\n"
   ]
  },
  {
   "cell_type": "code",
   "execution_count": 73,
   "metadata": {
    "button": false,
    "collapsed": false,
    "jupyter": {
     "outputs_hidden": false
    },
    "new_sheet": false,
    "run_control": {
     "read_only": false
    }
   },
   "outputs": [
    {
     "data": {
      "text/plain": [
       "[{'id': '5ab1cb46c9a517174651d3fe',\n",
       "  'created_at': '2018-03-21T03:02:30.000Z',\n",
       "  'text': 'A+ Italian food! Trust me on this: my mom’s side of the family is 100% Italian. I was born and bred to know good pasta when I see it, and Ecco is one of my all-time NYC favorites'},\n",
       " {'id': '5cb7051b180b910039f90625',\n",
       "  'created_at': '2019-04-17T10:51:07.000Z',\n",
       "  'text': 'Excellent food!! Osso bucco special one of the best I ever had! Lobster ravioli with porcini mushroomhomemade Italian cheesecake, tiramisu and napoleons...calamari fra diavolo was sautéed not fried'},\n",
       " {'id': '5247cb68498eeac13eb4c3e1',\n",
       "  'created_at': '2013-09-29T06:40:40.000Z',\n",
       "  'text': 'Service was truly excellent- attentive, quick, & friendly. Food was equally amazing- particularly calamari and pollo alla scarpiello. The sauces were incredibly flavorful. Great wine list too! A+++'},\n",
       " {'id': '5bc9fa3f5455b2002c84f781',\n",
       "  'created_at': '2018-10-19T15:37:35.000Z',\n",
       "  'text': 'Ignore the Wall Street types, you are here for the food. Baked clams, gnocchi, house veal. Old school New York Italian in a gorgeous saloon style space.'},\n",
       " {'id': '4c7ac41f278eb713ae245c80',\n",
       "  'created_at': '2010-08-29T20:33:35.000Z',\n",
       "  'text': 'Old world comfort where you can enjoy veal chop alla salvia, lobster fra diavolo and branzino al forno. You can get our free Downtown dining guide at http://www.downtownny.com/mapsguides/'},\n",
       " {'id': '5a9a1dc70d173f60ff04a4e7',\n",
       "  'created_at': '2018-03-03T04:00:07.000Z',\n",
       "  'text': 'Everything is amazing in this place.'},\n",
       " {'id': '4f289fdfe4b0adf39f89a832',\n",
       "  'created_at': '2012-02-01T02:13:51.000Z',\n",
       "  'text': 'Alana is awesome! She makes you feel at home no matter how far you have flown.'},\n",
       " {'id': '563e0df7cd100e587973828a',\n",
       "  'created_at': '2015-11-07T14:43:03.000Z',\n",
       "  'text': 'New York strip to die for'},\n",
       " {'id': '5e1e7410ccf4480006a2701d',\n",
       "  'created_at': '2020-01-15T02:08:16.000Z',\n",
       "  'text': 'Sadly, Ecco is shuttered after more than 35 years in TriBeCa'},\n",
       " {'id': '5e0c9e6fa1849300078365c1',\n",
       "  'created_at': '2020-01-01T13:28:15.000Z',\n",
       "  'text': 'Sadly, Ecco’s last day after decades in Chambers was December 31, 2019. New landlord, untenable rent increase.'}]"
      ]
     },
     "execution_count": 73,
     "metadata": {},
     "output_type": "execute_result"
    }
   ],
   "source": [
    "result_tips"
   ]
  },
  {
   "cell_type": "markdown",
   "metadata": {
    "button": false,
    "new_sheet": false,
    "run_control": {
     "read_only": false
    }
   },
   "source": [
    "### D. Obtener los consejos de un lugar\n",
    "\n",
    "> `https://api.foursquare.com/v2/venues/`**VENUE_ID**`/tips?client_id=`**CLIENT_ID**`&client_secret=`**CLIENT_SECRET**`&v=`**VERSION**`&limit=`**LIMIT**\n"
   ]
  },
  {
   "cell_type": "markdown",
   "metadata": {
    "button": false,
    "new_sheet": false,
    "run_control": {
     "read_only": false
    }
   },
   "source": [
    "#### Generar una URL y enviar una solicitud GET. Asegúrese de establecer el límite para obtener todos los consejos\n"
   ]
  },
  {
   "cell_type": "code",
   "execution_count": 74,
   "metadata": {
    "button": false,
    "collapsed": false,
    "jupyter": {
     "outputs_hidden": false
    },
    "new_sheet": false,
    "run_control": {
     "read_only": false
    }
   },
   "outputs": [
    {
     "data": {
      "text/plain": [
       "[{'id': '5ab1cb46c9a517174651d3fe',\n",
       "  'created_at': '2018-03-21T03:02:30.000Z',\n",
       "  'text': 'A+ Italian food! Trust me on this: my mom’s side of the family is 100% Italian. I was born and bred to know good pasta when I see it, and Ecco is one of my all-time NYC favorites'},\n",
       " {'id': '5cb7051b180b910039f90625',\n",
       "  'created_at': '2019-04-17T10:51:07.000Z',\n",
       "  'text': 'Excellent food!! Osso bucco special one of the best I ever had! Lobster ravioli with porcini mushroomhomemade Italian cheesecake, tiramisu and napoleons...calamari fra diavolo was sautéed not fried'},\n",
       " {'id': '5247cb68498eeac13eb4c3e1',\n",
       "  'created_at': '2013-09-29T06:40:40.000Z',\n",
       "  'text': 'Service was truly excellent- attentive, quick, & friendly. Food was equally amazing- particularly calamari and pollo alla scarpiello. The sauces were incredibly flavorful. Great wine list too! A+++'},\n",
       " {'id': '5bc9fa3f5455b2002c84f781',\n",
       "  'created_at': '2018-10-19T15:37:35.000Z',\n",
       "  'text': 'Ignore the Wall Street types, you are here for the food. Baked clams, gnocchi, house veal. Old school New York Italian in a gorgeous saloon style space.'},\n",
       " {'id': '4c7ac41f278eb713ae245c80',\n",
       "  'created_at': '2010-08-29T20:33:35.000Z',\n",
       "  'text': 'Old world comfort where you can enjoy veal chop alla salvia, lobster fra diavolo and branzino al forno. You can get our free Downtown dining guide at http://www.downtownny.com/mapsguides/'},\n",
       " {'id': '5a9a1dc70d173f60ff04a4e7',\n",
       "  'created_at': '2018-03-03T04:00:07.000Z',\n",
       "  'text': 'Everything is amazing in this place.'},\n",
       " {'id': '4f289fdfe4b0adf39f89a832',\n",
       "  'created_at': '2012-02-01T02:13:51.000Z',\n",
       "  'text': 'Alana is awesome! She makes you feel at home no matter how far you have flown.'},\n",
       " {'id': '563e0df7cd100e587973828a',\n",
       "  'created_at': '2015-11-07T14:43:03.000Z',\n",
       "  'text': 'New York strip to die for'},\n",
       " {'id': '5e1e7410ccf4480006a2701d',\n",
       "  'created_at': '2020-01-15T02:08:16.000Z',\n",
       "  'text': 'Sadly, Ecco is shuttered after more than 35 years in TriBeCa'},\n",
       " {'id': '5e0c9e6fa1849300078365c1',\n",
       "  'created_at': '2020-01-01T13:28:15.000Z',\n",
       "  'text': 'Sadly, Ecco’s last day after decades in Chambers was December 31, 2019. New landlord, untenable rent increase.'},\n",
       " {'id': '53e54fd6498ef3c011579655',\n",
       "  'created_at': '2014-08-08T22:31:50.000Z',\n",
       "  'text': 'Service. Food and drinks. Love it 100%👍👍👍'},\n",
       " {'id': '528978d811d2f94177d1fcdc',\n",
       "  'created_at': '2013-11-18T02:18:00.000Z',\n",
       "  'text': 'It was ok! Nothing excepcional, but you can say that is a honest service.'},\n",
       " {'id': '4ca4e1fa965c9c744604c7fa',\n",
       "  'created_at': '2010-09-30T19:16:10.000Z',\n",
       "  'text': 'lobster ravioli all the way but most importantly, pay attention to their specials..'},\n",
       " {'id': '52f7977a11d262c1858cc523',\n",
       "  'created_at': '2014-02-09T14:58:02.000Z',\n",
       "  'text': 'The food and service is excellent.'},\n",
       " {'id': '4bce651c70c603bbf29b98b4',\n",
       "  'created_at': '2010-04-21T02:38:20.000Z',\n",
       "  'text': 'Veal Milanese is classic and very good.'}]"
      ]
     },
     "execution_count": 74,
     "metadata": {},
     "output_type": "execute_result"
    }
   ],
   "source": [
    "## Consejos de Ecco\n",
    "limit = 15 # establece el límite para ser mayor o igual al número total de consejos\n",
    "url = 'https://api.foursquare.com/v3/places/{}/tips?client_id={}&client_secret={}&v={}&limit={}'.format(venue_id, CLIENT_ID, CLIENT_SECRET, VERSION, limit)\n",
    "\n",
    "results = requests.request(\"GET\", url, headers=headers).json()\n",
    "results"
   ]
  },
  {
   "cell_type": "markdown",
   "metadata": {
    "button": false,
    "new_sheet": false,
    "run_control": {
     "read_only": false
    }
   },
   "source": [
    "#### Obtener consejos y la lista de características asociadas\n"
   ]
  },
  {
   "cell_type": "code",
   "execution_count": 75,
   "metadata": {
    "button": false,
    "collapsed": false,
    "jupyter": {
     "outputs_hidden": false
    },
    "new_sheet": false,
    "run_control": {
     "read_only": false
    }
   },
   "outputs": [
    {
     "data": {
      "text/plain": [
       "dict_keys(['id', 'created_at', 'text'])"
      ]
     },
     "execution_count": 75,
     "metadata": {},
     "output_type": "execute_result"
    }
   ],
   "source": [
    "tips = results\n",
    "\n",
    "tip = results[0]\n",
    "tip.keys()"
   ]
  },
  {
   "cell_type": "markdown",
   "metadata": {
    "button": false,
    "new_sheet": false,
    "run_control": {
     "read_only": false
    }
   },
   "source": [
    "#### Dar formato al ancho de la columna y mostrar todos los consejos\n"
   ]
  },
  {
   "cell_type": "code",
   "execution_count": 76,
   "metadata": {
    "button": false,
    "collapsed": false,
    "jupyter": {
     "outputs_hidden": false
    },
    "new_sheet": false,
    "run_control": {
     "read_only": false
    }
   },
   "outputs": [
    {
     "name": "stderr",
     "output_type": "stream",
     "text": [
      "/home/jupyterlab/conda/envs/python/lib/python3.7/site-packages/ipykernel_launcher.py:1: FutureWarning: Passing a negative integer is deprecated in version 1.0 and will not be supported in future version. Instead, use None to not limit the column width.\n",
      "  \"\"\"Entry point for launching an IPython kernel.\n",
      "/home/jupyterlab/conda/envs/python/lib/python3.7/site-packages/ipykernel_launcher.py:3: FutureWarning: pandas.io.json.json_normalize is deprecated, use pandas.json_normalize instead\n",
      "  This is separate from the ipykernel package so we can avoid doing imports until\n"
     ]
    },
    {
     "data": {
      "text/html": [
       "<div>\n",
       "<style scoped>\n",
       "    .dataframe tbody tr th:only-of-type {\n",
       "        vertical-align: middle;\n",
       "    }\n",
       "\n",
       "    .dataframe tbody tr th {\n",
       "        vertical-align: top;\n",
       "    }\n",
       "\n",
       "    .dataframe thead th {\n",
       "        text-align: right;\n",
       "    }\n",
       "</style>\n",
       "<table border=\"1\" class=\"dataframe\">\n",
       "  <thead>\n",
       "    <tr style=\"text-align: right;\">\n",
       "      <th></th>\n",
       "      <th>text</th>\n",
       "      <th>id</th>\n",
       "      <th>created_at</th>\n",
       "    </tr>\n",
       "  </thead>\n",
       "  <tbody>\n",
       "    <tr>\n",
       "      <th>0</th>\n",
       "      <td>A+ Italian food! Trust me on this: my mom’s side of the family is 100% Italian. I was born and bred to know good pasta when I see it, and Ecco is one of my all-time NYC favorites</td>\n",
       "      <td>5ab1cb46c9a517174651d3fe</td>\n",
       "      <td>2018-03-21T03:02:30.000Z</td>\n",
       "    </tr>\n",
       "    <tr>\n",
       "      <th>1</th>\n",
       "      <td>Excellent food!! Osso bucco special one of the best I ever had! Lobster ravioli with porcini mushroomhomemade Italian cheesecake, tiramisu and napoleons...calamari fra diavolo was sautéed not fried</td>\n",
       "      <td>5cb7051b180b910039f90625</td>\n",
       "      <td>2019-04-17T10:51:07.000Z</td>\n",
       "    </tr>\n",
       "    <tr>\n",
       "      <th>2</th>\n",
       "      <td>Service was truly excellent- attentive, quick, &amp; friendly. Food was equally amazing- particularly calamari and pollo alla scarpiello. The sauces were incredibly flavorful. Great wine list too! A+++</td>\n",
       "      <td>5247cb68498eeac13eb4c3e1</td>\n",
       "      <td>2013-09-29T06:40:40.000Z</td>\n",
       "    </tr>\n",
       "    <tr>\n",
       "      <th>3</th>\n",
       "      <td>Ignore the Wall Street types, you are here for the food. Baked clams, gnocchi, house veal. Old school New York Italian in a gorgeous saloon style space.</td>\n",
       "      <td>5bc9fa3f5455b2002c84f781</td>\n",
       "      <td>2018-10-19T15:37:35.000Z</td>\n",
       "    </tr>\n",
       "    <tr>\n",
       "      <th>4</th>\n",
       "      <td>Old world comfort where you can enjoy veal chop alla salvia, lobster fra diavolo and branzino al forno. You can get our free Downtown dining guide at http://www.downtownny.com/mapsguides/</td>\n",
       "      <td>4c7ac41f278eb713ae245c80</td>\n",
       "      <td>2010-08-29T20:33:35.000Z</td>\n",
       "    </tr>\n",
       "    <tr>\n",
       "      <th>5</th>\n",
       "      <td>Everything is amazing in this place.</td>\n",
       "      <td>5a9a1dc70d173f60ff04a4e7</td>\n",
       "      <td>2018-03-03T04:00:07.000Z</td>\n",
       "    </tr>\n",
       "    <tr>\n",
       "      <th>6</th>\n",
       "      <td>Alana is awesome! She makes you feel at home no matter how far you have flown.</td>\n",
       "      <td>4f289fdfe4b0adf39f89a832</td>\n",
       "      <td>2012-02-01T02:13:51.000Z</td>\n",
       "    </tr>\n",
       "    <tr>\n",
       "      <th>7</th>\n",
       "      <td>New York strip to die for</td>\n",
       "      <td>563e0df7cd100e587973828a</td>\n",
       "      <td>2015-11-07T14:43:03.000Z</td>\n",
       "    </tr>\n",
       "    <tr>\n",
       "      <th>8</th>\n",
       "      <td>Sadly, Ecco is shuttered after more than 35 years in TriBeCa</td>\n",
       "      <td>5e1e7410ccf4480006a2701d</td>\n",
       "      <td>2020-01-15T02:08:16.000Z</td>\n",
       "    </tr>\n",
       "    <tr>\n",
       "      <th>9</th>\n",
       "      <td>Sadly, Ecco’s last day after decades in Chambers was December 31, 2019. New landlord, untenable rent increase.</td>\n",
       "      <td>5e0c9e6fa1849300078365c1</td>\n",
       "      <td>2020-01-01T13:28:15.000Z</td>\n",
       "    </tr>\n",
       "    <tr>\n",
       "      <th>10</th>\n",
       "      <td>Service. Food and drinks. Love it 100%👍👍👍</td>\n",
       "      <td>53e54fd6498ef3c011579655</td>\n",
       "      <td>2014-08-08T22:31:50.000Z</td>\n",
       "    </tr>\n",
       "    <tr>\n",
       "      <th>11</th>\n",
       "      <td>It was ok! Nothing excepcional, but you can say that is a honest service.</td>\n",
       "      <td>528978d811d2f94177d1fcdc</td>\n",
       "      <td>2013-11-18T02:18:00.000Z</td>\n",
       "    </tr>\n",
       "    <tr>\n",
       "      <th>12</th>\n",
       "      <td>lobster ravioli all the way but most importantly, pay attention to their specials..</td>\n",
       "      <td>4ca4e1fa965c9c744604c7fa</td>\n",
       "      <td>2010-09-30T19:16:10.000Z</td>\n",
       "    </tr>\n",
       "    <tr>\n",
       "      <th>13</th>\n",
       "      <td>The food and service is excellent.</td>\n",
       "      <td>52f7977a11d262c1858cc523</td>\n",
       "      <td>2014-02-09T14:58:02.000Z</td>\n",
       "    </tr>\n",
       "    <tr>\n",
       "      <th>14</th>\n",
       "      <td>Veal Milanese is classic and very good.</td>\n",
       "      <td>4bce651c70c603bbf29b98b4</td>\n",
       "      <td>2010-04-21T02:38:20.000Z</td>\n",
       "    </tr>\n",
       "  </tbody>\n",
       "</table>\n",
       "</div>"
      ],
      "text/plain": [
       "                                                                                                                                                                                                     text  \\\n",
       "0   A+ Italian food! Trust me on this: my mom’s side of the family is 100% Italian. I was born and bred to know good pasta when I see it, and Ecco is one of my all-time NYC favorites                      \n",
       "1   Excellent food!! Osso bucco special one of the best I ever had! Lobster ravioli with porcini mushroomhomemade Italian cheesecake, tiramisu and napoleons...calamari fra diavolo was sautéed not fried   \n",
       "2   Service was truly excellent- attentive, quick, & friendly. Food was equally amazing- particularly calamari and pollo alla scarpiello. The sauces were incredibly flavorful. Great wine list too! A+++   \n",
       "3   Ignore the Wall Street types, you are here for the food. Baked clams, gnocchi, house veal. Old school New York Italian in a gorgeous saloon style space.                                                \n",
       "4   Old world comfort where you can enjoy veal chop alla salvia, lobster fra diavolo and branzino al forno. You can get our free Downtown dining guide at http://www.downtownny.com/mapsguides/             \n",
       "5   Everything is amazing in this place.                                                                                                                                                                    \n",
       "6   Alana is awesome! She makes you feel at home no matter how far you have flown.                                                                                                                          \n",
       "7   New York strip to die for                                                                                                                                                                               \n",
       "8   Sadly, Ecco is shuttered after more than 35 years in TriBeCa                                                                                                                                            \n",
       "9   Sadly, Ecco’s last day after decades in Chambers was December 31, 2019. New landlord, untenable rent increase.                                                                                          \n",
       "10  Service. Food and drinks. Love it 100%👍👍👍                                                                                                                                                               \n",
       "11  It was ok! Nothing excepcional, but you can say that is a honest service.                                                                                                                               \n",
       "12  lobster ravioli all the way but most importantly, pay attention to their specials..                                                                                                                     \n",
       "13  The food and service is excellent.                                                                                                                                                                      \n",
       "14  Veal Milanese is classic and very good.                                                                                                                                                                 \n",
       "\n",
       "                          id                created_at  \n",
       "0   5ab1cb46c9a517174651d3fe  2018-03-21T03:02:30.000Z  \n",
       "1   5cb7051b180b910039f90625  2019-04-17T10:51:07.000Z  \n",
       "2   5247cb68498eeac13eb4c3e1  2013-09-29T06:40:40.000Z  \n",
       "3   5bc9fa3f5455b2002c84f781  2018-10-19T15:37:35.000Z  \n",
       "4   4c7ac41f278eb713ae245c80  2010-08-29T20:33:35.000Z  \n",
       "5   5a9a1dc70d173f60ff04a4e7  2018-03-03T04:00:07.000Z  \n",
       "6   4f289fdfe4b0adf39f89a832  2012-02-01T02:13:51.000Z  \n",
       "7   563e0df7cd100e587973828a  2015-11-07T14:43:03.000Z  \n",
       "8   5e1e7410ccf4480006a2701d  2020-01-15T02:08:16.000Z  \n",
       "9   5e0c9e6fa1849300078365c1  2020-01-01T13:28:15.000Z  \n",
       "10  53e54fd6498ef3c011579655  2014-08-08T22:31:50.000Z  \n",
       "11  528978d811d2f94177d1fcdc  2013-11-18T02:18:00.000Z  \n",
       "12  4ca4e1fa965c9c744604c7fa  2010-09-30T19:16:10.000Z  \n",
       "13  52f7977a11d262c1858cc523  2014-02-09T14:58:02.000Z  \n",
       "14  4bce651c70c603bbf29b98b4  2010-04-21T02:38:20.000Z  "
      ]
     },
     "execution_count": 76,
     "metadata": {},
     "output_type": "execute_result"
    }
   ],
   "source": [
    "pd.set_option('display.max_colwidth', -1)\n",
    "\n",
    "tips_df = json_normalize(tips) # consejos json normalizados\n",
    "\n",
    "# columnas a mantener\n",
    "#filtered_columns = ['text', 'agreeCount', 'disagreeCount', 'id', 'user.firstName', 'user.lastName', 'user.id']\n",
    "filtered_columns = ['text', 'id', 'created_at']\n",
    "tips_filtered = tips_df.loc[:, filtered_columns]\n",
    "\n",
    "# mostrar consejos\n",
    "tips_filtered.reindex()"
   ]
  },
  {
   "cell_type": "markdown",
   "metadata": {
    "button": false,
    "new_sheet": false,
    "run_control": {
     "read_only": false
    }
   },
   "source": [
    "Recuerde que debido a que estamos usando una cuenta personal de desarrollador solo podemos acceder a 2 de los 15 consejos del restaurante.\n"
   ]
  },
  {
   "cell_type": "markdown",
   "metadata": {
    "button": false,
    "new_sheet": false,
    "run_control": {
     "read_only": false
    }
   },
   "source": []
  },
  {
   "cell_type": "markdown",
   "metadata": {
    "button": false,
    "new_sheet": false,
    "run_control": {
     "read_only": false
    }
   },
   "source": [
    "<a id=\"item3\"></a>\n"
   ]
  },
  {
   "cell_type": "markdown",
   "metadata": {
    "button": false,
    "new_sheet": false,
    "run_control": {
     "read_only": false
    }
   },
   "source": [
    "## 3. Buscar a un Usuario de FourSquare\n",
    "\n",
    "> `https://api.foursquare.com/v2/users/`**USER_ID**`?client_id=`**CLIENT_ID**`&client_secret=`**CLIENT_SECRET**`&v=`**VERSION**\n"
   ]
  },
  {
   "cell_type": "markdown",
   "metadata": {
    "button": false,
    "new_sheet": false,
    "run_control": {
     "read_only": false
    }
   },
   "source": [
    "### Definir la URL, enviar la solicitud GET y mostrar las características asociadas con el usuario\n"
   ]
  },
  {
   "cell_type": "code",
   "execution_count": null,
   "metadata": {
    "button": false,
    "collapsed": false,
    "jupyter": {
     "outputs_hidden": false
    },
    "new_sheet": false,
    "run_control": {
     "read_only": false
    }
   },
   "outputs": [],
   "source": [
    "idnumber = '48454224' # ID del usuario con mayor número de aceptación y perfil completo \n",
    "\n",
    "url = 'https://api.foursquare.com/v2/users/{}/tips?client_id={}&client_secret={}&v={}'.format(idnumber, CLIENT_ID, CLIENT_SECRET, VERSION) # define URL\n",
    "\n",
    "# enviar solicitud GET\n",
    "results = requests.get(url).json()\n",
    "\n",
    "#user_data = results['response']['user']\n",
    "user_data=results['response']['tips']['items'][0]['venue']['photos']['groups'][0]['items']#['items']\n",
    "# mostrar características asociadas con el usuario\n",
    "#user_data.keys()\n",
    "#results\n",
    "pd.set_option('display.max_colwidth', -1)\n",
    "\n",
    "users_df = json_normalize(user_data)\n",
    "\n",
    "# filtrar columnas\n",
    "filtered_columns = ['id','user.id','user.firstName','user.lastName']\n",
    "tips_filtered = users_df.loc[:, filtered_columns]\n",
    "\n",
    "# mostrar consejos del usuario\n",
    "df=tips_filtered\n",
    "df\n",
    "#url"
   ]
  },
  {
   "cell_type": "code",
   "execution_count": null,
   "metadata": {},
   "outputs": [],
   "source": [
    "\n",
    "g=df.loc[df['user.id'] == '133773133']\n",
    "print('First Name: ' + g['user.firstName'])\n",
    "print('Last Name: ' + g['user.lastName'])\n"
   ]
  },
  {
   "cell_type": "markdown",
   "metadata": {},
   "source": [
    "### Obtener la Imagen del Perfil del Usuario\n"
   ]
  },
  {
   "cell_type": "code",
   "execution_count": null,
   "metadata": {},
   "outputs": [],
   "source": [
    "# 1. tomar el prefijo de la foto\n",
    "# 2. tomar el sufijo de la foto\n",
    "# 3. concatenarlos utilizando el tamaño de la imagen\n",
    "Image(url='https://fastly.4sqi.net/img/general/540x920/133773133_ODR5Au05ENkSyu3xxfV3VOfCa0idDfm9Q4n8YbhZDRQ.jpg')"
   ]
  },
  {
   "cell_type": "markdown",
   "metadata": {
    "button": false,
    "new_sheet": false,
    "run_control": {
     "read_only": false
    }
   },
   "source": [
    "¡Wow! Parece ser que Nick es un usuario muy activo en FourSquare con mas de 250 consejos.\n"
   ]
  },
  {
   "cell_type": "markdown",
   "metadata": {
    "button": false,
    "new_sheet": false,
    "run_control": {
     "read_only": false
    }
   },
   "source": [
    "### Obtener las Recomendaciones del usuario\n"
   ]
  },
  {
   "cell_type": "code",
   "execution_count": 78,
   "metadata": {},
   "outputs": [
    {
     "data": {
      "text/plain": [
       "{'message': \"Endpoint '/v3/users/484542633/tips' not found.\"}"
      ]
     },
     "execution_count": 78,
     "metadata": {},
     "output_type": "execute_result"
    }
   ],
   "source": [
    "# definir la URL de las recomendaciones\n",
    "user_id='484542633'\n",
    "url = 'https://api.foursquare.com/v3/users/{}/tips?client_id={}&client_secret={}&v={}&limit={}'.format(user_id, CLIENT_ID, CLIENT_SECRET, VERSION, limit)\n",
    "\n",
    "# enviar la solicitud GET y obtener las recomendaciones del usuario\n",
    "results = requests.request(\"GET\", url, headers=headers).json()\n",
    "tips = results\n",
    "tips"
   ]
  },
  {
   "cell_type": "code",
   "execution_count": 77,
   "metadata": {
    "button": false,
    "collapsed": false,
    "jupyter": {
     "outputs_hidden": false
    },
    "new_sheet": false,
    "run_control": {
     "read_only": false
    }
   },
   "outputs": [
    {
     "ename": "KeyError",
     "evalue": "'response'",
     "output_type": "error",
     "traceback": [
      "\u001b[0;31m---------------------------------------------------------------------------\u001b[0m",
      "\u001b[0;31mKeyError\u001b[0m                                  Traceback (most recent call last)",
      "\u001b[0;32m/tmp/ipykernel_69/1239125697.py\u001b[0m in \u001b[0;36m<module>\u001b[0;34m\u001b[0m\n\u001b[1;32m      5\u001b[0m \u001b[0;31m# enviar la solicitud GET y obtener las recomendaciones del usuario\u001b[0m\u001b[0;34m\u001b[0m\u001b[0;34m\u001b[0m\u001b[0;34m\u001b[0m\u001b[0m\n\u001b[1;32m      6\u001b[0m \u001b[0mresults\u001b[0m \u001b[0;34m=\u001b[0m \u001b[0mrequests\u001b[0m\u001b[0;34m.\u001b[0m\u001b[0mrequest\u001b[0m\u001b[0;34m(\u001b[0m\u001b[0;34m\"GET\"\u001b[0m\u001b[0;34m,\u001b[0m \u001b[0murl\u001b[0m\u001b[0;34m,\u001b[0m \u001b[0mheaders\u001b[0m\u001b[0;34m=\u001b[0m\u001b[0mheaders\u001b[0m\u001b[0;34m)\u001b[0m\u001b[0;34m.\u001b[0m\u001b[0mjson\u001b[0m\u001b[0;34m(\u001b[0m\u001b[0;34m)\u001b[0m\u001b[0;34m\u001b[0m\u001b[0;34m\u001b[0m\u001b[0m\n\u001b[0;32m----> 7\u001b[0;31m \u001b[0mtips\u001b[0m \u001b[0;34m=\u001b[0m \u001b[0mresults\u001b[0m\u001b[0;34m[\u001b[0m\u001b[0;34m'response'\u001b[0m\u001b[0;34m]\u001b[0m\u001b[0;34m[\u001b[0m\u001b[0;34m'tips'\u001b[0m\u001b[0;34m]\u001b[0m\u001b[0;34m[\u001b[0m\u001b[0;34m'items'\u001b[0m\u001b[0;34m]\u001b[0m\u001b[0;34m\u001b[0m\u001b[0;34m\u001b[0m\u001b[0m\n\u001b[0m\u001b[1;32m      8\u001b[0m \u001b[0;34m\u001b[0m\u001b[0m\n\u001b[1;32m      9\u001b[0m \u001b[0;31m# dar formato al ancho de la columna\u001b[0m\u001b[0;34m\u001b[0m\u001b[0;34m\u001b[0m\u001b[0;34m\u001b[0m\u001b[0m\n",
      "\u001b[0;31mKeyError\u001b[0m: 'response'"
     ]
    }
   ],
   "source": [
    "# definir la URL de las recomendaciones\n",
    "user_id='484542633'\n",
    "url = 'https://api.foursquare.com/v3/users/{}/tips?client_id={}&client_secret={}&v={}&limit={}'.format(user_id, CLIENT_ID, CLIENT_SECRET, VERSION, limit)\n",
    "\n",
    "# enviar la solicitud GET y obtener las recomendaciones del usuario\n",
    "results = requests.request(\"GET\", url, headers=headers).json()\n",
    "tips = results['response']['tips']['items']\n",
    "\n",
    "# dar formato al ancho de la columna\n",
    "pd.set_option('display.max_colwidth', -1)\n",
    "\n",
    "tips_df = json_normalize(tips)\n",
    "\n",
    "# filtrar columnas\n",
    "filtered_columns = ['text', 'agreeCount', 'disagreeCount', 'id']\n",
    "tips_filtered = tips_df.loc[:, filtered_columns]\n",
    "\n",
    "# mostrar las recomendaciones del usuario\n",
    "tips_filtered"
   ]
  },
  {
   "cell_type": "markdown",
   "metadata": {
    "button": false,
    "new_sheet": false,
    "run_control": {
     "read_only": false
    }
   },
   "source": [
    "#### Obtengamos el lugar para la recomendación con el mayor número de aceptaciones\n"
   ]
  },
  {
   "cell_type": "code",
   "execution_count": null,
   "metadata": {
    "button": false,
    "collapsed": false,
    "jupyter": {
     "outputs_hidden": false
    },
    "new_sheet": false,
    "run_control": {
     "read_only": false
    }
   },
   "outputs": [],
   "source": [
    "tip_id = '5ab5575d73fe2516ad8f363b' # id de la recomendación\n",
    "\n",
    "# definir la URL\n",
    "url = 'http://api.foursquare.com/v2/tips/{}?client_id={}&client_secret={}&v={}'.format(tip_id, CLIENT_ID, CLIENT_SECRET, VERSION)\n",
    "\n",
    "# enviar la solicitud GET y examinar los resultados\n",
    "result = requests.get(url).json()\n",
    "print(result['response']['tip']['venue']['name'])\n",
    "print(result['response']['tip']['venue']['location'])"
   ]
  },
  {
   "cell_type": "markdown",
   "metadata": {
    "button": false,
    "new_sheet": false,
    "run_control": {
     "read_only": false
    }
   },
   "source": []
  },
  {
   "cell_type": "markdown",
   "metadata": {
    "button": false,
    "new_sheet": false,
    "run_control": {
     "read_only": false
    }
   },
   "source": [
    "## 4. Explorar una Ubicación\n",
    "\n",
    "> `https://api.foursquare.com/v2/venues/`**explore**`?client_id=`**CLIENT_ID**`&client_secret=`**CLIENT_SECRET**`&ll=`**LATITUDE**`,`**LONGITUDE**`&v=`**VERSION**`&limit=`**LIMIT**\n"
   ]
  },
  {
   "cell_type": "markdown",
   "metadata": {
    "button": false,
    "new_sheet": false,
    "run_control": {
     "read_only": false
    }
   },
   "source": [
    "#### Ha definido su platillo gourmet en Ecco y siente curiosidad acerca de los sitios populares alrededor del restaurante. Para explorar el área, empecemos por obtener los valores de latitud y la longitud del Restaurant Ecco.\n"
   ]
  },
  {
   "cell_type": "code",
   "execution_count": 79,
   "metadata": {
    "button": false,
    "new_sheet": false,
    "run_control": {
     "read_only": false
    },
    "tags": []
   },
   "outputs": [],
   "source": [
    "latitude = 40.715337\n",
    "longitude = -74.008848"
   ]
  },
  {
   "cell_type": "markdown",
   "metadata": {
    "button": false,
    "new_sheet": false,
    "run_control": {
     "read_only": false
    }
   },
   "source": [
    "#### Definir una URL\n"
   ]
  },
  {
   "cell_type": "code",
   "execution_count": 84,
   "metadata": {
    "button": false,
    "collapsed": false,
    "jupyter": {
     "outputs_hidden": false
    },
    "new_sheet": false,
    "run_control": {
     "read_only": false
    }
   },
   "outputs": [
    {
     "data": {
      "text/plain": [
       "'https://api.foursquare.com/v3/places/search?client_id=55S2ZJJJVK3T1D1ZDNQLHEAH15HG4AHHMYJZNETKJK5EXKBB&client_secret=NRH3ODLT453CFZY2C0P33DJEDKCXROHBNC1OQSMT52ST3TD4&ll=40.715337,-74.008848&v=20180604&radius=500&limit=30'"
      ]
     },
     "execution_count": 84,
     "metadata": {},
     "output_type": "execute_result"
    }
   ],
   "source": [
    "url = 'https://api.foursquare.com/v3/places/search?client_id={}&client_secret={}&ll={},{}&v={}&radius={}&limit={}'.format(CLIENT_ID, CLIENT_SECRET, latitude, longitude, VERSION, radius, LIMIT)\n",
    "url"
   ]
  },
  {
   "cell_type": "markdown",
   "metadata": {
    "button": false,
    "new_sheet": false,
    "run_control": {
     "read_only": false
    }
   },
   "source": [
    "#### Enviar una solicitud GET y examinar los resultados\n"
   ]
  },
  {
   "cell_type": "code",
   "execution_count": 81,
   "metadata": {
    "button": false,
    "new_sheet": false,
    "run_control": {
     "read_only": false
    },
    "tags": []
   },
   "outputs": [],
   "source": [
    "import requests"
   ]
  },
  {
   "cell_type": "code",
   "execution_count": 86,
   "metadata": {
    "button": false,
    "collapsed": false,
    "jupyter": {
     "outputs_hidden": false
    },
    "new_sheet": false,
    "run_control": {
     "read_only": false
    }
   },
   "outputs": [
    {
     "ename": "AttributeError",
     "evalue": "'dict' object has no attribute 'head'",
     "output_type": "error",
     "traceback": [
      "\u001b[0;31m---------------------------------------------------------------------------\u001b[0m",
      "\u001b[0;31mAttributeError\u001b[0m                            Traceback (most recent call last)",
      "\u001b[0;32m/tmp/ipykernel_69/1271045832.py\u001b[0m in \u001b[0;36m<module>\u001b[0;34m\u001b[0m\n\u001b[1;32m      1\u001b[0m \u001b[0mresults\u001b[0m \u001b[0;34m=\u001b[0m \u001b[0mrequests\u001b[0m\u001b[0;34m.\u001b[0m\u001b[0mrequest\u001b[0m\u001b[0;34m(\u001b[0m\u001b[0;34m\"GET\"\u001b[0m\u001b[0;34m,\u001b[0m \u001b[0murl\u001b[0m\u001b[0;34m,\u001b[0m \u001b[0mheaders\u001b[0m\u001b[0;34m=\u001b[0m\u001b[0mheaders\u001b[0m\u001b[0;34m)\u001b[0m\u001b[0;34m.\u001b[0m\u001b[0mjson\u001b[0m\u001b[0;34m(\u001b[0m\u001b[0;34m)\u001b[0m\u001b[0;34m\u001b[0m\u001b[0;34m\u001b[0m\u001b[0m\n\u001b[0;32m----> 2\u001b[0;31m \u001b[0mresults\u001b[0m\u001b[0;34m.\u001b[0m\u001b[0mhead\u001b[0m\u001b[0;34m(\u001b[0m\u001b[0;34m)\u001b[0m\u001b[0;34m\u001b[0m\u001b[0;34m\u001b[0m\u001b[0m\n\u001b[0m\u001b[1;32m      3\u001b[0m \u001b[0;31m#'There are {} around Ecco restaurant.'.format(len(results['response']['groups'][0]['items']))\u001b[0m\u001b[0;34m\u001b[0m\u001b[0;34m\u001b[0m\u001b[0;34m\u001b[0m\u001b[0m\n",
      "\u001b[0;31mAttributeError\u001b[0m: 'dict' object has no attribute 'head'"
     ]
    }
   ],
   "source": [
    "results = requests.request(\"GET\", url, headers=headers).json()\n",
    "results.head()\n",
    "#'There are {} around Ecco restaurant.'.format(len(results['response']['groups'][0]['items']))"
   ]
  },
  {
   "cell_type": "markdown",
   "metadata": {
    "button": false,
    "new_sheet": false,
    "run_control": {
     "read_only": false
    }
   },
   "source": [
    "#### Obtener la parte relevante del objeto JSON\n"
   ]
  },
  {
   "cell_type": "code",
   "execution_count": null,
   "metadata": {
    "button": false,
    "collapsed": false,
    "jupyter": {
     "outputs_hidden": false
    },
    "new_sheet": false,
    "run_control": {
     "read_only": false
    }
   },
   "outputs": [],
   "source": [
    "items = results['response']['groups'][0]['items']\n",
    "items[0]"
   ]
  },
  {
   "cell_type": "markdown",
   "metadata": {
    "button": false,
    "new_sheet": false,
    "run_control": {
     "read_only": false
    }
   },
   "source": [
    "#### Procesar el objeto JSON, convetirlo y limpiar el dataframe\n"
   ]
  },
  {
   "cell_type": "code",
   "execution_count": null,
   "metadata": {
    "button": false,
    "collapsed": false,
    "jupyter": {
     "outputs_hidden": false
    },
    "new_sheet": false,
    "run_control": {
     "read_only": false
    }
   },
   "outputs": [],
   "source": [
    "dataframe = json_normalize(items) # JSON\n",
    "\n",
    "# filtrar columnas\n",
    "filtered_columns = ['venue.name', 'venue.categories'] + [col for col in dataframe.columns if col.startswith('venue.location.')] + ['venue.id']\n",
    "dataframe_filtered = dataframe.loc[:, filtered_columns]\n",
    "\n",
    "# filtrar la categoría para cada columna\n",
    "dataframe_filtered['venue.categories'] = dataframe_filtered.apply(get_category_type, axis=1)\n",
    "\n",
    "# limpiar columnas\n",
    "dataframe_filtered.columns = [col.split('.')[-1] for col in dataframe_filtered.columns]\n",
    "\n",
    "dataframe_filtered.head(10)"
   ]
  },
  {
   "cell_type": "markdown",
   "metadata": {
    "button": false,
    "new_sheet": false,
    "run_control": {
     "read_only": false
    }
   },
   "source": [
    "#### Visualicemos estos elementos en el mapa alrededor de nuestra ubicación\n"
   ]
  },
  {
   "cell_type": "code",
   "execution_count": null,
   "metadata": {
    "button": false,
    "collapsed": false,
    "jupyter": {
     "outputs_hidden": false
    },
    "new_sheet": false,
    "run_control": {
     "read_only": false
    }
   },
   "outputs": [],
   "source": [
    "venues_map = folium.Map(location=[latitude, longitude], zoom_start=15) # generate map centred around Ecco\n",
    "\n",
    "\n",
    "# Añadir Ecco como una marca circular roja\n",
    "folium.CircleMarker(\n",
    "    [latitude, longitude],\n",
    "    radius=10,\n",
    "    popup='Ecco',\n",
    "    fill=True,\n",
    "    color='red',\n",
    "    fill_color='red',\n",
    "    fill_opacity=0.6\n",
    "    ).add_to(venues_map)\n",
    "\n",
    "\n",
    "# añadir sitios populares al mapa como marcas circulares azules\n",
    "for lat, lng, label in zip(dataframe_filtered.lat, dataframe_filtered.lng, dataframe_filtered.categories):\n",
    "    folium.CircleMarker(\n",
    "        [lat, lng],\n",
    "        radius=5,\n",
    "        popup=label,\n",
    "        fill=True,\n",
    "        color='blue',\n",
    "        fill_color='blue',\n",
    "        fill_opacity=0.6\n",
    "        ).add_to(venues_map)\n",
    "\n",
    "# mostrar mapa\n",
    "venues_map"
   ]
  },
  {
   "cell_type": "markdown",
   "metadata": {
    "button": false,
    "new_sheet": false,
    "run_control": {
     "read_only": false
    }
   },
   "source": []
  },
  {
   "cell_type": "markdown",
   "metadata": {
    "button": false,
    "new_sheet": false,
    "run_control": {
     "read_only": false
    }
   },
   "source": [
    "<a id=\"item5\"></a>\n"
   ]
  },
  {
   "cell_type": "markdown",
   "metadata": {
    "button": false,
    "new_sheet": false,
    "run_control": {
     "read_only": false
    }
   },
   "source": [
    "## 5. Explorar Sitios Populares\n",
    "\n",
    "> `https://api.foursquare.com/v2/venues/`**trending**`?client_id=`**CLIENT_ID**`&client_secret=`**CLIENT_SECRET**`&ll=`**LATITUDE**`,`**LONGITUDE**`&v=`**VERSION**\n"
   ]
  },
  {
   "cell_type": "markdown",
   "metadata": {
    "button": false,
    "new_sheet": false,
    "run_control": {
     "read_only": false
    }
   },
   "source": [
    "#### Ahora, en vez de explorar  el área alrededor de Ecco, es de interes saber los sitios que son populares durante su comida, esto es, los lugares con el mayor tráfico peatonal. Hagamoslo y obtengamos los sitios populares alrededor de Ecco.\n"
   ]
  },
  {
   "cell_type": "code",
   "execution_count": null,
   "metadata": {
    "button": false,
    "collapsed": false,
    "jupyter": {
     "outputs_hidden": false
    },
    "new_sheet": false,
    "run_control": {
     "read_only": false
    }
   },
   "outputs": [],
   "source": [
    "# definir la URL\n",
    "url = 'https://api.foursquare.com/v2/venues/trending?client_id={}&client_secret={}&ll={},{}&v={}'.format(CLIENT_ID, CLIENT_SECRET, latitude, longitude, VERSION)\n",
    "\n",
    "# enviar la solicitud GET y obtener los sitios de moda\n",
    "results = requests.get(url).json()\n",
    "results"
   ]
  },
  {
   "cell_type": "markdown",
   "metadata": {
    "button": false,
    "new_sheet": false,
    "run_control": {
     "read_only": false
    }
   },
   "source": [
    "### Revisar si algún sitio esta de moda en este momento\n"
   ]
  },
  {
   "cell_type": "code",
   "execution_count": null,
   "metadata": {
    "button": false,
    "collapsed": true,
    "jupyter": {
     "outputs_hidden": true
    },
    "new_sheet": false,
    "run_control": {
     "read_only": false
    }
   },
   "outputs": [],
   "source": [
    "if len(results['response']['venues']) == 0:\n",
    "    trending_venues_df = 'No trending venues are available at the moment!'\n",
    "    \n",
    "else:\n",
    "    trending_venues = results['response']['venues']\n",
    "    trending_venues_df = json_normalize(trending_venues)\n",
    "\n",
    "    # filtrar columnas\n",
    "    columns_filtered = ['name', 'categories'] + ['location.distance', 'location.city', 'location.postalCode', 'location.state', 'location.country', 'location.lat', 'location.lng']\n",
    "    trending_venues_df = trending_venues_df.loc[:, columns_filtered]\n",
    "\n",
    "    # filtrar la categoría para cada fila\n",
    "    trending_venues_df['categories'] = trending_venues_df.apply(get_category_type, axis=1)"
   ]
  },
  {
   "cell_type": "code",
   "execution_count": null,
   "metadata": {
    "button": false,
    "collapsed": false,
    "jupyter": {
     "outputs_hidden": false
    },
    "new_sheet": false,
    "run_control": {
     "read_only": false
    }
   },
   "outputs": [],
   "source": [
    "# mostrar los sitios populares\n",
    "trending_venues_df"
   ]
  },
  {
   "cell_type": "markdown",
   "metadata": {
    "button": false,
    "new_sheet": false,
    "run_control": {
     "read_only": false
    }
   },
   "source": [
    "Ahora, dependiendo de cuando usted ejecute el codigo anterior, podría obtener distintos sitios ya que la información de tráfico peatonal se obtiene en tiempo real.\n"
   ]
  },
  {
   "cell_type": "markdown",
   "metadata": {
    "button": false,
    "new_sheet": false,
    "run_control": {
     "read_only": false
    }
   },
   "source": [
    "### Visuaizar sitios populares\n"
   ]
  },
  {
   "cell_type": "code",
   "execution_count": null,
   "metadata": {
    "button": false,
    "collapsed": false,
    "jupyter": {
     "outputs_hidden": false
    },
    "new_sheet": false,
    "run_control": {
     "read_only": false
    }
   },
   "outputs": [],
   "source": [
    "if len(results['response']['venues']) == 0:\n",
    "    venues_map = 'Cannot generate visual as no trending venues are available at the moment!'\n",
    "\n",
    "else:\n",
    "    venues_map = folium.Map(location=[latitude, longitude], zoom_start=15) # generate map centred around Ecco\n",
    "\n",
    "\n",
    "    # añadir Ecco como una marca circular roja\n",
    "    folium.CircleMarker(\n",
    "        [latitude, longitude],\n",
    "        radius=10,\n",
    "        popup='Ecco',\n",
    "        fill=True,\n",
    "        color='red',\n",
    "        fill_color='red',\n",
    "        fill_opacity=0.6\n",
    "    ).add_to(venues_map)\n",
    "\n",
    "\n",
    "    # añadir los sitios populares como marcas circulares azules\n",
    "    for lat, lng, label in zip(trending_venues_df['location.lat'], trending_venues_df['location.lng'], trending_venues_df['name']):\n",
    "        folium.CircleMarker(\n",
    "            [lat, lng],\n",
    "            radius=5,\n",
    "            poup=label,\n",
    "            fill=True,\n",
    "            color='blue',\n",
    "            fill_color='blue',\n",
    "            fill_opacity=0.6\n",
    "        ).add_to(venues_map)"
   ]
  },
  {
   "cell_type": "code",
   "execution_count": null,
   "metadata": {
    "button": false,
    "collapsed": false,
    "jupyter": {
     "outputs_hidden": false
    },
    "new_sheet": false,
    "run_control": {
     "read_only": false
    },
    "scrolled": true
   },
   "outputs": [],
   "source": [
    "# mostrar el mapa\n",
    "venues_map"
   ]
  },
  {
   "cell_type": "markdown",
   "metadata": {
    "button": false,
    "new_sheet": false,
    "run_control": {
     "read_only": false
    }
   },
   "source": [
    "<a id=\"item6\"></a>\n"
   ]
  },
  {
   "cell_type": "markdown",
   "metadata": {
    "button": false,
    "new_sheet": false,
    "run_control": {
     "read_only": false
    }
   },
   "source": []
  },
  {
   "cell_type": "markdown",
   "metadata": {
    "button": false,
    "new_sheet": false,
    "run_control": {
     "read_only": false
    }
   },
   "source": [
    "### Gracias por terminar este laboratorio\n",
    "\n",
    "Este cuaderno fue creado por [Alex Aklson](https://www.linkedin.com/in/aklson?utm_medium=Exinfluencer&utm_source=Exinfluencer&utm_content=000026UJ&utm_term=10006555&utm_id=NA-SkillsNetwork-Channel-SkillsNetworkCoursesIBMDeveloperSkillsNetworkDS0701ESCoursera21685115-2022-01-01&cm_mmc=Email_Newsletter-\\_-Developer_Ed%2BTech-\\_-WW_WW-\\_-SkillsNetwork-Courses-IBMDeveloperSkillsNetwork-DS0701EN-SkillsNetwork-21253531&cm_mmca1=000026UJ&cm_mmca2=10006555&cm_mmca3=M12345678&cvosrc=email.Newsletter.M12345678&cvo_campaign=000026UJ). Espero que haya encontrado este laboratorio de su interes y educativo. Tómese la libertad de contactar conmigo para cualquier duda o aclaración.\n",
    "\n",
    "Este cuaderno fue modificado por Nayef Abou Tayoun ([https://www.linkedin.com/in/nayefaboutayoun/](https://www.linkedin.com/in/nayefaboutayoun?utm_medium=Exinfluencer&utm_source=Exinfluencer&utm_content=000026UJ&utm_term=10006555&utm_id=NA-SkillsNetwork-Channel-SkillsNetworkCoursesIBMDeveloperSkillsNetworkDS0701ESCoursera21685115-2022-01-01&cm_mmc=Email_Newsletter-\\_-Developer_Ed%2BTech-\\_-WW_WW-\\_-SkillsNetwork-Courses-IBMDeveloperSkillsNetwork-DS0701EN-SkillsNetwork-21253531&cm_mmca1=000026UJ&cm_mmca2=10006555&cm_mmca3=M12345678&cvosrc=email.Newsletter.M12345678&cvo_campaign=000026UJ))\n"
   ]
  },
  {
   "cell_type": "markdown",
   "metadata": {
    "button": false,
    "new_sheet": false,
    "run_control": {
     "read_only": false
    }
   },
   "source": [
    "Este cuaderno forma parte del curso en **Coursera** llamado *Applied Data Science Capstone*. Si accede a este cuaderno desde afuera del curso, puede tomarlo en línea haciendo clic [aquí](http://cocl.us/DP0701EN_Coursera_Week2\\_LAB1).\n"
   ]
  },
  {
   "cell_type": "markdown",
   "metadata": {
    "button": false,
    "new_sheet": false,
    "run_control": {
     "read_only": false
    }
   },
   "source": [
    "<hr>\n",
    "Copyright &copy; 2018 [Cognitive Class](https://cognitiveclass.ai/?utm_source=bducopyrightlink&utm_medium=dswb&utm_campaign=bdu). This notebook and its source code are released under the terms of the [MIT License](https://bigdatauniversity.com/mit-license/).\n"
   ]
  }
 ],
 "metadata": {
  "kernelspec": {
   "display_name": "Python",
   "language": "python",
   "name": "conda-env-python-py"
  },
  "language_info": {
   "codemirror_mode": {
    "name": "ipython",
    "version": 3
   },
   "file_extension": ".py",
   "mimetype": "text/x-python",
   "name": "python",
   "nbconvert_exporter": "python",
   "pygments_lexer": "ipython3",
   "version": "3.7.12"
  },
  "widgets": {
   "state": {},
   "version": "1.1.2"
  }
 },
 "nbformat": 4,
 "nbformat_minor": 4
}
